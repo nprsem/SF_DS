{
  "nbformat": 4,
  "nbformat_minor": 0,
  "metadata": {
    "colab": {
      "name": "SF_DS_module_0.ipynb",
      "provenance": [],
      "collapsed_sections": [],
      "toc_visible": true
    },
    "kernelspec": {
      "name": "python3",
      "display_name": "Python 3"
    }
  },
  "cells": [
    {
      "cell_type": "markdown",
      "metadata": {
        "id": "uK-5frP6m-F7"
      },
      "source": [
        "0.3. Итоговое задание\n",
        "---\n",
        "---\n",
        "\n",
        "Критерии оценки:\n",
        "---\n",
        "1. Качество кода (cоблюден стандарт pep-8, есть комментарии) — до 5 баллов.\n",
        "13. Владение функциями и строковыми величинами — до 5 баллов.\n",
        "88. Общее качество решения (насколько получилось сократить число попыток) — до 5 баллов.\n",
        "666. Код загружен на GitHub в папку module_0 — 3 балла.\n",
        "777. Работа сдана к дедлайну — 3 балла.\n",
        "\n",
        "Для того, чтобы успешно сдать проект, достаточно набрать 12 баллов."
      ]
    },
    {
      "cell_type": "markdown",
      "metadata": {
        "id": "1fmDkh07oECJ"
      },
      "source": [
        "Пример из курса\n",
        "---"
      ]
    },
    {
      "cell_type": "markdown",
      "metadata": {
        "id": "vUPEr8ozotOl"
      },
      "source": [
        "Итак, компьютер загадывает целое число от  до , и нам его нужно угадать.\n",
        "Под «угадать», конечно, подразумевается «написать программу, которая угадывает число».\n",
        "\n",
        "Внизу представлен готовый код, который вы можете запустить и сыграть с компьютером:"
      ]
    },
    {
      "cell_type": "code",
      "metadata": {
        "id": "cpRMmoramtdn",
        "outputId": "fb28e216-5f5b-4907-b18f-6f6b7067b9f6",
        "colab": {
          "base_uri": "https://localhost:8080/",
          "height": 170
        }
      },
      "source": [
        "import numpy as np\n",
        "count = 0                            # счетчик попыток\n",
        "number = np.random.randint(1,101)    # загадали число\n",
        "print (\"Загадано число от 1 до 100\")\n",
        "\n",
        "while True:                        # бесконечный цикл\n",
        "    predict = int(input())         # предполагаемое число\n",
        "    count += 1                     # плюсуем попытку\n",
        "    if number == predict: break    # выход из цикла, если угадали\n",
        "    elif number > predict: print (f\"Угадываемое число больше {predict} \")\n",
        "    elif number < predict: print (f\"Угадываемое число меньше {predict} \")\n",
        "        \n",
        "print (f\"Вы угадали число {number} за {count} попыток.\")"
      ],
      "execution_count": null,
      "outputs": [
        {
          "output_type": "stream",
          "text": [
            "Загадано число от 1 до 100\n",
            "33\n",
            "Угадываемое число больше 33 \n",
            "77\n",
            "Угадываемое число меньше 77 \n",
            "50\n",
            "Угадываемое число больше 50 \n",
            "60\n",
            "Вы угадали число 60 за 4 попыток.\n"
          ],
          "name": "stdout"
        }
      ]
    },
    {
      "cell_type": "markdown",
      "metadata": {
        "id": "iROhAp0Pox02"
      },
      "source": [
        "Автоматизируем процесс:"
      ]
    },
    {
      "cell_type": "code",
      "metadata": {
        "id": "CH-XtfDPoTxB",
        "outputId": "8d19e059-9d64-4c94-c34a-3540349ebfe7",
        "colab": {
          "base_uri": "https://localhost:8080/",
          "height": 51
        }
      },
      "source": [
        "number = np.random.randint(1,101)    # загадали число\n",
        "print (\"Загадано число от 1 до 100\")\n",
        "for count in range(1,101):         # более компактный вариант счетчика\n",
        "    if number == count: break    # выход из цикла, если угадали      \n",
        "print (f\"Вы угадали число {number} за {count} попыток.\")"
      ],
      "execution_count": null,
      "outputs": [
        {
          "output_type": "stream",
          "text": [
            "Загадано число от 1 до 100\n",
            "Вы угадали число 6 за 6 попыток.\n"
          ],
          "name": "stdout"
        }
      ]
    },
    {
      "cell_type": "markdown",
      "metadata": {
        "id": "AuYqjYYTo64z"
      },
      "source": [
        "Повторим  раз, чтоб понять, насколько быстро в среднем работает наше решение.  Для этого сразу завернем игру в функцию, чтобы её потом было проще менять и к ней обращаться."
      ]
    },
    {
      "cell_type": "code",
      "metadata": {
        "id": "aYnfUYxuonGE"
      },
      "source": [
        "def game_core_v1(number):\n",
        "    '''Просто угадываем на random, никак не используя информацию о больше или меньше.\n",
        "       Функция принимает загаданное число и возвращает число попыток'''\n",
        "    count = 0\n",
        "    while True:\n",
        "        count+=1\n",
        "        predict = np.random.randint(1,101) # предполагаемое число\n",
        "        if number == predict: \n",
        "            return(count) # выход из цикла, если угадали\n",
        "        \n",
        "        \n",
        "def score_game(game_core):\n",
        "    '''Запускаем игру 1000 раз, чтобы узнать, как быстро игра угадывает число'''\n",
        "    count_ls = []\n",
        "    np.random.seed(1)  # фиксируем RANDOM SEED, чтобы ваш эксперимент был воспроизводим!\n",
        "    random_array = np.random.randint(1,101, size=(1000))\n",
        "    for number in random_array:\n",
        "        count_ls.append(game_core(number))\n",
        "    score = int(np.mean(count_ls))\n",
        "    print(f\"Ваш алгоритм угадывает число в среднем за {score} попыток\")\n",
        "    return(score)"
      ],
      "execution_count": null,
      "outputs": []
    },
    {
      "cell_type": "code",
      "metadata": {
        "id": "agpD6dKvo9xV",
        "outputId": "d426cce1-783d-4aff-9a5e-6b7c2dc561d0",
        "colab": {
          "base_uri": "https://localhost:8080/",
          "height": 51
        }
      },
      "source": [
        "# запускаем\n",
        "score_game(game_core_v1)"
      ],
      "execution_count": null,
      "outputs": [
        {
          "output_type": "stream",
          "text": [
            "Ваш алгоритм угадывает число в среднем за 101 попыток\n"
          ],
          "name": "stdout"
        },
        {
          "output_type": "execute_result",
          "data": {
            "text/plain": [
              "101"
            ]
          },
          "metadata": {
            "tags": []
          },
          "execution_count": 126
        }
      ]
    },
    {
      "cell_type": "markdown",
      "metadata": {
        "id": "Mef0pWfMpNbe"
      },
      "source": [
        "Давайте напишем что-то, что учитывает информацию о том, что число больше или меньше нужного нам:"
      ]
    },
    {
      "cell_type": "code",
      "metadata": {
        "id": "_iQf8Oe1pFJh"
      },
      "source": [
        "def game_core_v2(number):\n",
        "    '''Сначала устанавливаем любое random число, а потом уменьшаем или увеличиваем его в зависимости от того, больше оно или меньше нужного.\n",
        "       Функция принимает загаданное число и возвращает число попыток'''\n",
        "    count = 1\n",
        "    predict = np.random.randint(1,101)\n",
        "    while number != predict:\n",
        "        count+=1\n",
        "        if number > predict: \n",
        "            predict += 1\n",
        "        elif number < predict: \n",
        "            predict -= 1\n",
        "    return(count) # выход из цикла, если угадали"
      ],
      "execution_count": null,
      "outputs": []
    },
    {
      "cell_type": "code",
      "metadata": {
        "id": "jmzjxnktpS0B",
        "outputId": "d975593d-0218-4b03-f131-6138747b8cf6",
        "colab": {
          "base_uri": "https://localhost:8080/",
          "height": 51
        }
      },
      "source": [
        "# Проверяем\n",
        "score_game(game_core_v2)"
      ],
      "execution_count": null,
      "outputs": [
        {
          "output_type": "stream",
          "text": [
            "Ваш алгоритм угадывает число в среднем за 33 попыток\n"
          ],
          "name": "stdout"
        },
        {
          "output_type": "execute_result",
          "data": {
            "text/plain": [
              "33"
            ]
          },
          "metadata": {
            "tags": []
          },
          "execution_count": 128
        }
      ]
    },
    {
      "cell_type": "markdown",
      "metadata": {
        "id": "I4rCnbkppn4b"
      },
      "source": [
        "Варианты разработанные учащимся\n",
        "---\n",
        "Пример запуска score_game(game_core_v0)"
      ]
    },
    {
      "cell_type": "code",
      "metadata": {
        "id": "9ODZYWADpaLV"
      },
      "source": [
        "#log_performance = {} #переменные для отладки \n",
        "#run_count = 0\n",
        "\n",
        "def game_core_v3(number):\n",
        "  '''Метод дихотомии. Делим интервал попалам, определяем в какой половине число, рекурсия.\n",
        "     Самый древний, простой и универсальный метод. Две проверки и следующий этап.'''\n",
        "\n",
        "  #global log_performance, run_count #для отладки\n",
        "  #run_count+=1 #для отладки\n",
        "  #if run_count%50==0: print('.',end='') #для отладки\n",
        "  #log_performance.setdefault(number,{}) #для отладки\n",
        "  \n",
        "  count = 1\n",
        "  min, max = 1, 101 #зададим начальные границы\n",
        "  while True: #ищем до победного\n",
        "    count+=1\n",
        "    predict = min + int((max-min)/2) #середина интервала\n",
        "    if number == predict: #нашли ? выходим : продолжаем\n",
        "      break \n",
        "    elif number > predict: #сдвинем границу сократив интервал вдвое\n",
        "      min = predict #в большую сторону\n",
        "    else:\n",
        "      max = predict #в меньшую сторону\n",
        "\n",
        "  #if count>10: print(number, count, min, predict, max) #для отладки\n",
        "  #log_performance[number].setdefault(count,0) #для отладки\n",
        "  #log_performance[number][count]+=1 #для отладки\n",
        "\n",
        "  return(count)"
      ],
      "execution_count": null,
      "outputs": []
    },
    {
      "cell_type": "code",
      "metadata": {
        "id": "Umsr7nKYr4zk",
        "outputId": "5d083bd7-914d-4f82-9423-733c1dc52b9f",
        "colab": {
          "base_uri": "https://localhost:8080/",
          "height": 51
        }
      },
      "source": [
        "#log_performance = {} #для отладки\n",
        "#run_count = 0 #для отладки\n",
        "score_game(game_core_v3)\n",
        "#print(log_performance) #для отладки"
      ],
      "execution_count": null,
      "outputs": [
        {
          "output_type": "stream",
          "text": [
            "Ваш алгоритм угадывает число в среднем за 6 попыток\n"
          ],
          "name": "stdout"
        },
        {
          "output_type": "execute_result",
          "data": {
            "text/plain": [
              "6"
            ]
          },
          "metadata": {
            "tags": []
          },
          "execution_count": 130
        }
      ]
    },
    {
      "cell_type": "code",
      "metadata": {
        "id": "UvKktgbDr-qJ"
      },
      "source": [
        "#log_performance = {} #переменные для отладки \n",
        "#run_count = 0\n",
        "\n",
        "def game_core_v4(number):\n",
        "  '''Метод трихотомии. Делим интервал на три части, определяем в какой части число, рекурсия.\n",
        "     Здесь уже четыре проверки (совпало с границей1, совпало с границей2, в левой трети, в правой трети).\n",
        "     Метод сходится быстрее дихотомии, но проверок больше. Если ресурсоёмкость проверки \"значительная\", то дихотомия лучше.'''\n",
        "\n",
        "  #global log_performance, run_count #для отладки\n",
        "  #run_count+=1 #для отладки\n",
        "  #if run_count%50==0: print('.',end='') #для отладки\n",
        "  #log_performance.setdefault(number,{}) #для отладки\n",
        "  \n",
        "  count = 1\n",
        "  min, max = 1, 101 #зададим начальные границы\n",
        "  while True: #ищем до победного\n",
        "\n",
        "    count+=1\n",
        "    if max-min <= 5: #дискретизация малых интервалов\n",
        "      predict1 = min+1\n",
        "      predict2 = max-1\n",
        "    else:\n",
        "      predict1 = min + int((max-min)/3) #верхняя граница левой трети\n",
        "      predict2 = max - int((max-min)/3) #нижняя граница правой трети\n",
        "\n",
        "    if number in [predict1,predict2]: #нашли ? выходим : продолжаем\n",
        "      break \n",
        "    elif number>predict2: #число в правой трети\n",
        "      min = predict2\n",
        "    elif number<predict1: #число в левой трети\n",
        "      max = predict1\n",
        "    else:\n",
        "      min, max = predict1, predict2\n",
        "\n",
        "  #print(number, count, min, predict1, predict2, max, predict1-min, predict2-predict1, max-predict2) #для отладки\n",
        "  #log_performance[number].setdefault(count,0) #для отладки\n",
        "  #log_performance[number][count]+=1 #для отладки\n",
        "\n",
        "  return(count)"
      ],
      "execution_count": null,
      "outputs": []
    },
    {
      "cell_type": "code",
      "metadata": {
        "id": "I0AfmcFu4EcL",
        "outputId": "41d4bd86-d7c7-4e05-f6dc-c5306b19db19",
        "colab": {
          "base_uri": "https://localhost:8080/",
          "height": 51
        }
      },
      "source": [
        "#log_performance = {} #для отладки\n",
        "#run_count = 0 #для отладки\n",
        "score_game(game_core_v4)\n",
        "#print(log_performance) #для отладки"
      ],
      "execution_count": null,
      "outputs": [
        {
          "output_type": "stream",
          "text": [
            "Ваш алгоритм угадывает число в среднем за 4 попыток\n"
          ],
          "name": "stdout"
        },
        {
          "output_type": "execute_result",
          "data": {
            "text/plain": [
              "4"
            ]
          },
          "metadata": {
            "tags": []
          },
          "execution_count": 132
        }
      ]
    }
  ]
}