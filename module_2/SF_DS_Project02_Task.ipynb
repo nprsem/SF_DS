{
  "nbformat": 4,
  "nbformat_minor": 0,
  "metadata": {
    "colab": {
      "name": "SF_DS_Project02_Task.ipynb",
      "provenance": [],
      "collapsed_sections": []
    },
    "kernelspec": {
      "name": "python3",
      "display_name": "Python 3"
    }
  },
  "cells": [
    {
      "cell_type": "markdown",
      "metadata": {
        "id": "jFXzFnzxFcJT"
      },
      "source": [
        "2.8. Итоговое задание\r\n",
        "==="
      ]
    },
    {
      "cell_type": "markdown",
      "metadata": {
        "id": "l6k5NdqFFeVB"
      },
      "source": [
        "Вас пригласили поучаствовать в одном из проектов UNICEF — международного подразделения ООН, чья миссия состоит в повышении уровня благополучия детей по всему миру. \r\n",
        "\r\n",
        "Суть проекта — отследить влияние условий жизни учащихся в возрасте от 15 до 22 лет на их успеваемость по математике, чтобы на ранней стадии выявлять студентов, находящихся в группе риска.\r\n",
        "\r\n",
        "И сделать это можно с помощью модели, которая предсказывала бы результаты госэкзамена по математике для каждого ученика школы (вот она, сила ML!). Чтобы определиться с параметрами будущей модели, проведите разведывательный анализ данных и составьте отчёт по его результатам. \r\n",
        "\r\n",
        "Ниже вы найдете пошаговую инструкцию по выполнению проекта."
      ]
    },
    {
      "cell_type": "markdown",
      "metadata": {
        "id": "04a5NjmiF0bN"
      },
      "source": [
        "Описание датасета\r\n",
        "===\r\n",
        "Посмотрим на переменные, которые содержит датасет:\r\n",
        "\r\n",
        "1. school — аббревиатура школы, в которой учится ученик\r\n",
        "\r\n",
        "2. sex — пол ученика ('F' - женский, 'M' - мужской)\r\n",
        "\r\n",
        "3. age — возраст ученика (от 15 до 22)\r\n",
        "\r\n",
        "4. address — тип адреса ученика ('U' - городской, 'R' - за городом)\r\n",
        "\r\n",
        "5. famsize — размер семьи('LE3' <= 3, 'GT3' >3)\r\n",
        "\r\n",
        "6. Pstatus — статус совместного жилья родителей ('T' - живут вместе 'A' - раздельно)\r\n",
        "\r\n",
        "7. Medu — образование матери (0 - нет, 1 - 4 класса, 2 - 5-9 классы, 3 - среднее специальное или 11 классов, 4 - высшее)\r\n",
        "\r\n",
        "8. Fedu — образование отца (0 - нет, 1 - 4 класса, 2 - 5-9 классы, 3 - среднее специальное или 11 классов, 4 - высшее)\r\n",
        "\r\n",
        "9. Mjob — работа матери ('teacher' - учитель, 'health' - сфера здравоохранения, 'services' - гос служба, 'at_home' - не работает, 'other' - другое)\r\n",
        "\r\n",
        "10. Fjob — работа отца ('teacher' - учитель, 'health' - сфера здравоохранения, 'services' - гос служба, 'at_home' - не работает, 'other' - другое)\r\n",
        "\r\n",
        "11. reason — причина выбора школы ('home' - близость к дому, 'reputation' - репутация школы, 'course' - образовательная программа, 'other' - другое)\r\n",
        "\r\n",
        "12. guardian — опекун ('mother' - мать, 'father' - отец, 'other' - другое)\r\n",
        "\r\n",
        "13. traveltime — время в пути до школы (1 - <15 мин., 2 - 15-30 мин., 3 - 30-60 мин., 4 - >60 мин.)\r\n",
        "\r\n",
        "14. studytime — время на учёбу помимо школы в неделю (1 - <2 часов, 2 - 2-5 часов, 3 - 5-10 часов, 4 - >10 часов)\r\n",
        "\r\n",
        "15. failures — количество внеучебных неудач (n, если 1<=n<=3, иначе 0)\r\n",
        "\r\n",
        "16. schoolsup — дополнительная образовательная поддержка (yes или no)\r\n",
        "\r\n",
        "17. famsup — семейная образовательная поддержка (yes или no)\r\n",
        "\r\n",
        "18. paid — дополнительные платные занятия по математике (yes или no)\r\n",
        "\r\n",
        "19. activities — дополнительные внеучебные занятия (yes или no)\r\n",
        "\r\n",
        "20. nursery — посещал детский сад (yes или no)\r\n",
        "\r\n",
        "21. higher — хочет получить высшее образование (yes или no)\r\n",
        "\r\n",
        "22. internet — наличие интернета дома (yes или no)\r\n",
        "\r\n",
        "23. romantic — в романтических отношениях (yes или no)\r\n",
        "\r\n",
        "24. famrel — семейные отношения (от 1 - очень плохо до 5 - очень хорошо)\r\n",
        "\r\n",
        "25. freetime — свободное время после школы (от 1 - очень мало до 5 - очень мого)\r\n",
        "\r\n",
        "26. goout — проведение времени с друзьями (от 1 - очень мало до 5 - очень много)\r\n",
        "\r\n",
        "27. health — текущее состояние здоровья (от 1 - очень плохо до 5 - очень хорошо)\r\n",
        "\r\n",
        "28. absences — количество пропущенных занятий\r\n",
        "\r\n",
        "29. score — баллы по госэкзамену по математике"
      ]
    },
    {
      "cell_type": "markdown",
      "metadata": {
        "id": "odDQtOxuGJAb"
      },
      "source": [
        "Рекомендации по выполнению проекта\r\n",
        "===\r\n",
        "1. Проведите первичную обработку данных. Так как данных много, стоит написать функции, которые можно применять к столбцам определённого типа.\r\n",
        "1. Посмотрите на распределение признака для числовых переменных, устраните выбросы.\r\n",
        "1. Оцените количество уникальных значений для номинативных переменных.\r\n",
        "1. По необходимости преобразуйте данные\r\n",
        "1. Проведите корреляционный анализ количественных переменных\r\n",
        "1. Отберите не коррелирующие переменные.\r\n",
        "1. Проанализируйте номинативные переменные и устраните те, которые не влияют на предсказываемую величину (в нашем случае — на переменную score).\r\n",
        "1. Не забудьте сформулировать выводы относительно качества данных и тех переменных, которые вы будете использовать в дальнейшем построении модели."
      ]
    },
    {
      "cell_type": "markdown",
      "metadata": {
        "id": "u8A292t3kULk"
      },
      "source": [
        "Цели и задачи проекта\r\n",
        "===\r\n",
        "Провести EDA. Очистить данные. Отобрать значимые для модели столбцы."
      ]
    },
    {
      "cell_type": "markdown",
      "metadata": {
        "id": "ythcDPR9NYOy"
      },
      "source": [
        "0) Инициализация\r\n",
        "==="
      ]
    },
    {
      "cell_type": "code",
      "metadata": {
        "id": "db3k-fDkFCH3"
      },
      "source": [
        "import pandas as pd\r\n",
        "import matplotlib.pyplot as plt\r\n",
        "import seaborn as sns\r\n",
        "from itertools import combinations\r\n",
        "from scipy.stats import ttest_ind\r\n",
        "import numpy as np\r\n",
        "from collections import OrderedDict"
      ],
      "execution_count": 170,
      "outputs": []
    },
    {
      "cell_type": "code",
      "metadata": {
        "id": "Ngi6xH4wqLsD"
      },
      "source": [
        "students = pd.read_csv('stud_math.csv')"
      ],
      "execution_count": 171,
      "outputs": []
    },
    {
      "cell_type": "code",
      "metadata": {
        "colab": {
          "base_uri": "https://localhost:8080/",
          "height": 396
        },
        "id": "s1CCU5ZmNGRf",
        "outputId": "eccfcef1-d54c-4d28-a8b6-c2360bcd97e3"
      },
      "source": [
        "display(students.head(10))"
      ],
      "execution_count": 172,
      "outputs": [
        {
          "output_type": "display_data",
          "data": {
            "text/html": [
              "<div>\n",
              "<style scoped>\n",
              "    .dataframe tbody tr th:only-of-type {\n",
              "        vertical-align: middle;\n",
              "    }\n",
              "\n",
              "    .dataframe tbody tr th {\n",
              "        vertical-align: top;\n",
              "    }\n",
              "\n",
              "    .dataframe thead th {\n",
              "        text-align: right;\n",
              "    }\n",
              "</style>\n",
              "<table border=\"1\" class=\"dataframe\">\n",
              "  <thead>\n",
              "    <tr style=\"text-align: right;\">\n",
              "      <th></th>\n",
              "      <th>school</th>\n",
              "      <th>sex</th>\n",
              "      <th>age</th>\n",
              "      <th>address</th>\n",
              "      <th>famsize</th>\n",
              "      <th>Pstatus</th>\n",
              "      <th>Medu</th>\n",
              "      <th>Fedu</th>\n",
              "      <th>Mjob</th>\n",
              "      <th>Fjob</th>\n",
              "      <th>reason</th>\n",
              "      <th>guardian</th>\n",
              "      <th>traveltime</th>\n",
              "      <th>studytime</th>\n",
              "      <th>failures</th>\n",
              "      <th>schoolsup</th>\n",
              "      <th>famsup</th>\n",
              "      <th>paid</th>\n",
              "      <th>activities</th>\n",
              "      <th>nursery</th>\n",
              "      <th>studytime, granular</th>\n",
              "      <th>higher</th>\n",
              "      <th>internet</th>\n",
              "      <th>romantic</th>\n",
              "      <th>famrel</th>\n",
              "      <th>freetime</th>\n",
              "      <th>goout</th>\n",
              "      <th>health</th>\n",
              "      <th>absences</th>\n",
              "      <th>score</th>\n",
              "    </tr>\n",
              "  </thead>\n",
              "  <tbody>\n",
              "    <tr>\n",
              "      <th>0</th>\n",
              "      <td>GP</td>\n",
              "      <td>F</td>\n",
              "      <td>18</td>\n",
              "      <td>U</td>\n",
              "      <td>NaN</td>\n",
              "      <td>A</td>\n",
              "      <td>4.0</td>\n",
              "      <td>4.0</td>\n",
              "      <td>at_home</td>\n",
              "      <td>teacher</td>\n",
              "      <td>course</td>\n",
              "      <td>mother</td>\n",
              "      <td>2.0</td>\n",
              "      <td>2.0</td>\n",
              "      <td>0.0</td>\n",
              "      <td>yes</td>\n",
              "      <td>no</td>\n",
              "      <td>no</td>\n",
              "      <td>no</td>\n",
              "      <td>yes</td>\n",
              "      <td>-6.0</td>\n",
              "      <td>yes</td>\n",
              "      <td>NaN</td>\n",
              "      <td>no</td>\n",
              "      <td>4.0</td>\n",
              "      <td>3.0</td>\n",
              "      <td>4.0</td>\n",
              "      <td>3.0</td>\n",
              "      <td>6.0</td>\n",
              "      <td>30.0</td>\n",
              "    </tr>\n",
              "    <tr>\n",
              "      <th>1</th>\n",
              "      <td>GP</td>\n",
              "      <td>F</td>\n",
              "      <td>17</td>\n",
              "      <td>U</td>\n",
              "      <td>GT3</td>\n",
              "      <td>NaN</td>\n",
              "      <td>1.0</td>\n",
              "      <td>1.0</td>\n",
              "      <td>at_home</td>\n",
              "      <td>other</td>\n",
              "      <td>course</td>\n",
              "      <td>father</td>\n",
              "      <td>1.0</td>\n",
              "      <td>2.0</td>\n",
              "      <td>0.0</td>\n",
              "      <td>no</td>\n",
              "      <td>yes</td>\n",
              "      <td>no</td>\n",
              "      <td>no</td>\n",
              "      <td>no</td>\n",
              "      <td>-6.0</td>\n",
              "      <td>yes</td>\n",
              "      <td>yes</td>\n",
              "      <td>no</td>\n",
              "      <td>5.0</td>\n",
              "      <td>3.0</td>\n",
              "      <td>3.0</td>\n",
              "      <td>3.0</td>\n",
              "      <td>4.0</td>\n",
              "      <td>30.0</td>\n",
              "    </tr>\n",
              "    <tr>\n",
              "      <th>2</th>\n",
              "      <td>GP</td>\n",
              "      <td>F</td>\n",
              "      <td>15</td>\n",
              "      <td>U</td>\n",
              "      <td>LE3</td>\n",
              "      <td>T</td>\n",
              "      <td>1.0</td>\n",
              "      <td>1.0</td>\n",
              "      <td>at_home</td>\n",
              "      <td>other</td>\n",
              "      <td>other</td>\n",
              "      <td>mother</td>\n",
              "      <td>1.0</td>\n",
              "      <td>2.0</td>\n",
              "      <td>3.0</td>\n",
              "      <td>yes</td>\n",
              "      <td>no</td>\n",
              "      <td>NaN</td>\n",
              "      <td>no</td>\n",
              "      <td>yes</td>\n",
              "      <td>-6.0</td>\n",
              "      <td>yes</td>\n",
              "      <td>yes</td>\n",
              "      <td>NaN</td>\n",
              "      <td>4.0</td>\n",
              "      <td>3.0</td>\n",
              "      <td>2.0</td>\n",
              "      <td>3.0</td>\n",
              "      <td>10.0</td>\n",
              "      <td>50.0</td>\n",
              "    </tr>\n",
              "    <tr>\n",
              "      <th>3</th>\n",
              "      <td>GP</td>\n",
              "      <td>F</td>\n",
              "      <td>15</td>\n",
              "      <td>U</td>\n",
              "      <td>GT3</td>\n",
              "      <td>T</td>\n",
              "      <td>4.0</td>\n",
              "      <td>2.0</td>\n",
              "      <td>health</td>\n",
              "      <td>NaN</td>\n",
              "      <td>home</td>\n",
              "      <td>mother</td>\n",
              "      <td>1.0</td>\n",
              "      <td>3.0</td>\n",
              "      <td>0.0</td>\n",
              "      <td>no</td>\n",
              "      <td>yes</td>\n",
              "      <td>yes</td>\n",
              "      <td>yes</td>\n",
              "      <td>yes</td>\n",
              "      <td>-9.0</td>\n",
              "      <td>yes</td>\n",
              "      <td>yes</td>\n",
              "      <td>yes</td>\n",
              "      <td>3.0</td>\n",
              "      <td>2.0</td>\n",
              "      <td>2.0</td>\n",
              "      <td>5.0</td>\n",
              "      <td>2.0</td>\n",
              "      <td>75.0</td>\n",
              "    </tr>\n",
              "    <tr>\n",
              "      <th>4</th>\n",
              "      <td>GP</td>\n",
              "      <td>F</td>\n",
              "      <td>16</td>\n",
              "      <td>U</td>\n",
              "      <td>GT3</td>\n",
              "      <td>T</td>\n",
              "      <td>3.0</td>\n",
              "      <td>3.0</td>\n",
              "      <td>other</td>\n",
              "      <td>other</td>\n",
              "      <td>home</td>\n",
              "      <td>father</td>\n",
              "      <td>1.0</td>\n",
              "      <td>2.0</td>\n",
              "      <td>0.0</td>\n",
              "      <td>no</td>\n",
              "      <td>yes</td>\n",
              "      <td>yes</td>\n",
              "      <td>no</td>\n",
              "      <td>yes</td>\n",
              "      <td>-6.0</td>\n",
              "      <td>yes</td>\n",
              "      <td>no</td>\n",
              "      <td>no</td>\n",
              "      <td>4.0</td>\n",
              "      <td>3.0</td>\n",
              "      <td>2.0</td>\n",
              "      <td>5.0</td>\n",
              "      <td>4.0</td>\n",
              "      <td>50.0</td>\n",
              "    </tr>\n",
              "    <tr>\n",
              "      <th>5</th>\n",
              "      <td>GP</td>\n",
              "      <td>M</td>\n",
              "      <td>16</td>\n",
              "      <td>U</td>\n",
              "      <td>LE3</td>\n",
              "      <td>T</td>\n",
              "      <td>4.0</td>\n",
              "      <td>3.0</td>\n",
              "      <td>services</td>\n",
              "      <td>other</td>\n",
              "      <td>reputation</td>\n",
              "      <td>mother</td>\n",
              "      <td>1.0</td>\n",
              "      <td>2.0</td>\n",
              "      <td>0.0</td>\n",
              "      <td>no</td>\n",
              "      <td>yes</td>\n",
              "      <td>yes</td>\n",
              "      <td>yes</td>\n",
              "      <td>yes</td>\n",
              "      <td>-6.0</td>\n",
              "      <td>yes</td>\n",
              "      <td>yes</td>\n",
              "      <td>no</td>\n",
              "      <td>5.0</td>\n",
              "      <td>4.0</td>\n",
              "      <td>2.0</td>\n",
              "      <td>5.0</td>\n",
              "      <td>10.0</td>\n",
              "      <td>75.0</td>\n",
              "    </tr>\n",
              "    <tr>\n",
              "      <th>6</th>\n",
              "      <td>GP</td>\n",
              "      <td>M</td>\n",
              "      <td>16</td>\n",
              "      <td>NaN</td>\n",
              "      <td>LE3</td>\n",
              "      <td>T</td>\n",
              "      <td>2.0</td>\n",
              "      <td>2.0</td>\n",
              "      <td>other</td>\n",
              "      <td>other</td>\n",
              "      <td>home</td>\n",
              "      <td>mother</td>\n",
              "      <td>1.0</td>\n",
              "      <td>2.0</td>\n",
              "      <td>0.0</td>\n",
              "      <td>no</td>\n",
              "      <td>no</td>\n",
              "      <td>no</td>\n",
              "      <td>no</td>\n",
              "      <td>yes</td>\n",
              "      <td>-6.0</td>\n",
              "      <td>yes</td>\n",
              "      <td>yes</td>\n",
              "      <td>no</td>\n",
              "      <td>4.0</td>\n",
              "      <td>4.0</td>\n",
              "      <td>4.0</td>\n",
              "      <td>3.0</td>\n",
              "      <td>0.0</td>\n",
              "      <td>55.0</td>\n",
              "    </tr>\n",
              "    <tr>\n",
              "      <th>7</th>\n",
              "      <td>GP</td>\n",
              "      <td>F</td>\n",
              "      <td>17</td>\n",
              "      <td>U</td>\n",
              "      <td>GT3</td>\n",
              "      <td>A</td>\n",
              "      <td>4.0</td>\n",
              "      <td>4.0</td>\n",
              "      <td>other</td>\n",
              "      <td>teacher</td>\n",
              "      <td>home</td>\n",
              "      <td>mother</td>\n",
              "      <td>2.0</td>\n",
              "      <td>2.0</td>\n",
              "      <td>0.0</td>\n",
              "      <td>yes</td>\n",
              "      <td>yes</td>\n",
              "      <td>no</td>\n",
              "      <td>no</td>\n",
              "      <td>yes</td>\n",
              "      <td>-6.0</td>\n",
              "      <td>yes</td>\n",
              "      <td>no</td>\n",
              "      <td>no</td>\n",
              "      <td>4.0</td>\n",
              "      <td>1.0</td>\n",
              "      <td>4.0</td>\n",
              "      <td>1.0</td>\n",
              "      <td>6.0</td>\n",
              "      <td>30.0</td>\n",
              "    </tr>\n",
              "    <tr>\n",
              "      <th>8</th>\n",
              "      <td>GP</td>\n",
              "      <td>M</td>\n",
              "      <td>15</td>\n",
              "      <td>U</td>\n",
              "      <td>LE3</td>\n",
              "      <td>A</td>\n",
              "      <td>3.0</td>\n",
              "      <td>2.0</td>\n",
              "      <td>services</td>\n",
              "      <td>other</td>\n",
              "      <td>home</td>\n",
              "      <td>mother</td>\n",
              "      <td>1.0</td>\n",
              "      <td>2.0</td>\n",
              "      <td>0.0</td>\n",
              "      <td>no</td>\n",
              "      <td>yes</td>\n",
              "      <td>yes</td>\n",
              "      <td>no</td>\n",
              "      <td>yes</td>\n",
              "      <td>-6.0</td>\n",
              "      <td>yes</td>\n",
              "      <td>yes</td>\n",
              "      <td>no</td>\n",
              "      <td>NaN</td>\n",
              "      <td>2.0</td>\n",
              "      <td>2.0</td>\n",
              "      <td>1.0</td>\n",
              "      <td>0.0</td>\n",
              "      <td>95.0</td>\n",
              "    </tr>\n",
              "    <tr>\n",
              "      <th>9</th>\n",
              "      <td>GP</td>\n",
              "      <td>M</td>\n",
              "      <td>15</td>\n",
              "      <td>U</td>\n",
              "      <td>NaN</td>\n",
              "      <td>NaN</td>\n",
              "      <td>3.0</td>\n",
              "      <td>4.0</td>\n",
              "      <td>other</td>\n",
              "      <td>other</td>\n",
              "      <td>home</td>\n",
              "      <td>mother</td>\n",
              "      <td>1.0</td>\n",
              "      <td>2.0</td>\n",
              "      <td>0.0</td>\n",
              "      <td>no</td>\n",
              "      <td>yes</td>\n",
              "      <td>yes</td>\n",
              "      <td>yes</td>\n",
              "      <td>yes</td>\n",
              "      <td>-6.0</td>\n",
              "      <td>yes</td>\n",
              "      <td>yes</td>\n",
              "      <td>no</td>\n",
              "      <td>5.0</td>\n",
              "      <td>5.0</td>\n",
              "      <td>1.0</td>\n",
              "      <td>5.0</td>\n",
              "      <td>0.0</td>\n",
              "      <td>75.0</td>\n",
              "    </tr>\n",
              "  </tbody>\n",
              "</table>\n",
              "</div>"
            ],
            "text/plain": [
              "  school sex  age address famsize  ... freetime  goout  health absences score\n",
              "0     GP   F   18       U     NaN  ...      3.0    4.0     3.0      6.0  30.0\n",
              "1     GP   F   17       U     GT3  ...      3.0    3.0     3.0      4.0  30.0\n",
              "2     GP   F   15       U     LE3  ...      3.0    2.0     3.0     10.0  50.0\n",
              "3     GP   F   15       U     GT3  ...      2.0    2.0     5.0      2.0  75.0\n",
              "4     GP   F   16       U     GT3  ...      3.0    2.0     5.0      4.0  50.0\n",
              "5     GP   M   16       U     LE3  ...      4.0    2.0     5.0     10.0  75.0\n",
              "6     GP   M   16     NaN     LE3  ...      4.0    4.0     3.0      0.0  55.0\n",
              "7     GP   F   17       U     GT3  ...      1.0    4.0     1.0      6.0  30.0\n",
              "8     GP   M   15       U     LE3  ...      2.0    2.0     1.0      0.0  95.0\n",
              "9     GP   M   15       U     NaN  ...      5.0    1.0     5.0      0.0  75.0\n",
              "\n",
              "[10 rows x 30 columns]"
            ]
          },
          "metadata": {
            "tags": []
          }
        }
      ]
    },
    {
      "cell_type": "code",
      "metadata": {
        "colab": {
          "base_uri": "https://localhost:8080/"
        },
        "id": "0Y0bVeEnNVcP",
        "outputId": "cca91005-5e73-43fb-c134-a12af947c453"
      },
      "source": [
        "students.info()"
      ],
      "execution_count": 173,
      "outputs": [
        {
          "output_type": "stream",
          "text": [
            "<class 'pandas.core.frame.DataFrame'>\n",
            "RangeIndex: 395 entries, 0 to 394\n",
            "Data columns (total 30 columns):\n",
            " #   Column               Non-Null Count  Dtype  \n",
            "---  ------               --------------  -----  \n",
            " 0   school               395 non-null    object \n",
            " 1   sex                  395 non-null    object \n",
            " 2   age                  395 non-null    int64  \n",
            " 3   address              378 non-null    object \n",
            " 4   famsize              368 non-null    object \n",
            " 5   Pstatus              350 non-null    object \n",
            " 6   Medu                 392 non-null    float64\n",
            " 7   Fedu                 371 non-null    float64\n",
            " 8   Mjob                 376 non-null    object \n",
            " 9   Fjob                 359 non-null    object \n",
            " 10  reason               378 non-null    object \n",
            " 11  guardian             364 non-null    object \n",
            " 12  traveltime           367 non-null    float64\n",
            " 13  studytime            388 non-null    float64\n",
            " 14  failures             373 non-null    float64\n",
            " 15  schoolsup            386 non-null    object \n",
            " 16  famsup               356 non-null    object \n",
            " 17  paid                 355 non-null    object \n",
            " 18  activities           381 non-null    object \n",
            " 19  nursery              379 non-null    object \n",
            " 20  studytime, granular  388 non-null    float64\n",
            " 21  higher               375 non-null    object \n",
            " 22  internet             361 non-null    object \n",
            " 23  romantic             364 non-null    object \n",
            " 24  famrel               368 non-null    float64\n",
            " 25  freetime             384 non-null    float64\n",
            " 26  goout                387 non-null    float64\n",
            " 27  health               380 non-null    float64\n",
            " 28  absences             383 non-null    float64\n",
            " 29  score                389 non-null    float64\n",
            "dtypes: float64(12), int64(1), object(17)\n",
            "memory usage: 92.7+ KB\n"
          ],
          "name": "stdout"
        }
      ]
    },
    {
      "cell_type": "code",
      "metadata": {
        "colab": {
          "base_uri": "https://localhost:8080/"
        },
        "id": "k_PZ0QHkjfc_",
        "outputId": "83d0144b-9886-419d-8cfe-8bbe2d80ce1b"
      },
      "source": [
        "print(list(students))"
      ],
      "execution_count": 174,
      "outputs": [
        {
          "output_type": "stream",
          "text": [
            "['school', 'sex', 'age', 'address', 'famsize', 'Pstatus', 'Medu', 'Fedu', 'Mjob', 'Fjob', 'reason', 'guardian', 'traveltime', 'studytime', 'failures', 'schoolsup', 'famsup', 'paid', 'activities', 'nursery', 'studytime, granular', 'higher', 'internet', 'romantic', 'famrel', 'freetime', 'goout', 'health', 'absences', 'score']\n"
          ],
          "name": "stdout"
        }
      ]
    },
    {
      "cell_type": "markdown",
      "metadata": {
        "id": "5JA1wyVVNt2d"
      },
      "source": [
        "1) Первичная обработка\r\n",
        "==="
      ]
    },
    {
      "cell_type": "markdown",
      "metadata": {
        "id": "CWwbTHV5RZ3h"
      },
      "source": [
        "Изначально был отдельный подход к числовым и номинативным признакам.\r\n",
        "\r\n",
        "Также изначально не исправил пробелы, а только убрал выбросы.\r\n",
        "\r\n",
        "@Komissarov Artem поделился функцией и я всё переписал на универсальный код.\r\n",
        "```\r\n",
        "def unique_nan_value(name):\r\n",
        "    '''Функция показывает все значения в колонке, а так же уникальные и пустые'''\r\n",
        "    uniq = math[name].nunique()\r\n",
        "    empty = math[name].isnull().sum()\r\n",
        "    values = math[name].value_counts()\r\n",
        "    print(f'Значения в колонке: Уникальные: {uniq}, Пустые: {empty}. \\n{values}' )\r\n",
        "```"
      ]
    },
    {
      "cell_type": "code",
      "metadata": {
        "id": "HuzBAZUVTBLD"
      },
      "source": [
        "# Оставлено для примера, более не используется\r\n",
        "to_drop_leftovers={} #для сбора столбцов с выбросами\r\n",
        "def drop_leftovers():\r\n",
        "  '''Процедура избавления от выбросов. Приходится проходить дважды,\r\n",
        "     так как есть записы с выбросами сразу по двум параметрам.'''\r\n",
        "  global students, to_drop_leftovers\r\n",
        "  df = students\r\n",
        "  print('План очистки от выбросов')\r\n",
        "  for (column,range) in to_drop_leftovers.items():\r\n",
        "    drop_count = (df[column]<range[0]).sum() + (df[column]>range[1]).sum()\r\n",
        "    print(f'Из столбца {column} выбросим {drop_count} значений')\r\n",
        "  print()\r\n",
        "  print('Факт очистки от выбросов')\r\n",
        "  for (column,range) in to_drop_leftovers.items():\r\n",
        "    drop_count = (df[column]<range[0]).sum() + (df[column]>range[1]).sum()\r\n",
        "    print(f'Из столбца {column} выбросим {drop_count} значений')\r\n",
        "    df = df.loc[df[column] >= range[0]]\r\n",
        "    df = df.loc[df[column] <= range[1]]\r\n",
        "  students = df"
      ],
      "execution_count": 175,
      "outputs": []
    },
    {
      "cell_type": "code",
      "metadata": {
        "id": "AbvDoZq7b3qv"
      },
      "source": [
        "analized_columns={} # информация о проверенных столбцах"
      ],
      "execution_count": 176,
      "outputs": []
    },
    {
      "cell_type": "code",
      "metadata": {
        "id": "QrsYx3SNXltd"
      },
      "source": [
        "def calculate_leftovers(column,**kwargs):\r\n",
        "  '''Процедура анализа рапределения с применением IQR и предложенных рамок'''\r\n",
        "  global students\r\n",
        "  min_border = students[column].min()\r\n",
        "  perc25 = students[column].quantile(0.25)\r\n",
        "  perc50 = students[column].quantile(0.50)\r\n",
        "  perc75 = students[column].quantile(0.75)\r\n",
        "  max_border = students[column].max()\r\n",
        "  IQR = perc75 - perc25\r\n",
        "  low_border = perc25 - 1.5*IQR\r\n",
        "  high_border = perc75 + 1.5*IQR\r\n",
        "  \r\n",
        "  if 'low' in kwargs.keys():\r\n",
        "    if kwargs['low'] != None:\r\n",
        "      min_border = kwargs['low']\r\n",
        "  if 'high' in kwargs.keys():\r\n",
        "    if kwargs['high'] != None:\r\n",
        "      max_border = kwargs['high']\r\n",
        "  print('','below', 'low', '25', '50', '75', 'high', 'above', sep='\\t')\r\n",
        "  print('IQR', students.query(column+'<@low_border')[column].count(), \\\r\n",
        "        low_border, perc25, \\\r\n",
        "        students[column].quantile(0.50),\r\n",
        "        perc75, high_border, \\\r\n",
        "        students.query(column+'>@high_border')[column].count(), sep='\\t')\r\n",
        "  students[column].loc[students[column].between(low_border,high_border)] \\\r\n",
        "    .hist(range = (min_border, max_border), label = 'IQR')\r\n",
        "\r\n",
        "  if 'low' in kwargs.keys():\r\n",
        "    if kwargs['low'] != None:\r\n",
        "      low_border = kwargs['low']\r\n",
        "  if 'high' in kwargs.keys():\r\n",
        "    if kwargs['low'] != None:\r\n",
        "      high_border = kwargs['high']\r\n",
        "  print('user', students.query(column+'<@low_border')[column].count(), \\\r\n",
        "        low_border, perc25, \\\r\n",
        "        students[column].quantile(0.50),\r\n",
        "        perc75, high_border, \\\r\n",
        "        students.query(column+'>@high_border')[column].count(), sep='\\t')\r\n",
        "  print()\r\n",
        "  students[column].loc[students[column].between(low_border,high_border)] \\\r\n",
        "    .hist(range = (min_border, max_border), alpha = 0.5, label = 'Supposed')\r\n",
        "\r\n",
        "  plt.legend();\r\n",
        "  display(plt.plot(students[column].loc[students[column]\\\r\n",
        "                                        .between(min_border,max_border)]\\\r\n",
        "                   .value_counts().sort_index()))   "
      ],
      "execution_count": 177,
      "outputs": []
    },
    {
      "cell_type": "code",
      "metadata": {
        "colab": {
          "base_uri": "https://localhost:8080/"
        },
        "id": "GCbTqNbFeBpQ",
        "outputId": "6be32219-b46a-45b2-bb0f-eea8eac5a0fd"
      },
      "source": [
        "students['Fedu'].dtype==type(object)"
      ],
      "execution_count": 205,
      "outputs": [
        {
          "output_type": "execute_result",
          "data": {
            "text/plain": [
              "False"
            ]
          },
          "metadata": {
            "tags": []
          },
          "execution_count": 205
        }
      ]
    },
    {
      "cell_type": "code",
      "metadata": {
        "id": "57F6kfvESPup"
      },
      "source": [
        "def scrutinize_column(column, calc_left=True):\r\n",
        "  '''Процедура детального анализа столбцов'''\r\n",
        "  global students, analized_columns\r\n",
        "  if students[column].dtype==type(object):\r\n",
        "    calc_left=False\r\n",
        "    mean='N/A'\r\n",
        "    std='N/A'\r\n",
        "  else:\r\n",
        "    mean='{:+.3f}'.format(students[column].mean())\r\n",
        "    std='{:+.3f}'.format(students[column].std())\r\n",
        "  print('count','null','unique','relev','mean','std',sep='\\t')\r\n",
        "  print(students[column].count(),\r\n",
        "        students[column].isnull().sum(), \\\r\n",
        "        students[column].nunique(),\r\n",
        "        (students[column].value_counts()>students[column].count()/100*5).sum(),\r\n",
        "        mean,\r\n",
        "        std,\r\n",
        "        sep='\\t')\r\n",
        "  print()\r\n",
        "  display(students[column].unique().sort_index().tolist())\r\n",
        "  display(pd.DataFrame(students[column].value_counts(dropna=False)).transpose())\r\n",
        "  #print()\r\n",
        "  #students.loc[:, [column]].info(memory_usage='deep')\r\n",
        "  if type(calc_left)==type(True) and calc_left:\r\n",
        "    calc_left = (None,None)\r\n",
        "    if column in analized_columns.keys():\r\n",
        "      if 'borders' in analized_columns[column].keys():\r\n",
        "        calc_left = analized_columns[column]['borders']\r\n",
        "  if type(calc_left)==type((0,0)):\r\n",
        "    print()\r\n",
        "    calculate_leftovers(column, \\\r\n",
        "                        low=calc_left[0], \\\r\n",
        "                        high=calc_left[1])"
      ],
      "execution_count": 212,
      "outputs": []
    },
    {
      "cell_type": "code",
      "metadata": {
        "id": "o5jeWZK8pYn4"
      },
      "source": [
        "def make_replaces():\r\n",
        "  global students, analized_columns\r\n",
        "  for (column,data) in to_replace_values.items():\r\n",
        "    if 'replaces' in data.keys():\r\n",
        "      for old_value in data['replaces'][1]:\r\n",
        "        if old_value is np.nan or old_value is None:\r\n",
        "          replace_count = students[column].isnull().sum()\r\n",
        "          students[column].fillna(inplace=True, value=data['replaces'][0])\r\n",
        "        else:\r\n",
        "          replace_count = (students[column]==old_value).sum()\r\n",
        "          students[column].replace(inplace=True, to_replace=old_value, value=data['replaces'][0])\r\n",
        "        print(f'{replace_count} раз в столбце {column} заменим {old_value} на {data[\"replaces\"][0]}')\r\n"
      ],
      "execution_count": 181,
      "outputs": []
    },
    {
      "cell_type": "code",
      "metadata": {
        "id": "KTMWxqW_sp7p"
      },
      "source": [
        "'''При корреляционном анализе обнаружился этот столбец. Это явно копия другого\r\n",
        "   столбца смещённая для обфускации. Запятая ломала применяемые самопальные\r\n",
        "   процедуры вот и пришлось переименовать хоть и после надо совсем выкинуть'''\r\n",
        "students.rename(inplace=True, \\\r\n",
        "                columns={'studytime, granular':'studytime_granular'})"
      ],
      "execution_count": null,
      "outputs": []
    },
    {
      "cell_type": "markdown",
      "metadata": {
        "id": "kJ2eD4oFN0cU"
      },
      "source": [
        "2) Численные признаки\r\n",
        "==="
      ]
    },
    {
      "cell_type": "code",
      "metadata": {
        "id": "T-MdXDVIRYNr"
      },
      "source": [
        "scrutinize_number_column('age', low=15, high=22)\r\n",
        "# Без выбросов\r\n",
        "# Возможно стоит рассматривать группы 15-19 и 20-22 отдельно,\r\n",
        "# ввиду малочисленности второй"
      ],
      "execution_count": null,
      "outputs": []
    },
    {
      "cell_type": "code",
      "metadata": {
        "id": "JHQs6Py_kVm_"
      },
      "source": [
        "scrutinize_number_column('Medu', low=0, high=4)\r\n",
        "#Без выбросов"
      ],
      "execution_count": null,
      "outputs": []
    },
    {
      "cell_type": "code",
      "metadata": {
        "colab": {
          "base_uri": "https://localhost:8080/",
          "height": 350
        },
        "id": "7fCeegDudfVI",
        "outputId": "b6c35e9b-e7ef-44d3-afde-40d7139ae8ff"
      },
      "source": [
        "scrutinize_column('address')"
      ],
      "execution_count": 213,
      "outputs": [
        {
          "output_type": "stream",
          "text": [
            "count\tnull\tunique\trelev\tmean\tstd\n",
            "378\t17\t2\t2\tN/A\tN/A\n",
            "\n"
          ],
          "name": "stdout"
        },
        {
          "output_type": "error",
          "ename": "AttributeError",
          "evalue": "ignored",
          "traceback": [
            "\u001b[0;31m---------------------------------------------------------------------------\u001b[0m",
            "\u001b[0;31mAttributeError\u001b[0m                            Traceback (most recent call last)",
            "\u001b[0;32m<ipython-input-213-9e206ca48381>\u001b[0m in \u001b[0;36m<module>\u001b[0;34m()\u001b[0m\n\u001b[0;32m----> 1\u001b[0;31m \u001b[0mscrutinize_column\u001b[0m\u001b[0;34m(\u001b[0m\u001b[0;34m'address'\u001b[0m\u001b[0;34m)\u001b[0m\u001b[0;34m\u001b[0m\u001b[0;34m\u001b[0m\u001b[0m\n\u001b[0m",
            "\u001b[0;32m<ipython-input-212-85aa9d1df452>\u001b[0m in \u001b[0;36mscrutinize_column\u001b[0;34m(column, calc_left)\u001b[0m\n\u001b[1;32m     18\u001b[0m         sep='\\t')\n\u001b[1;32m     19\u001b[0m   \u001b[0mprint\u001b[0m\u001b[0;34m(\u001b[0m\u001b[0;34m)\u001b[0m\u001b[0;34m\u001b[0m\u001b[0;34m\u001b[0m\u001b[0m\n\u001b[0;32m---> 20\u001b[0;31m   \u001b[0mdisplay\u001b[0m\u001b[0;34m(\u001b[0m\u001b[0mstudents\u001b[0m\u001b[0;34m[\u001b[0m\u001b[0mcolumn\u001b[0m\u001b[0;34m]\u001b[0m\u001b[0;34m.\u001b[0m\u001b[0munique\u001b[0m\u001b[0;34m(\u001b[0m\u001b[0;34m)\u001b[0m\u001b[0;34m.\u001b[0m\u001b[0msort_index\u001b[0m\u001b[0;34m(\u001b[0m\u001b[0;34m)\u001b[0m\u001b[0;34m.\u001b[0m\u001b[0mtolist\u001b[0m\u001b[0;34m(\u001b[0m\u001b[0;34m)\u001b[0m\u001b[0;34m)\u001b[0m\u001b[0;34m\u001b[0m\u001b[0;34m\u001b[0m\u001b[0m\n\u001b[0m\u001b[1;32m     21\u001b[0m   \u001b[0mdisplay\u001b[0m\u001b[0;34m(\u001b[0m\u001b[0mpd\u001b[0m\u001b[0;34m.\u001b[0m\u001b[0mDataFrame\u001b[0m\u001b[0;34m(\u001b[0m\u001b[0mstudents\u001b[0m\u001b[0;34m[\u001b[0m\u001b[0mcolumn\u001b[0m\u001b[0;34m]\u001b[0m\u001b[0;34m.\u001b[0m\u001b[0mvalue_counts\u001b[0m\u001b[0;34m(\u001b[0m\u001b[0mdropna\u001b[0m\u001b[0;34m=\u001b[0m\u001b[0;32mFalse\u001b[0m\u001b[0;34m)\u001b[0m\u001b[0;34m)\u001b[0m\u001b[0;34m.\u001b[0m\u001b[0mtranspose\u001b[0m\u001b[0;34m(\u001b[0m\u001b[0;34m)\u001b[0m\u001b[0;34m)\u001b[0m\u001b[0;34m\u001b[0m\u001b[0;34m\u001b[0m\u001b[0m\n\u001b[1;32m     22\u001b[0m   \u001b[0;31m#print()\u001b[0m\u001b[0;34m\u001b[0m\u001b[0;34m\u001b[0m\u001b[0;34m\u001b[0m\u001b[0m\n",
            "\u001b[0;31mAttributeError\u001b[0m: 'numpy.ndarray' object has no attribute 'sort_index'"
          ]
        }
      ]
    },
    {
      "cell_type": "code",
      "metadata": {
        "colab": {
          "base_uri": "https://localhost:8080/",
          "height": 498
        },
        "id": "XiwUFO1lkf0h",
        "outputId": "d9c29a69-bdef-47f3-ad2b-a010e99b6b26"
      },
      "source": [
        "scrutinize_column('Fedu')\r\n",
        "# Есть выбросы, Есть пробелы\r\n",
        "analized_columns['Fedu'] = {'borders':(0,4),'replaces':(students['Fedu'].mode()[0],[40,None])}"
      ],
      "execution_count": 185,
      "outputs": [
        {
          "output_type": "stream",
          "text": [
            "count\tnull\tunique\trelev\tmean\tstd\n",
            "371\t24\t6\t4\t+2.615\t+2.229\n",
            "\n"
          ],
          "name": "stdout"
        },
        {
          "output_type": "display_data",
          "data": {
            "text/plain": [
              "[0.0, 1.0, 2.0, 3.0, 4.0, 40.0, nan]"
            ]
          },
          "metadata": {
            "tags": []
          }
        },
        {
          "output_type": "display_data",
          "data": {
            "text/html": [
              "<div>\n",
              "<style scoped>\n",
              "    .dataframe tbody tr th:only-of-type {\n",
              "        vertical-align: middle;\n",
              "    }\n",
              "\n",
              "    .dataframe tbody tr th {\n",
              "        vertical-align: top;\n",
              "    }\n",
              "\n",
              "    .dataframe thead th {\n",
              "        text-align: right;\n",
              "    }\n",
              "</style>\n",
              "<table border=\"1\" class=\"dataframe\">\n",
              "  <thead>\n",
              "    <tr style=\"text-align: right;\">\n",
              "      <th></th>\n",
              "      <th>2.0</th>\n",
              "      <th>3.0</th>\n",
              "      <th>4.0</th>\n",
              "      <th>1.0</th>\n",
              "      <th>NaN</th>\n",
              "      <th>0.0</th>\n",
              "      <th>40.0</th>\n",
              "    </tr>\n",
              "  </thead>\n",
              "  <tbody>\n",
              "    <tr>\n",
              "      <th>Fedu</th>\n",
              "      <td>106</td>\n",
              "      <td>96</td>\n",
              "      <td>88</td>\n",
              "      <td>78</td>\n",
              "      <td>24</td>\n",
              "      <td>2</td>\n",
              "      <td>1</td>\n",
              "    </tr>\n",
              "  </tbody>\n",
              "</table>\n",
              "</div>"
            ],
            "text/plain": [
              "      2.0   3.0   4.0   1.0   NaN   0.0   40.0\n",
              "Fedu   106    96    88    78    24     2     1"
            ]
          },
          "metadata": {
            "tags": []
          }
        },
        {
          "output_type": "stream",
          "text": [
            "\n",
            "\tbelow\tlow\t25\t50\t75\thigh\tabove\n",
            "IQR\t2\t0.5\t2.0\t2.0\t3.0\t4.5\t1\n",
            "user\t0\t0\t2.0\t2.0\t3.0\t4\t1\n",
            "\n"
          ],
          "name": "stdout"
        },
        {
          "output_type": "display_data",
          "data": {
            "text/plain": [
              "[<matplotlib.lines.Line2D at 0x7f28b4d38a90>]"
            ]
          },
          "metadata": {
            "tags": []
          }
        },
        {
          "output_type": "display_data",
          "data": {
            "image/png": "[encoded data removed]",
            "text/plain": [
              "<Figure size 432x288 with 1 Axes>"
            ]
          },
          "metadata": {
            "tags": [],
            "needs_background": "light"
          }
        }
      ]
    },
    {
      "cell_type": "code",
      "metadata": {
        "colab": {
          "base_uri": "https://localhost:8080/",
          "height": 557
        },
        "id": "ScbxCnWQn29h",
        "outputId": "d0423af9-ea4f-43f3-9005-b77e45628e38"
      },
      "source": [
        "scrutinize_number_column('traveltime', low=1, high=4)\r\n",
        "#Без выбросов"
      ],
      "execution_count": null,
      "outputs": [
        {
          "output_type": "stream",
          "text": [
            "null\t\tunique\t\tcount\t\tmean\t\tstd\n",
            "28\t\t4\t\t367\t\t1.438692098092643\t\t0.6941806748311099\n",
            "\n"
          ],
          "name": "stdout"
        },
        {
          "output_type": "display_data",
          "data": {
            "text/plain": [
              "[2.0, 1.0, 3.0, nan, 4.0]"
            ]
          },
          "metadata": {
            "tags": []
          }
        },
        {
          "output_type": "display_data",
          "data": {
            "text/plain": [
              "1.0    242\n",
              "2.0     96\n",
              "NaN     28\n",
              "3.0     22\n",
              "4.0      7\n",
              "Name: traveltime, dtype: int64"
            ]
          },
          "metadata": {
            "tags": []
          }
        },
        {
          "output_type": "stream",
          "text": [
            "\n",
            "\tbelow\tlow\t25\t50\t75\thigh\tabove\n",
            "IQR\t0\t-0.5\t1.0\t1.0\t2.0\t3.5\t7\n",
            "user\t0\t1\t1.0\t1.0\t2.0\t4\t0\n",
            "\n"
          ],
          "name": "stdout"
        },
        {
          "output_type": "display_data",
          "data": {
            "text/plain": [
              "[<matplotlib.lines.Line2D at 0x7eff5afe4c50>]"
            ]
          },
          "metadata": {
            "tags": []
          }
        },
        {
          "output_type": "display_data",
          "data": {
            "image/png": "[encoded data removed]",
            "text/plain": [
              "<Figure size 432x288 with 1 Axes>"
            ]
          },
          "metadata": {
            "tags": [],
            "needs_background": "light"
          }
        }
      ]
    },
    {
      "cell_type": "code",
      "metadata": {
        "colab": {
          "base_uri": "https://localhost:8080/",
          "height": 555
        },
        "id": "119Z5FMroMEZ",
        "outputId": "5f527214-1357-49b2-d64b-9ce03308e5b0"
      },
      "source": [
        "scrutinize_number_column('studytime', low=1, high=4)\r\n",
        "#Без выбросов"
      ],
      "execution_count": null,
      "outputs": [
        {
          "output_type": "stream",
          "text": [
            "null\t\tunique\t\tcount\t\tmean\t\tstd\n",
            "7\t\t4\t\t388\t\t2.038659793814433\t\t0.8420783061121849\n",
            "\n"
          ],
          "name": "stdout"
        },
        {
          "output_type": "display_data",
          "data": {
            "text/plain": [
              "[2.0, 3.0, 1.0, nan, 4.0]"
            ]
          },
          "metadata": {
            "tags": []
          }
        },
        {
          "output_type": "display_data",
          "data": {
            "text/plain": [
              "2.0    194\n",
              "1.0    103\n",
              "3.0     64\n",
              "4.0     27\n",
              "NaN      7\n",
              "Name: studytime, dtype: int64"
            ]
          },
          "metadata": {
            "tags": []
          }
        },
        {
          "output_type": "stream",
          "text": [
            "\n",
            "\tbelow\tlow\t25\t50\t75\thigh\tabove\n",
            "IQR\t0\t-0.5\t1.0\t2.0\t2.0\t3.5\t27\n",
            "user\t0\t1\t1.0\t2.0\t2.0\t4\t0\n",
            "\n"
          ],
          "name": "stdout"
        },
        {
          "output_type": "display_data",
          "data": {
            "text/plain": [
              "[<matplotlib.lines.Line2D at 0x7eff5a8ae630>]"
            ]
          },
          "metadata": {
            "tags": []
          }
        },
        {
          "output_type": "display_data",
          "data": {
            "image/png": "[encoded data removed]",
            "text/plain": [
              "<Figure size 432x288 with 1 Axes>"
            ]
          },
          "metadata": {
            "tags": [],
            "needs_background": "light"
          }
        }
      ]
    },
    {
      "cell_type": "code",
      "metadata": {
        "colab": {
          "base_uri": "https://localhost:8080/",
          "height": 555
        },
        "id": "bSUDb7ru4RBW",
        "outputId": "04dae2f2-09bc-47bc-a9d4-e86de24d5a18"
      },
      "source": [
        "scrutinize_number_column('studytime_granular',low=-12,high=-3)\r\n",
        "#Без выбросов, но после корреляционного анализа придётся выбросить целиком"
      ],
      "execution_count": null,
      "outputs": [
        {
          "output_type": "stream",
          "text": [
            "null\t\tunique\t\tcount\t\tmean\t\tstd\n",
            "7\t\t4\t\t388\t\t-6.115979381443299\t\t2.526234918336546\n",
            "\n"
          ],
          "name": "stdout"
        },
        {
          "output_type": "display_data",
          "data": {
            "text/plain": [
              "[-6.0, -9.0, -3.0, nan, -12.0]"
            ]
          },
          "metadata": {
            "tags": []
          }
        },
        {
          "output_type": "display_data",
          "data": {
            "text/plain": [
              "-6.0     194\n",
              "-3.0     103\n",
              "-9.0      64\n",
              "-12.0     27\n",
              " NaN       7\n",
              "Name: studytime_granular, dtype: int64"
            ]
          },
          "metadata": {
            "tags": []
          }
        },
        {
          "output_type": "stream",
          "text": [
            "\n",
            "\tbelow\tlow\t25\t50\t75\thigh\tabove\n",
            "IQR\t27\t-10.5\t-6.0\t-6.0\t-3.0\t1.5\t0\n",
            "user\t0\t-12\t-6.0\t-6.0\t-3.0\t-3\t0\n",
            "\n"
          ],
          "name": "stdout"
        },
        {
          "output_type": "display_data",
          "data": {
            "text/plain": [
              "[<matplotlib.lines.Line2D at 0x7eff5a798780>]"
            ]
          },
          "metadata": {
            "tags": []
          }
        },
        {
          "output_type": "display_data",
          "data": {
            "image/png": "[encoded data removed]",
            "text/plain": [
              "<Figure size 432x288 with 1 Axes>"
            ]
          },
          "metadata": {
            "tags": [],
            "needs_background": "light"
          }
        }
      ]
    },
    {
      "cell_type": "code",
      "metadata": {
        "colab": {
          "base_uri": "https://localhost:8080/",
          "height": 555
        },
        "id": "1H5N4nAoob0l",
        "outputId": "81f6b2d2-f4a8-46e7-b19f-56cc1dba30c2"
      },
      "source": [
        "scrutinize_number_column('failures', low=0, high=3)\r\n",
        "#Без выбросов"
      ],
      "execution_count": null,
      "outputs": [
        {
          "output_type": "stream",
          "text": [
            "null\t\tunique\t\tcount\t\tmean\t\tstd\n",
            "22\t\t4\t\t373\t\t0.3378016085790885\t\t0.7431352452905915\n",
            "\n"
          ],
          "name": "stdout"
        },
        {
          "output_type": "display_data",
          "data": {
            "text/plain": [
              "[0.0, 3.0, nan, 2.0, 1.0]"
            ]
          },
          "metadata": {
            "tags": []
          }
        },
        {
          "output_type": "display_data",
          "data": {
            "text/plain": [
              "0.0    293\n",
              "1.0     49\n",
              "NaN     22\n",
              "2.0     16\n",
              "3.0     15\n",
              "Name: failures, dtype: int64"
            ]
          },
          "metadata": {
            "tags": []
          }
        },
        {
          "output_type": "stream",
          "text": [
            "\n",
            "\tbelow\tlow\t25\t50\t75\thigh\tabove\n",
            "IQR\t0\t0.0\t0.0\t0.0\t0.0\t0.0\t80\n",
            "user\t0\t0\t0.0\t0.0\t0.0\t3\t0\n",
            "\n"
          ],
          "name": "stdout"
        },
        {
          "output_type": "display_data",
          "data": {
            "text/plain": [
              "[<matplotlib.lines.Line2D at 0x7eff5a6e4550>]"
            ]
          },
          "metadata": {
            "tags": []
          }
        },
        {
          "output_type": "display_data",
          "data": {
            "image/png": "[encoded data removed]",
            "text/plain": [
              "<Figure size 432x288 with 1 Axes>"
            ]
          },
          "metadata": {
            "tags": [],
            "needs_background": "light"
          }
        }
      ]
    },
    {
      "cell_type": "code",
      "metadata": {
        "colab": {
          "base_uri": "https://localhost:8080/",
          "height": 592
        },
        "id": "ZD6OCEbko2a7",
        "outputId": "e9a7bb5d-20ac-447c-8029-da90a6695dd3"
      },
      "source": [
        "scrutinize_number_column('famrel', low=1, high=5)\r\n",
        "#Есть выброс\r\n",
        "to_drop_leftovers['famrel'] = (1,5)"
      ],
      "execution_count": null,
      "outputs": [
        {
          "output_type": "stream",
          "text": [
            "null\t\tunique\t\tcount\t\tmean\t\tstd\n",
            "27\t\t6\t\t368\t\t3.9375\t\t0.9272773717991188\n",
            "\n"
          ],
          "name": "stdout"
        },
        {
          "output_type": "display_data",
          "data": {
            "text/plain": [
              "[4.0, 5.0, 3.0, nan, -1.0, 2.0, 1.0]"
            ]
          },
          "metadata": {
            "tags": []
          }
        },
        {
          "output_type": "display_data",
          "data": {
            "text/plain": [
              " 4.0    182\n",
              " 5.0     99\n",
              " 3.0     62\n",
              " NaN     27\n",
              " 2.0     17\n",
              " 1.0      7\n",
              "-1.0      1\n",
              "Name: famrel, dtype: int64"
            ]
          },
          "metadata": {
            "tags": []
          }
        },
        {
          "output_type": "stream",
          "text": [
            "\n",
            "\tbelow\tlow\t25\t50\t75\thigh\tabove\n",
            "IQR\t25\t2.5\t4.0\t4.0\t5.0\t6.5\t0\n",
            "user\t1\t1\t4.0\t4.0\t5.0\t5\t0\n",
            "\n"
          ],
          "name": "stdout"
        },
        {
          "output_type": "display_data",
          "data": {
            "text/plain": [
              "[<matplotlib.lines.Line2D at 0x7eff5a666630>]"
            ]
          },
          "metadata": {
            "tags": []
          }
        },
        {
          "output_type": "display_data",
          "data": {
            "image/png": "[encoded data removed]",
            "text/plain": [
              "<Figure size 432x288 with 1 Axes>"
            ]
          },
          "metadata": {
            "tags": [],
            "needs_background": "light"
          }
        }
      ]
    },
    {
      "cell_type": "code",
      "metadata": {
        "colab": {
          "base_uri": "https://localhost:8080/",
          "height": 577
        },
        "id": "Ge3SbzsTo2YH",
        "outputId": "1d8fb894-704d-46e5-95a6-6d5d33144159"
      },
      "source": [
        "scrutinize_number_column('freetime', low=1, high=5)\r\n",
        "#Без выбросов"
      ],
      "execution_count": null,
      "outputs": [
        {
          "output_type": "stream",
          "text": [
            "null\t\tunique\t\tcount\t\tmean\t\tstd\n",
            "11\t\t5\t\t384\t\t3.2317708333333335\t\t0.9939403818104774\n",
            "\n"
          ],
          "name": "stdout"
        },
        {
          "output_type": "display_data",
          "data": {
            "text/plain": [
              "[3.0, 2.0, 4.0, 1.0, 5.0, nan]"
            ]
          },
          "metadata": {
            "tags": []
          }
        },
        {
          "output_type": "display_data",
          "data": {
            "text/plain": [
              "3.0    153\n",
              "4.0    112\n",
              "2.0     63\n",
              "5.0     38\n",
              "1.0     18\n",
              "NaN     11\n",
              "Name: freetime, dtype: int64"
            ]
          },
          "metadata": {
            "tags": []
          }
        },
        {
          "output_type": "stream",
          "text": [
            "\n",
            "\tbelow\tlow\t25\t50\t75\thigh\tabove\n",
            "IQR\t18\t1.5\t3.0\t3.0\t4.0\t5.5\t0\n",
            "user\t0\t1\t3.0\t3.0\t4.0\t5\t0\n",
            "\n"
          ],
          "name": "stdout"
        },
        {
          "output_type": "display_data",
          "data": {
            "text/plain": [
              "[<matplotlib.lines.Line2D at 0x7eff5a590cc0>]"
            ]
          },
          "metadata": {
            "tags": []
          }
        },
        {
          "output_type": "display_data",
          "data": {
            "image/png": "[encoded data removed]",
            "text/plain": [
              "<Figure size 432x288 with 1 Axes>"
            ]
          },
          "metadata": {
            "tags": [],
            "needs_background": "light"
          }
        }
      ]
    },
    {
      "cell_type": "code",
      "metadata": {
        "colab": {
          "base_uri": "https://localhost:8080/",
          "height": 574
        },
        "id": "coeyFZqlo2VD",
        "outputId": "3dd65ccc-f5e8-4c42-8222-8cf87a32ed69"
      },
      "source": [
        "scrutinize_number_column('goout', low=1, high=5)\r\n",
        "#Без выбросов"
      ],
      "execution_count": null,
      "outputs": [
        {
          "output_type": "stream",
          "text": [
            "null\t\tunique\t\tcount\t\tmean\t\tstd\n",
            "8\t\t5\t\t387\t\t3.1059431524547803\t\t1.115895897828766\n",
            "\n"
          ],
          "name": "stdout"
        },
        {
          "output_type": "display_data",
          "data": {
            "text/plain": [
              "[4.0, 3.0, 2.0, 1.0, 5.0, nan]"
            ]
          },
          "metadata": {
            "tags": []
          }
        },
        {
          "output_type": "display_data",
          "data": {
            "text/plain": [
              "3.0    127\n",
              "2.0    101\n",
              "4.0     84\n",
              "5.0     52\n",
              "1.0     23\n",
              "NaN      8\n",
              "Name: goout, dtype: int64"
            ]
          },
          "metadata": {
            "tags": []
          }
        },
        {
          "output_type": "stream",
          "text": [
            "\n",
            "\tbelow\tlow\t25\t50\t75\thigh\tabove\n",
            "IQR\t0\t-1.0\t2.0\t3.0\t4.0\t7.0\t0\n",
            "user\t0\t1\t2.0\t3.0\t4.0\t5\t0\n",
            "\n"
          ],
          "name": "stdout"
        },
        {
          "output_type": "display_data",
          "data": {
            "text/plain": [
              "[<matplotlib.lines.Line2D at 0x7eff5a4c2ef0>]"
            ]
          },
          "metadata": {
            "tags": []
          }
        },
        {
          "output_type": "display_data",
          "data": {
            "image/png": "[encoded data removed]",
            "text/plain": [
              "<Figure size 432x288 with 1 Axes>"
            ]
          },
          "metadata": {
            "tags": [],
            "needs_background": "light"
          }
        }
      ]
    },
    {
      "cell_type": "code",
      "metadata": {
        "colab": {
          "base_uri": "https://localhost:8080/",
          "height": 574
        },
        "id": "st-Rl_mBo2SP",
        "outputId": "0f5e7d07-509d-46e3-8d4e-3bc411ee29e4"
      },
      "source": [
        "scrutinize_number_column('health', low=1, high=5)\r\n",
        "#Без выбросов"
      ],
      "execution_count": null,
      "outputs": [
        {
          "output_type": "stream",
          "text": [
            "null\t\tunique\t\tcount\t\tmean\t\tstd\n",
            "15\t\t5\t\t380\t\t3.531578947368421\t\t1.3960187007158011\n",
            "\n"
          ],
          "name": "stdout"
        },
        {
          "output_type": "display_data",
          "data": {
            "text/plain": [
              "[3.0, 5.0, 1.0, 2.0, 4.0, nan]"
            ]
          },
          "metadata": {
            "tags": []
          }
        },
        {
          "output_type": "display_data",
          "data": {
            "text/plain": [
              "5.0    138\n",
              "3.0     89\n",
              "4.0     63\n",
              "1.0     47\n",
              "2.0     43\n",
              "NaN     15\n",
              "Name: health, dtype: int64"
            ]
          },
          "metadata": {
            "tags": []
          }
        },
        {
          "output_type": "stream",
          "text": [
            "\n",
            "\tbelow\tlow\t25\t50\t75\thigh\tabove\n",
            "IQR\t0\t0.0\t3.0\t4.0\t5.0\t8.0\t0\n",
            "user\t0\t1\t3.0\t4.0\t5.0\t5\t0\n",
            "\n"
          ],
          "name": "stdout"
        },
        {
          "output_type": "display_data",
          "data": {
            "text/plain": [
              "[<matplotlib.lines.Line2D at 0x7eff5a469c50>]"
            ]
          },
          "metadata": {
            "tags": []
          }
        },
        {
          "output_type": "display_data",
          "data": {
            "image/png": "[encoded data removed]",
            "text/plain": [
              "<Figure size 432x288 with 1 Axes>"
            ]
          },
          "metadata": {
            "tags": [],
            "needs_background": "light"
          }
        }
      ]
    },
    {
      "cell_type": "code",
      "metadata": {
        "colab": {
          "base_uri": "https://localhost:8080/",
          "height": 1000
        },
        "id": "dR9bfCVbo2Pd",
        "outputId": "612b4d2d-6d0a-4642-fb92-3c1227c42610"
      },
      "source": [
        "scrutinize_number_column('absences', low=0, high=30)\r\n",
        "#Есть выбросы\r\n",
        "#Доверимся IQR\r\n",
        "to_drop_leftovers['absences']=(0,20)"
      ],
      "execution_count": null,
      "outputs": [
        {
          "output_type": "stream",
          "text": [
            "null\t\tunique\t\tcount\t\tmean\t\tstd\n",
            "12\t\t36\t\t383\t\t7.2793733681462145\t\t23.46519685578298\n",
            "\n"
          ],
          "name": "stdout"
        },
        {
          "output_type": "display_data",
          "data": {
            "text/plain": [
              "[6.0,\n",
              " 4.0,\n",
              " 10.0,\n",
              " 2.0,\n",
              " 0.0,\n",
              " 16.0,\n",
              " nan,\n",
              " 14.0,\n",
              " 7.0,\n",
              " 8.0,\n",
              " 25.0,\n",
              " 12.0,\n",
              " 54.0,\n",
              " 18.0,\n",
              " 26.0,\n",
              " 20.0,\n",
              " 56.0,\n",
              " 24.0,\n",
              " 28.0,\n",
              " 5.0,\n",
              " 13.0,\n",
              " 15.0,\n",
              " 22.0,\n",
              " 3.0,\n",
              " 385.0,\n",
              " 21.0,\n",
              " 1.0,\n",
              " 75.0,\n",
              " 30.0,\n",
              " 19.0,\n",
              " 9.0,\n",
              " 11.0,\n",
              " 38.0,\n",
              " 40.0,\n",
              " 23.0,\n",
              " 17.0,\n",
              " 212.0]"
            ]
          },
          "metadata": {
            "tags": []
          }
        },
        {
          "output_type": "display_data",
          "data": {
            "text/plain": [
              "0.0      111\n",
              "2.0       60\n",
              "4.0       53\n",
              "6.0       31\n",
              "8.0       21\n",
              "10.0      17\n",
              "12.0      12\n",
              "NaN       12\n",
              "14.0      12\n",
              "3.0        8\n",
              "16.0       7\n",
              "7.0        6\n",
              "5.0        5\n",
              "18.0       5\n",
              "20.0       4\n",
              "1.0        3\n",
              "22.0       3\n",
              "9.0        3\n",
              "13.0       2\n",
              "15.0       2\n",
              "11.0       2\n",
              "25.0       1\n",
              "54.0       1\n",
              "385.0      1\n",
              "26.0       1\n",
              "56.0       1\n",
              "24.0       1\n",
              "212.0      1\n",
              "21.0       1\n",
              "75.0       1\n",
              "30.0       1\n",
              "19.0       1\n",
              "38.0       1\n",
              "40.0       1\n",
              "23.0       1\n",
              "17.0       1\n",
              "28.0       1\n",
              "Name: absences, dtype: int64"
            ]
          },
          "metadata": {
            "tags": []
          }
        },
        {
          "output_type": "stream",
          "text": [
            "\n",
            "\tbelow\tlow\t25\t50\t75\thigh\tabove\n",
            "IQR\t0\t-12.0\t0.0\t4.0\t8.0\t20.0\t17\n",
            "user\t0\t0\t0.0\t4.0\t8.0\t30\t7\n",
            "\n"
          ],
          "name": "stdout"
        },
        {
          "output_type": "display_data",
          "data": {
            "text/plain": [
              "[<matplotlib.lines.Line2D at 0x7eff5a39e748>]"
            ]
          },
          "metadata": {
            "tags": []
          }
        },
        {
          "output_type": "display_data",
          "data": {
            "image/png": "[encoded data removed]",
            "text/plain": [
              "<Figure size 432x288 with 1 Axes>"
            ]
          },
          "metadata": {
            "tags": [],
            "needs_background": "light"
          }
        }
      ]
    },
    {
      "cell_type": "code",
      "metadata": {
        "colab": {
          "base_uri": "https://localhost:8080/",
          "height": 1000
        },
        "id": "QS8hKRuEo2MD",
        "outputId": "229d87c8-b8ba-4364-862a-c8778ed30c90"
      },
      "source": [
        "scrutinize_number_column('score', low=0, high=100)\r\n",
        "#Без выбросов"
      ],
      "execution_count": null,
      "outputs": [
        {
          "output_type": "stream",
          "text": [
            "null\t\tunique\t\tcount\t\tmean\t\tstd\n",
            "6\t\t18\t\t389\t\t52.26221079691517\t\t22.919022312471654\n",
            "\n"
          ],
          "name": "stdout"
        },
        {
          "output_type": "display_data",
          "data": {
            "text/plain": [
              "[30.0,\n",
              " 50.0,\n",
              " 75.0,\n",
              " 55.0,\n",
              " 95.0,\n",
              " 45.0,\n",
              " 60.0,\n",
              " 70.0,\n",
              " 80.0,\n",
              " 25.0,\n",
              " 40.0,\n",
              " 85.0,\n",
              " 90.0,\n",
              " 65.0,\n",
              " 100.0,\n",
              " 35.0,\n",
              " 0.0,\n",
              " nan,\n",
              " 20.0]"
            ]
          },
          "metadata": {
            "tags": []
          }
        },
        {
          "output_type": "display_data",
          "data": {
            "text/plain": [
              "50.0     54\n",
              "55.0     46\n",
              "0.0      37\n",
              "75.0     33\n",
              "65.0     31\n",
              "40.0     31\n",
              "60.0     31\n",
              "45.0     27\n",
              "70.0     27\n",
              "80.0     16\n",
              "30.0     15\n",
              "90.0     12\n",
              "35.0      9\n",
              "25.0      7\n",
              "NaN       6\n",
              "85.0      6\n",
              "95.0      5\n",
              "100.0     1\n",
              "20.0      1\n",
              "Name: score, dtype: int64"
            ]
          },
          "metadata": {
            "tags": []
          }
        },
        {
          "output_type": "stream",
          "text": [
            "\n",
            "\tbelow\tlow\t25\t50\t75\thigh\tabove\n",
            "IQR\t0\t-5.0\t40.0\t55.0\t70.0\t115.0\t0\n",
            "user\t0\t0\t40.0\t55.0\t70.0\t100\t0\n",
            "\n"
          ],
          "name": "stdout"
        },
        {
          "output_type": "display_data",
          "data": {
            "text/plain": [
              "[<matplotlib.lines.Line2D at 0x7eff5a2cb2b0>]"
            ]
          },
          "metadata": {
            "tags": []
          }
        },
        {
          "output_type": "display_data",
          "data": {
            "image/png": "[encoded data removed]",
            "text/plain": [
              "<Figure size 432x288 with 1 Axes>"
            ]
          },
          "metadata": {
            "tags": [],
            "needs_background": "light"
          }
        }
      ]
    },
    {
      "cell_type": "markdown",
      "metadata": {
        "id": "9IVC7JFWN8bT"
      },
      "source": [
        "3) Номинативные признаки\r\n",
        "==="
      ]
    },
    {
      "cell_type": "code",
      "metadata": {
        "colab": {
          "base_uri": "https://localhost:8080/",
          "height": 345
        },
        "id": "bVR8WIPJkFnc",
        "outputId": "0ed4ba06-c1cf-4542-9d5a-9a6d7f2a0179"
      },
      "source": [
        "scrutinize_nominative_column('school')"
      ],
      "execution_count": null,
      "outputs": [
        {
          "output_type": "stream",
          "text": [
            "unique\t 2\n",
            "relev\t 2\n",
            "count\t 395\n",
            "\n"
          ],
          "name": "stdout"
        },
        {
          "output_type": "display_data",
          "data": {
            "text/html": [
              "<div>\n",
              "<style scoped>\n",
              "    .dataframe tbody tr th:only-of-type {\n",
              "        vertical-align: middle;\n",
              "    }\n",
              "\n",
              "    .dataframe tbody tr th {\n",
              "        vertical-align: top;\n",
              "    }\n",
              "\n",
              "    .dataframe thead th {\n",
              "        text-align: right;\n",
              "    }\n",
              "</style>\n",
              "<table border=\"1\" class=\"dataframe\">\n",
              "  <thead>\n",
              "    <tr style=\"text-align: right;\">\n",
              "      <th></th>\n",
              "      <th>school</th>\n",
              "    </tr>\n",
              "  </thead>\n",
              "  <tbody>\n",
              "    <tr>\n",
              "      <th>GP</th>\n",
              "      <td>349</td>\n",
              "    </tr>\n",
              "    <tr>\n",
              "      <th>MS</th>\n",
              "      <td>46</td>\n",
              "    </tr>\n",
              "  </tbody>\n",
              "</table>\n",
              "</div>"
            ],
            "text/plain": [
              "    school\n",
              "GP     349\n",
              "MS      46"
            ]
          },
          "metadata": {
            "tags": []
          }
        },
        {
          "output_type": "stream",
          "text": [
            "\n",
            "<class 'pandas.core.frame.DataFrame'>\n",
            "RangeIndex: 395 entries, 0 to 394\n",
            "Data columns (total 1 columns):\n",
            " #   Column  Non-Null Count  Dtype \n",
            "---  ------  --------------  ----- \n",
            " 0   school  395 non-null    object\n",
            "dtypes: object(1)\n",
            "memory usage: 22.9 KB\n"
          ],
          "name": "stdout"
        }
      ]
    },
    {
      "cell_type": "code",
      "metadata": {
        "colab": {
          "base_uri": "https://localhost:8080/",
          "height": 345
        },
        "id": "7Oe3FrfZnjQL",
        "outputId": "e28f7084-7b67-4be7-f712-d98d3e2c85f3"
      },
      "source": [
        "scrutinize_nominative_column('sex')"
      ],
      "execution_count": null,
      "outputs": [
        {
          "output_type": "stream",
          "text": [
            "unique\t 2\n",
            "relev\t 2\n",
            "count\t 395\n",
            "\n"
          ],
          "name": "stdout"
        },
        {
          "output_type": "display_data",
          "data": {
            "text/html": [
              "<div>\n",
              "<style scoped>\n",
              "    .dataframe tbody tr th:only-of-type {\n",
              "        vertical-align: middle;\n",
              "    }\n",
              "\n",
              "    .dataframe tbody tr th {\n",
              "        vertical-align: top;\n",
              "    }\n",
              "\n",
              "    .dataframe thead th {\n",
              "        text-align: right;\n",
              "    }\n",
              "</style>\n",
              "<table border=\"1\" class=\"dataframe\">\n",
              "  <thead>\n",
              "    <tr style=\"text-align: right;\">\n",
              "      <th></th>\n",
              "      <th>sex</th>\n",
              "    </tr>\n",
              "  </thead>\n",
              "  <tbody>\n",
              "    <tr>\n",
              "      <th>F</th>\n",
              "      <td>208</td>\n",
              "    </tr>\n",
              "    <tr>\n",
              "      <th>M</th>\n",
              "      <td>187</td>\n",
              "    </tr>\n",
              "  </tbody>\n",
              "</table>\n",
              "</div>"
            ],
            "text/plain": [
              "   sex\n",
              "F  208\n",
              "M  187"
            ]
          },
          "metadata": {
            "tags": []
          }
        },
        {
          "output_type": "stream",
          "text": [
            "\n",
            "<class 'pandas.core.frame.DataFrame'>\n",
            "RangeIndex: 395 entries, 0 to 394\n",
            "Data columns (total 1 columns):\n",
            " #   Column  Non-Null Count  Dtype \n",
            "---  ------  --------------  ----- \n",
            " 0   sex     395 non-null    object\n",
            "dtypes: object(1)\n",
            "memory usage: 25.6 KB\n"
          ],
          "name": "stdout"
        }
      ]
    },
    {
      "cell_type": "code",
      "metadata": {
        "colab": {
          "base_uri": "https://localhost:8080/",
          "height": 345
        },
        "id": "p0AOW61KnjNn",
        "outputId": "efe2ebed-312c-42b8-bc7f-87f1e63589fa"
      },
      "source": [
        "scrutinize_nominative_column('address')"
      ],
      "execution_count": null,
      "outputs": [
        {
          "output_type": "stream",
          "text": [
            "unique\t 2\n",
            "relev\t 2\n",
            "count\t 378\n",
            "\n"
          ],
          "name": "stdout"
        },
        {
          "output_type": "display_data",
          "data": {
            "text/html": [
              "<div>\n",
              "<style scoped>\n",
              "    .dataframe tbody tr th:only-of-type {\n",
              "        vertical-align: middle;\n",
              "    }\n",
              "\n",
              "    .dataframe tbody tr th {\n",
              "        vertical-align: top;\n",
              "    }\n",
              "\n",
              "    .dataframe thead th {\n",
              "        text-align: right;\n",
              "    }\n",
              "</style>\n",
              "<table border=\"1\" class=\"dataframe\">\n",
              "  <thead>\n",
              "    <tr style=\"text-align: right;\">\n",
              "      <th></th>\n",
              "      <th>address</th>\n",
              "    </tr>\n",
              "  </thead>\n",
              "  <tbody>\n",
              "    <tr>\n",
              "      <th>U</th>\n",
              "      <td>295</td>\n",
              "    </tr>\n",
              "    <tr>\n",
              "      <th>R</th>\n",
              "      <td>83</td>\n",
              "    </tr>\n",
              "  </tbody>\n",
              "</table>\n",
              "</div>"
            ],
            "text/plain": [
              "   address\n",
              "U      295\n",
              "R       83"
            ]
          },
          "metadata": {
            "tags": []
          }
        },
        {
          "output_type": "stream",
          "text": [
            "\n",
            "<class 'pandas.core.frame.DataFrame'>\n",
            "RangeIndex: 395 entries, 0 to 394\n",
            "Data columns (total 1 columns):\n",
            " #   Column   Non-Null Count  Dtype \n",
            "---  ------   --------------  ----- \n",
            " 0   address  378 non-null    object\n",
            "dtypes: object(1)\n",
            "memory usage: 25.0 KB\n"
          ],
          "name": "stdout"
        }
      ]
    },
    {
      "cell_type": "code",
      "metadata": {
        "colab": {
          "base_uri": "https://localhost:8080/",
          "height": 345
        },
        "id": "eVwXey5tnjJ9",
        "outputId": "b8246e69-dcb1-4610-b1a5-bcc5ed72a9f7"
      },
      "source": [
        "scrutinize_nominative_column('famsize')"
      ],
      "execution_count": null,
      "outputs": [
        {
          "output_type": "stream",
          "text": [
            "unique\t 2\n",
            "relev\t 2\n",
            "count\t 368\n",
            "\n"
          ],
          "name": "stdout"
        },
        {
          "output_type": "display_data",
          "data": {
            "text/html": [
              "<div>\n",
              "<style scoped>\n",
              "    .dataframe tbody tr th:only-of-type {\n",
              "        vertical-align: middle;\n",
              "    }\n",
              "\n",
              "    .dataframe tbody tr th {\n",
              "        vertical-align: top;\n",
              "    }\n",
              "\n",
              "    .dataframe thead th {\n",
              "        text-align: right;\n",
              "    }\n",
              "</style>\n",
              "<table border=\"1\" class=\"dataframe\">\n",
              "  <thead>\n",
              "    <tr style=\"text-align: right;\">\n",
              "      <th></th>\n",
              "      <th>famsize</th>\n",
              "    </tr>\n",
              "  </thead>\n",
              "  <tbody>\n",
              "    <tr>\n",
              "      <th>GT3</th>\n",
              "      <td>261</td>\n",
              "    </tr>\n",
              "    <tr>\n",
              "      <th>LE3</th>\n",
              "      <td>107</td>\n",
              "    </tr>\n",
              "  </tbody>\n",
              "</table>\n",
              "</div>"
            ],
            "text/plain": [
              "     famsize\n",
              "GT3      261\n",
              "LE3      107"
            ]
          },
          "metadata": {
            "tags": []
          }
        },
        {
          "output_type": "stream",
          "text": [
            "\n",
            "<class 'pandas.core.frame.DataFrame'>\n",
            "RangeIndex: 395 entries, 0 to 394\n",
            "Data columns (total 1 columns):\n",
            " #   Column   Non-Null Count  Dtype \n",
            "---  ------   --------------  ----- \n",
            " 0   famsize  368 non-null    object\n",
            "dtypes: object(1)\n",
            "memory usage: 22.5 KB\n"
          ],
          "name": "stdout"
        }
      ]
    },
    {
      "cell_type": "code",
      "metadata": {
        "colab": {
          "base_uri": "https://localhost:8080/",
          "height": 345
        },
        "id": "mD-LBPqAnjHo",
        "outputId": "6dd9bd62-341e-4839-f4d9-943423219f9f"
      },
      "source": [
        "scrutinize_nominative_column('Pstatus')"
      ],
      "execution_count": null,
      "outputs": [
        {
          "output_type": "stream",
          "text": [
            "unique\t 2\n",
            "relev\t 2\n",
            "count\t 350\n",
            "\n"
          ],
          "name": "stdout"
        },
        {
          "output_type": "display_data",
          "data": {
            "text/html": [
              "<div>\n",
              "<style scoped>\n",
              "    .dataframe tbody tr th:only-of-type {\n",
              "        vertical-align: middle;\n",
              "    }\n",
              "\n",
              "    .dataframe tbody tr th {\n",
              "        vertical-align: top;\n",
              "    }\n",
              "\n",
              "    .dataframe thead th {\n",
              "        text-align: right;\n",
              "    }\n",
              "</style>\n",
              "<table border=\"1\" class=\"dataframe\">\n",
              "  <thead>\n",
              "    <tr style=\"text-align: right;\">\n",
              "      <th></th>\n",
              "      <th>Pstatus</th>\n",
              "    </tr>\n",
              "  </thead>\n",
              "  <tbody>\n",
              "    <tr>\n",
              "      <th>T</th>\n",
              "      <td>314</td>\n",
              "    </tr>\n",
              "    <tr>\n",
              "      <th>A</th>\n",
              "      <td>36</td>\n",
              "    </tr>\n",
              "  </tbody>\n",
              "</table>\n",
              "</div>"
            ],
            "text/plain": [
              "   Pstatus\n",
              "T      314\n",
              "A       36"
            ]
          },
          "metadata": {
            "tags": []
          }
        },
        {
          "output_type": "stream",
          "text": [
            "\n",
            "<class 'pandas.core.frame.DataFrame'>\n",
            "RangeIndex: 395 entries, 0 to 394\n",
            "Data columns (total 1 columns):\n",
            " #   Column   Non-Null Count  Dtype \n",
            "---  ------   --------------  ----- \n",
            " 0   Pstatus  350 non-null    object\n",
            "dtypes: object(1)\n",
            "memory usage: 24.1 KB\n"
          ],
          "name": "stdout"
        }
      ]
    },
    {
      "cell_type": "code",
      "metadata": {
        "colab": {
          "base_uri": "https://localhost:8080/",
          "height": 435
        },
        "id": "PRvXKBLlnjEH",
        "outputId": "0b347f23-4b2a-4f16-a845-47ef1dd2260c"
      },
      "source": [
        "scrutinize_nominative_column('Mjob')"
      ],
      "execution_count": null,
      "outputs": [
        {
          "output_type": "stream",
          "text": [
            "unique\t 5\n",
            "relev\t 5\n",
            "count\t 376\n",
            "\n"
          ],
          "name": "stdout"
        },
        {
          "output_type": "display_data",
          "data": {
            "text/html": [
              "<div>\n",
              "<style scoped>\n",
              "    .dataframe tbody tr th:only-of-type {\n",
              "        vertical-align: middle;\n",
              "    }\n",
              "\n",
              "    .dataframe tbody tr th {\n",
              "        vertical-align: top;\n",
              "    }\n",
              "\n",
              "    .dataframe thead th {\n",
              "        text-align: right;\n",
              "    }\n",
              "</style>\n",
              "<table border=\"1\" class=\"dataframe\">\n",
              "  <thead>\n",
              "    <tr style=\"text-align: right;\">\n",
              "      <th></th>\n",
              "      <th>Mjob</th>\n",
              "    </tr>\n",
              "  </thead>\n",
              "  <tbody>\n",
              "    <tr>\n",
              "      <th>other</th>\n",
              "      <td>133</td>\n",
              "    </tr>\n",
              "    <tr>\n",
              "      <th>services</th>\n",
              "      <td>98</td>\n",
              "    </tr>\n",
              "    <tr>\n",
              "      <th>at_home</th>\n",
              "      <td>58</td>\n",
              "    </tr>\n",
              "    <tr>\n",
              "      <th>teacher</th>\n",
              "      <td>55</td>\n",
              "    </tr>\n",
              "    <tr>\n",
              "      <th>health</th>\n",
              "      <td>32</td>\n",
              "    </tr>\n",
              "  </tbody>\n",
              "</table>\n",
              "</div>"
            ],
            "text/plain": [
              "          Mjob\n",
              "other      133\n",
              "services    98\n",
              "at_home     58\n",
              "teacher     55\n",
              "health      32"
            ]
          },
          "metadata": {
            "tags": []
          }
        },
        {
          "output_type": "stream",
          "text": [
            "\n",
            "<class 'pandas.core.frame.DataFrame'>\n",
            "RangeIndex: 395 entries, 0 to 394\n",
            "Data columns (total 1 columns):\n",
            " #   Column  Non-Null Count  Dtype \n",
            "---  ------  --------------  ----- \n",
            " 0   Mjob    376 non-null    object\n",
            "dtypes: object(1)\n",
            "memory usage: 24.0 KB\n"
          ],
          "name": "stdout"
        }
      ]
    },
    {
      "cell_type": "code",
      "metadata": {
        "colab": {
          "base_uri": "https://localhost:8080/",
          "height": 435
        },
        "id": "Xk5Lkq0_njBz",
        "outputId": "aab95591-6d98-4b84-a142-dad6e36e8b69"
      },
      "source": [
        "scrutinize_nominative_column('Fjob')"
      ],
      "execution_count": null,
      "outputs": [
        {
          "output_type": "stream",
          "text": [
            "unique\t 5\n",
            "relev\t 5\n",
            "count\t 359\n",
            "\n"
          ],
          "name": "stdout"
        },
        {
          "output_type": "display_data",
          "data": {
            "text/html": [
              "<div>\n",
              "<style scoped>\n",
              "    .dataframe tbody tr th:only-of-type {\n",
              "        vertical-align: middle;\n",
              "    }\n",
              "\n",
              "    .dataframe tbody tr th {\n",
              "        vertical-align: top;\n",
              "    }\n",
              "\n",
              "    .dataframe thead th {\n",
              "        text-align: right;\n",
              "    }\n",
              "</style>\n",
              "<table border=\"1\" class=\"dataframe\">\n",
              "  <thead>\n",
              "    <tr style=\"text-align: right;\">\n",
              "      <th></th>\n",
              "      <th>Fjob</th>\n",
              "    </tr>\n",
              "  </thead>\n",
              "  <tbody>\n",
              "    <tr>\n",
              "      <th>other</th>\n",
              "      <td>197</td>\n",
              "    </tr>\n",
              "    <tr>\n",
              "      <th>services</th>\n",
              "      <td>102</td>\n",
              "    </tr>\n",
              "    <tr>\n",
              "      <th>teacher</th>\n",
              "      <td>29</td>\n",
              "    </tr>\n",
              "    <tr>\n",
              "      <th>at_home</th>\n",
              "      <td>16</td>\n",
              "    </tr>\n",
              "    <tr>\n",
              "      <th>health</th>\n",
              "      <td>15</td>\n",
              "    </tr>\n",
              "  </tbody>\n",
              "</table>\n",
              "</div>"
            ],
            "text/plain": [
              "          Fjob\n",
              "other      197\n",
              "services   102\n",
              "teacher     29\n",
              "at_home     16\n",
              "health      15"
            ]
          },
          "metadata": {
            "tags": []
          }
        },
        {
          "output_type": "stream",
          "text": [
            "\n",
            "<class 'pandas.core.frame.DataFrame'>\n",
            "RangeIndex: 395 entries, 0 to 394\n",
            "Data columns (total 1 columns):\n",
            " #   Column  Non-Null Count  Dtype \n",
            "---  ------  --------------  ----- \n",
            " 0   Fjob    359 non-null    object\n",
            "dtypes: object(1)\n",
            "memory usage: 23.4 KB\n"
          ],
          "name": "stdout"
        }
      ]
    },
    {
      "cell_type": "code",
      "metadata": {
        "colab": {
          "base_uri": "https://localhost:8080/",
          "height": 405
        },
        "id": "ibNCCMagni_J",
        "outputId": "c928eab7-d11c-4d49-cb35-b7fae8574b57"
      },
      "source": [
        "scrutinize_nominative_column('reason')"
      ],
      "execution_count": null,
      "outputs": [
        {
          "output_type": "stream",
          "text": [
            "unique\t 4\n",
            "relev\t 4\n",
            "count\t 378\n",
            "\n"
          ],
          "name": "stdout"
        },
        {
          "output_type": "display_data",
          "data": {
            "text/html": [
              "<div>\n",
              "<style scoped>\n",
              "    .dataframe tbody tr th:only-of-type {\n",
              "        vertical-align: middle;\n",
              "    }\n",
              "\n",
              "    .dataframe tbody tr th {\n",
              "        vertical-align: top;\n",
              "    }\n",
              "\n",
              "    .dataframe thead th {\n",
              "        text-align: right;\n",
              "    }\n",
              "</style>\n",
              "<table border=\"1\" class=\"dataframe\">\n",
              "  <thead>\n",
              "    <tr style=\"text-align: right;\">\n",
              "      <th></th>\n",
              "      <th>reason</th>\n",
              "    </tr>\n",
              "  </thead>\n",
              "  <tbody>\n",
              "    <tr>\n",
              "      <th>course</th>\n",
              "      <td>137</td>\n",
              "    </tr>\n",
              "    <tr>\n",
              "      <th>home</th>\n",
              "      <td>104</td>\n",
              "    </tr>\n",
              "    <tr>\n",
              "      <th>reputation</th>\n",
              "      <td>103</td>\n",
              "    </tr>\n",
              "    <tr>\n",
              "      <th>other</th>\n",
              "      <td>34</td>\n",
              "    </tr>\n",
              "  </tbody>\n",
              "</table>\n",
              "</div>"
            ],
            "text/plain": [
              "            reason\n",
              "course         137\n",
              "home           104\n",
              "reputation     103\n",
              "other           34"
            ]
          },
          "metadata": {
            "tags": []
          }
        },
        {
          "output_type": "stream",
          "text": [
            "\n",
            "<class 'pandas.core.frame.DataFrame'>\n",
            "RangeIndex: 395 entries, 0 to 394\n",
            "Data columns (total 1 columns):\n",
            " #   Column  Non-Null Count  Dtype \n",
            "---  ------  --------------  ----- \n",
            " 0   reason  378 non-null    object\n",
            "dtypes: object(1)\n",
            "memory usage: 24.1 KB\n"
          ],
          "name": "stdout"
        }
      ]
    },
    {
      "cell_type": "code",
      "metadata": {
        "colab": {
          "base_uri": "https://localhost:8080/",
          "height": 375
        },
        "id": "xynBjwGKni86",
        "outputId": "d9c2e8c0-4b83-4f61-e055-90b42dd54a99"
      },
      "source": [
        "scrutinize_nominative_column('guardian')"
      ],
      "execution_count": null,
      "outputs": [
        {
          "output_type": "stream",
          "text": [
            "unique\t 3\n",
            "relev\t 3\n",
            "count\t 364\n",
            "\n"
          ],
          "name": "stdout"
        },
        {
          "output_type": "display_data",
          "data": {
            "text/html": [
              "<div>\n",
              "<style scoped>\n",
              "    .dataframe tbody tr th:only-of-type {\n",
              "        vertical-align: middle;\n",
              "    }\n",
              "\n",
              "    .dataframe tbody tr th {\n",
              "        vertical-align: top;\n",
              "    }\n",
              "\n",
              "    .dataframe thead th {\n",
              "        text-align: right;\n",
              "    }\n",
              "</style>\n",
              "<table border=\"1\" class=\"dataframe\">\n",
              "  <thead>\n",
              "    <tr style=\"text-align: right;\">\n",
              "      <th></th>\n",
              "      <th>guardian</th>\n",
              "    </tr>\n",
              "  </thead>\n",
              "  <tbody>\n",
              "    <tr>\n",
              "      <th>mother</th>\n",
              "      <td>250</td>\n",
              "    </tr>\n",
              "    <tr>\n",
              "      <th>father</th>\n",
              "      <td>86</td>\n",
              "    </tr>\n",
              "    <tr>\n",
              "      <th>other</th>\n",
              "      <td>28</td>\n",
              "    </tr>\n",
              "  </tbody>\n",
              "</table>\n",
              "</div>"
            ],
            "text/plain": [
              "        guardian\n",
              "mother       250\n",
              "father        86\n",
              "other         28"
            ]
          },
          "metadata": {
            "tags": []
          }
        },
        {
          "output_type": "stream",
          "text": [
            "\n",
            "<class 'pandas.core.frame.DataFrame'>\n",
            "RangeIndex: 395 entries, 0 to 394\n",
            "Data columns (total 1 columns):\n",
            " #   Column    Non-Null Count  Dtype \n",
            "---  ------    --------------  ----- \n",
            " 0   guardian  364 non-null    object\n",
            "dtypes: object(1)\n",
            "memory usage: 23.5 KB\n"
          ],
          "name": "stdout"
        }
      ]
    },
    {
      "cell_type": "code",
      "metadata": {
        "colab": {
          "base_uri": "https://localhost:8080/",
          "height": 345
        },
        "id": "1ygOHduSni5T",
        "outputId": "92e0e310-8985-4192-cbfe-e0891cbe8770"
      },
      "source": [
        "scrutinize_nominative_column('schoolsup')"
      ],
      "execution_count": null,
      "outputs": [
        {
          "output_type": "stream",
          "text": [
            "unique\t 2\n",
            "relev\t 2\n",
            "count\t 386\n",
            "\n"
          ],
          "name": "stdout"
        },
        {
          "output_type": "display_data",
          "data": {
            "text/html": [
              "<div>\n",
              "<style scoped>\n",
              "    .dataframe tbody tr th:only-of-type {\n",
              "        vertical-align: middle;\n",
              "    }\n",
              "\n",
              "    .dataframe tbody tr th {\n",
              "        vertical-align: top;\n",
              "    }\n",
              "\n",
              "    .dataframe thead th {\n",
              "        text-align: right;\n",
              "    }\n",
              "</style>\n",
              "<table border=\"1\" class=\"dataframe\">\n",
              "  <thead>\n",
              "    <tr style=\"text-align: right;\">\n",
              "      <th></th>\n",
              "      <th>schoolsup</th>\n",
              "    </tr>\n",
              "  </thead>\n",
              "  <tbody>\n",
              "    <tr>\n",
              "      <th>no</th>\n",
              "      <td>335</td>\n",
              "    </tr>\n",
              "    <tr>\n",
              "      <th>yes</th>\n",
              "      <td>51</td>\n",
              "    </tr>\n",
              "  </tbody>\n",
              "</table>\n",
              "</div>"
            ],
            "text/plain": [
              "     schoolsup\n",
              "no         335\n",
              "yes         51"
            ]
          },
          "metadata": {
            "tags": []
          }
        },
        {
          "output_type": "stream",
          "text": [
            "\n",
            "<class 'pandas.core.frame.DataFrame'>\n",
            "RangeIndex: 395 entries, 0 to 394\n",
            "Data columns (total 1 columns):\n",
            " #   Column     Non-Null Count  Dtype \n",
            "---  ------     --------------  ----- \n",
            " 0   schoolsup  386 non-null    object\n",
            "dtypes: object(1)\n",
            "memory usage: 22.7 KB\n"
          ],
          "name": "stdout"
        }
      ]
    },
    {
      "cell_type": "code",
      "metadata": {
        "colab": {
          "base_uri": "https://localhost:8080/",
          "height": 345
        },
        "id": "SRhGtEnCni2T",
        "outputId": "222badf7-5ff6-4e31-e40d-21f1a7f4665e"
      },
      "source": [
        "scrutinize_nominative_column('famsup')"
      ],
      "execution_count": null,
      "outputs": [
        {
          "output_type": "stream",
          "text": [
            "unique\t 2\n",
            "relev\t 2\n",
            "count\t 356\n",
            "\n"
          ],
          "name": "stdout"
        },
        {
          "output_type": "display_data",
          "data": {
            "text/html": [
              "<div>\n",
              "<style scoped>\n",
              "    .dataframe tbody tr th:only-of-type {\n",
              "        vertical-align: middle;\n",
              "    }\n",
              "\n",
              "    .dataframe tbody tr th {\n",
              "        vertical-align: top;\n",
              "    }\n",
              "\n",
              "    .dataframe thead th {\n",
              "        text-align: right;\n",
              "    }\n",
              "</style>\n",
              "<table border=\"1\" class=\"dataframe\">\n",
              "  <thead>\n",
              "    <tr style=\"text-align: right;\">\n",
              "      <th></th>\n",
              "      <th>famsup</th>\n",
              "    </tr>\n",
              "  </thead>\n",
              "  <tbody>\n",
              "    <tr>\n",
              "      <th>yes</th>\n",
              "      <td>219</td>\n",
              "    </tr>\n",
              "    <tr>\n",
              "      <th>no</th>\n",
              "      <td>137</td>\n",
              "    </tr>\n",
              "  </tbody>\n",
              "</table>\n",
              "</div>"
            ],
            "text/plain": [
              "     famsup\n",
              "yes     219\n",
              "no      137"
            ]
          },
          "metadata": {
            "tags": []
          }
        },
        {
          "output_type": "stream",
          "text": [
            "\n",
            "<class 'pandas.core.frame.DataFrame'>\n",
            "RangeIndex: 395 entries, 0 to 394\n",
            "Data columns (total 1 columns):\n",
            " #   Column  Non-Null Count  Dtype \n",
            "---  ------  --------------  ----- \n",
            " 0   famsup  356 non-null    object\n",
            "dtypes: object(1)\n",
            "memory usage: 22.1 KB\n"
          ],
          "name": "stdout"
        }
      ]
    },
    {
      "cell_type": "code",
      "metadata": {
        "colab": {
          "base_uri": "https://localhost:8080/",
          "height": 345
        },
        "id": "Ql8yvqXUnizl",
        "outputId": "123a60f0-bc35-4701-a699-3d0e1409c038"
      },
      "source": [
        "scrutinize_nominative_column('paid')"
      ],
      "execution_count": null,
      "outputs": [
        {
          "output_type": "stream",
          "text": [
            "unique\t 2\n",
            "relev\t 2\n",
            "count\t 355\n",
            "\n"
          ],
          "name": "stdout"
        },
        {
          "output_type": "display_data",
          "data": {
            "text/html": [
              "<div>\n",
              "<style scoped>\n",
              "    .dataframe tbody tr th:only-of-type {\n",
              "        vertical-align: middle;\n",
              "    }\n",
              "\n",
              "    .dataframe tbody tr th {\n",
              "        vertical-align: top;\n",
              "    }\n",
              "\n",
              "    .dataframe thead th {\n",
              "        text-align: right;\n",
              "    }\n",
              "</style>\n",
              "<table border=\"1\" class=\"dataframe\">\n",
              "  <thead>\n",
              "    <tr style=\"text-align: right;\">\n",
              "      <th></th>\n",
              "      <th>paid</th>\n",
              "    </tr>\n",
              "  </thead>\n",
              "  <tbody>\n",
              "    <tr>\n",
              "      <th>no</th>\n",
              "      <td>200</td>\n",
              "    </tr>\n",
              "    <tr>\n",
              "      <th>yes</th>\n",
              "      <td>155</td>\n",
              "    </tr>\n",
              "  </tbody>\n",
              "</table>\n",
              "</div>"
            ],
            "text/plain": [
              "     paid\n",
              "no    200\n",
              "yes   155"
            ]
          },
          "metadata": {
            "tags": []
          }
        },
        {
          "output_type": "stream",
          "text": [
            "\n",
            "<class 'pandas.core.frame.DataFrame'>\n",
            "RangeIndex: 395 entries, 0 to 394\n",
            "Data columns (total 1 columns):\n",
            " #   Column  Non-Null Count  Dtype \n",
            "---  ------  --------------  ----- \n",
            " 0   paid    355 non-null    object\n",
            "dtypes: object(1)\n",
            "memory usage: 22.0 KB\n"
          ],
          "name": "stdout"
        }
      ]
    },
    {
      "cell_type": "code",
      "metadata": {
        "colab": {
          "base_uri": "https://localhost:8080/",
          "height": 345
        },
        "id": "MvegtM6Wniws",
        "outputId": "b3793734-e4cc-4fb8-c807-ef5b8c556438"
      },
      "source": [
        "scrutinize_nominative_column('activities')"
      ],
      "execution_count": null,
      "outputs": [
        {
          "output_type": "stream",
          "text": [
            "unique\t 2\n",
            "relev\t 2\n",
            "count\t 381\n",
            "\n"
          ],
          "name": "stdout"
        },
        {
          "output_type": "display_data",
          "data": {
            "text/html": [
              "<div>\n",
              "<style scoped>\n",
              "    .dataframe tbody tr th:only-of-type {\n",
              "        vertical-align: middle;\n",
              "    }\n",
              "\n",
              "    .dataframe tbody tr th {\n",
              "        vertical-align: top;\n",
              "    }\n",
              "\n",
              "    .dataframe thead th {\n",
              "        text-align: right;\n",
              "    }\n",
              "</style>\n",
              "<table border=\"1\" class=\"dataframe\">\n",
              "  <thead>\n",
              "    <tr style=\"text-align: right;\">\n",
              "      <th></th>\n",
              "      <th>activities</th>\n",
              "    </tr>\n",
              "  </thead>\n",
              "  <tbody>\n",
              "    <tr>\n",
              "      <th>yes</th>\n",
              "      <td>195</td>\n",
              "    </tr>\n",
              "    <tr>\n",
              "      <th>no</th>\n",
              "      <td>186</td>\n",
              "    </tr>\n",
              "  </tbody>\n",
              "</table>\n",
              "</div>"
            ],
            "text/plain": [
              "     activities\n",
              "yes         195\n",
              "no          186"
            ]
          },
          "metadata": {
            "tags": []
          }
        },
        {
          "output_type": "stream",
          "text": [
            "\n",
            "<class 'pandas.core.frame.DataFrame'>\n",
            "RangeIndex: 395 entries, 0 to 394\n",
            "Data columns (total 1 columns):\n",
            " #   Column      Non-Null Count  Dtype \n",
            "---  ------      --------------  ----- \n",
            " 0   activities  381 non-null    object\n",
            "dtypes: object(1)\n",
            "memory usage: 22.7 KB\n"
          ],
          "name": "stdout"
        }
      ]
    },
    {
      "cell_type": "code",
      "metadata": {
        "colab": {
          "base_uri": "https://localhost:8080/",
          "height": 345
        },
        "id": "XgHQ4raTnit8",
        "outputId": "9ac9e883-a93c-4836-c428-c8993e63546f"
      },
      "source": [
        "scrutinize_nominative_column('nursery')"
      ],
      "execution_count": null,
      "outputs": [
        {
          "output_type": "stream",
          "text": [
            "unique\t 2\n",
            "relev\t 2\n",
            "count\t 379\n",
            "\n"
          ],
          "name": "stdout"
        },
        {
          "output_type": "display_data",
          "data": {
            "text/html": [
              "<div>\n",
              "<style scoped>\n",
              "    .dataframe tbody tr th:only-of-type {\n",
              "        vertical-align: middle;\n",
              "    }\n",
              "\n",
              "    .dataframe tbody tr th {\n",
              "        vertical-align: top;\n",
              "    }\n",
              "\n",
              "    .dataframe thead th {\n",
              "        text-align: right;\n",
              "    }\n",
              "</style>\n",
              "<table border=\"1\" class=\"dataframe\">\n",
              "  <thead>\n",
              "    <tr style=\"text-align: right;\">\n",
              "      <th></th>\n",
              "      <th>nursery</th>\n",
              "    </tr>\n",
              "  </thead>\n",
              "  <tbody>\n",
              "    <tr>\n",
              "      <th>yes</th>\n",
              "      <td>300</td>\n",
              "    </tr>\n",
              "    <tr>\n",
              "      <th>no</th>\n",
              "      <td>79</td>\n",
              "    </tr>\n",
              "  </tbody>\n",
              "</table>\n",
              "</div>"
            ],
            "text/plain": [
              "     nursery\n",
              "yes      300\n",
              "no        79"
            ]
          },
          "metadata": {
            "tags": []
          }
        },
        {
          "output_type": "stream",
          "text": [
            "\n",
            "<class 'pandas.core.frame.DataFrame'>\n",
            "RangeIndex: 395 entries, 0 to 394\n",
            "Data columns (total 1 columns):\n",
            " #   Column   Non-Null Count  Dtype \n",
            "---  ------   --------------  ----- \n",
            " 0   nursery  379 non-null    object\n",
            "dtypes: object(1)\n",
            "memory usage: 22.8 KB\n"
          ],
          "name": "stdout"
        }
      ]
    },
    {
      "cell_type": "code",
      "metadata": {
        "colab": {
          "base_uri": "https://localhost:8080/",
          "height": 345
        },
        "id": "SOkgyJPyniqi",
        "outputId": "90c3ed8b-95dc-40db-ee17-fae3e19dcc4b"
      },
      "source": [
        "scrutinize_nominative_column('higher')"
      ],
      "execution_count": null,
      "outputs": [
        {
          "output_type": "stream",
          "text": [
            "unique\t 2\n",
            "relev\t 2\n",
            "count\t 375\n",
            "\n"
          ],
          "name": "stdout"
        },
        {
          "output_type": "display_data",
          "data": {
            "text/html": [
              "<div>\n",
              "<style scoped>\n",
              "    .dataframe tbody tr th:only-of-type {\n",
              "        vertical-align: middle;\n",
              "    }\n",
              "\n",
              "    .dataframe tbody tr th {\n",
              "        vertical-align: top;\n",
              "    }\n",
              "\n",
              "    .dataframe thead th {\n",
              "        text-align: right;\n",
              "    }\n",
              "</style>\n",
              "<table border=\"1\" class=\"dataframe\">\n",
              "  <thead>\n",
              "    <tr style=\"text-align: right;\">\n",
              "      <th></th>\n",
              "      <th>higher</th>\n",
              "    </tr>\n",
              "  </thead>\n",
              "  <tbody>\n",
              "    <tr>\n",
              "      <th>yes</th>\n",
              "      <td>356</td>\n",
              "    </tr>\n",
              "    <tr>\n",
              "      <th>no</th>\n",
              "      <td>19</td>\n",
              "    </tr>\n",
              "  </tbody>\n",
              "</table>\n",
              "</div>"
            ],
            "text/plain": [
              "     higher\n",
              "yes     356\n",
              "no       19"
            ]
          },
          "metadata": {
            "tags": []
          }
        },
        {
          "output_type": "stream",
          "text": [
            "\n",
            "<class 'pandas.core.frame.DataFrame'>\n",
            "RangeIndex: 395 entries, 0 to 394\n",
            "Data columns (total 1 columns):\n",
            " #   Column  Non-Null Count  Dtype \n",
            "---  ------  --------------  ----- \n",
            " 0   higher  375 non-null    object\n",
            "dtypes: object(1)\n",
            "memory usage: 22.7 KB\n"
          ],
          "name": "stdout"
        }
      ]
    },
    {
      "cell_type": "code",
      "metadata": {
        "colab": {
          "base_uri": "https://localhost:8080/",
          "height": 345
        },
        "id": "imKF5w_Mninw",
        "outputId": "35a61d75-6cae-480a-d929-8b82417aa5c8"
      },
      "source": [
        "scrutinize_nominative_column('internet')"
      ],
      "execution_count": null,
      "outputs": [
        {
          "output_type": "stream",
          "text": [
            "unique\t 2\n",
            "relev\t 2\n",
            "count\t 361\n",
            "\n"
          ],
          "name": "stdout"
        },
        {
          "output_type": "display_data",
          "data": {
            "text/html": [
              "<div>\n",
              "<style scoped>\n",
              "    .dataframe tbody tr th:only-of-type {\n",
              "        vertical-align: middle;\n",
              "    }\n",
              "\n",
              "    .dataframe tbody tr th {\n",
              "        vertical-align: top;\n",
              "    }\n",
              "\n",
              "    .dataframe thead th {\n",
              "        text-align: right;\n",
              "    }\n",
              "</style>\n",
              "<table border=\"1\" class=\"dataframe\">\n",
              "  <thead>\n",
              "    <tr style=\"text-align: right;\">\n",
              "      <th></th>\n",
              "      <th>internet</th>\n",
              "    </tr>\n",
              "  </thead>\n",
              "  <tbody>\n",
              "    <tr>\n",
              "      <th>yes</th>\n",
              "      <td>305</td>\n",
              "    </tr>\n",
              "    <tr>\n",
              "      <th>no</th>\n",
              "      <td>56</td>\n",
              "    </tr>\n",
              "  </tbody>\n",
              "</table>\n",
              "</div>"
            ],
            "text/plain": [
              "     internet\n",
              "yes       305\n",
              "no         56"
            ]
          },
          "metadata": {
            "tags": []
          }
        },
        {
          "output_type": "stream",
          "text": [
            "\n",
            "<class 'pandas.core.frame.DataFrame'>\n",
            "RangeIndex: 395 entries, 0 to 394\n",
            "Data columns (total 1 columns):\n",
            " #   Column    Non-Null Count  Dtype \n",
            "---  ------    --------------  ----- \n",
            " 0   internet  361 non-null    object\n",
            "dtypes: object(1)\n",
            "memory usage: 22.3 KB\n"
          ],
          "name": "stdout"
        }
      ]
    },
    {
      "cell_type": "code",
      "metadata": {
        "colab": {
          "base_uri": "https://localhost:8080/",
          "height": 345
        },
        "id": "Q8olhr5Dnik0",
        "outputId": "1e3dfcc2-9f4b-447d-c3bf-f6d30921b5b5"
      },
      "source": [
        "scrutinize_nominative_column('romantic')"
      ],
      "execution_count": null,
      "outputs": [
        {
          "output_type": "stream",
          "text": [
            "unique\t 2\n",
            "relev\t 2\n",
            "count\t 364\n",
            "\n"
          ],
          "name": "stdout"
        },
        {
          "output_type": "display_data",
          "data": {
            "text/html": [
              "<div>\n",
              "<style scoped>\n",
              "    .dataframe tbody tr th:only-of-type {\n",
              "        vertical-align: middle;\n",
              "    }\n",
              "\n",
              "    .dataframe tbody tr th {\n",
              "        vertical-align: top;\n",
              "    }\n",
              "\n",
              "    .dataframe thead th {\n",
              "        text-align: right;\n",
              "    }\n",
              "</style>\n",
              "<table border=\"1\" class=\"dataframe\">\n",
              "  <thead>\n",
              "    <tr style=\"text-align: right;\">\n",
              "      <th></th>\n",
              "      <th>romantic</th>\n",
              "    </tr>\n",
              "  </thead>\n",
              "  <tbody>\n",
              "    <tr>\n",
              "      <th>no</th>\n",
              "      <td>240</td>\n",
              "    </tr>\n",
              "    <tr>\n",
              "      <th>yes</th>\n",
              "      <td>124</td>\n",
              "    </tr>\n",
              "  </tbody>\n",
              "</table>\n",
              "</div>"
            ],
            "text/plain": [
              "     romantic\n",
              "no        240\n",
              "yes       124"
            ]
          },
          "metadata": {
            "tags": []
          }
        },
        {
          "output_type": "stream",
          "text": [
            "\n",
            "<class 'pandas.core.frame.DataFrame'>\n",
            "RangeIndex: 395 entries, 0 to 394\n",
            "Data columns (total 1 columns):\n",
            " #   Column    Non-Null Count  Dtype \n",
            "---  ------    --------------  ----- \n",
            " 0   romantic  364 non-null    object\n",
            "dtypes: object(1)\n",
            "memory usage: 22.2 KB\n"
          ],
          "name": "stdout"
        }
      ]
    },
    {
      "cell_type": "markdown",
      "metadata": {
        "id": "Kf27yjvYqLQP"
      },
      "source": [
        "Номинативные данные полные и чисты как слеза младенца."
      ]
    },
    {
      "cell_type": "markdown",
      "metadata": {
        "id": "dKlhYIRZOHzD"
      },
      "source": [
        "4) Преобразование\r\n",
        "==="
      ]
    },
    {
      "cell_type": "code",
      "metadata": {
        "colab": {
          "base_uri": "https://localhost:8080/",
          "height": 199
        },
        "id": "9NAzAaFLt5IR",
        "outputId": "53318e9a-1709-46bf-d04e-1c800494d88c"
      },
      "source": [
        "display(to_drop_leftovers)\r\n",
        "drop_leftovers()"
      ],
      "execution_count": null,
      "outputs": [
        {
          "output_type": "display_data",
          "data": {
            "text/plain": [
              "{'Fedu': (0, 4), 'absences': (0, 20), 'famrel': (1, 5)}"
            ]
          },
          "metadata": {
            "tags": []
          }
        },
        {
          "output_type": "stream",
          "text": [
            "План очистки от выбросов\n",
            "Из столбца Fedu выбросим 1 значений\n",
            "Из столбца famrel выбросим 1 значений\n",
            "Из столбца absences выбросим 17 значений\n",
            "\n",
            "Факт очистки от выбросов\n",
            "Из столбца Fedu выбросим 1 значений\n",
            "Из столбца famrel выбросим 1 значений\n",
            "Из столбца absences выбросим 15 значений\n"
          ],
          "name": "stdout"
        }
      ]
    },
    {
      "cell_type": "markdown",
      "metadata": {
        "id": "6swJjmxfOMty"
      },
      "source": [
        "5) Корреляционный анализ\r\n",
        "==="
      ]
    },
    {
      "cell_type": "code",
      "metadata": {
        "id": "PUyFYvxaqizW"
      },
      "source": [
        " #sns.pairplot(students, kind = 'reg')"
      ],
      "execution_count": null,
      "outputs": []
    },
    {
      "cell_type": "code",
      "metadata": {
        "colab": {
          "base_uri": "https://localhost:8080/",
          "height": 792
        },
        "id": "dfl2yGS4PP9-",
        "outputId": "8b5a012f-ad28-4f07-db3f-04160eb8d839"
      },
      "source": [
        "sns.heatmap(students.corr(), annot=True)\r\n",
        "plt.gcf().set_size_inches(24, 12)"
      ],
      "execution_count": null,
      "outputs": [
        {
          "output_type": "display_data",
          "data": {
            "image/png": "[encoded data removed]",
            "text/plain": [
              "<Figure size 1728x864 with 2 Axes>"
            ]
          },
          "metadata": {
            "tags": [],
            "needs_background": "light"
          }
        }
      ]
    },
    {
      "cell_type": "code",
      "metadata": {
        "id": "DDrfPAUlpytK"
      },
      "source": [
        "#Отбросим лишнее сразу\r\n",
        "students.drop(inplace=True, columns=('studytime_granular'))"
      ],
      "execution_count": null,
      "outputs": []
    },
    {
      "cell_type": "code",
      "metadata": {
        "colab": {
          "base_uri": "https://localhost:8080/",
          "height": 742
        },
        "id": "1A-R8zpApamx",
        "outputId": "0c78cbe4-40be-4fed-af8d-4497fa004388"
      },
      "source": [
        "matrix = np.tril(students.corr())\r\n",
        "corr = students.corr().applymap(lambda x: 0 if abs(round(x,2))<0.1 else round(x*100))\r\n",
        "sns.heatmap(corr, annot=True, mask=matrix, center= 0, cmap= 'coolwarm')\r\n",
        "plt.gcf().set_size_inches(24, 12)"
      ],
      "execution_count": null,
      "outputs": [
        {
          "output_type": "display_data",
          "data": {
            "image/png": "[encoded data removed]",
            "text/plain": [
              "<Figure size 1728x864 with 2 Axes>"
            ]
          },
          "metadata": {
            "tags": [],
            "needs_background": "light"
          }
        }
      ]
    },
    {
      "cell_type": "markdown",
      "metadata": {
        "id": "c8-D30BOaPPj"
      },
      "source": [
        "Пойманные за хвост мысли\r\n",
        "- **studytime_granular** первый к выбросу как завуалированная копия **studytime**\r\n",
        "- \r\n",
        "- У менее **age** учеников более **Medu** и **Fedu**, значит общий уровень образования повышается со временем или образованные родители заводят детей позднее.\r\n",
        "- С возрастом приходит склонность к **absences**, больше возможносей заполучить **failures** и требуется больше времени на **goout** всё это негативно сказывается на **score**.\r\n",
        "- \r\n",
        "- Сильная корреляция **Medu** и **Fedu** говорит, что родители чаще образуют пары из равных по уровню познания мира. Возможно стоит заменить этот параметр на общий уровень образования родителей.\r\n",
        "- Отрицательная корреляция **Medu** и **Fedu** с количесвом **failures** и **traveltime** может указывать на лучшее планировании безопасности и свободного времени среди образованных пар.\r\n",
        "- Кореляция **score** с **Medu** больше чем с **Fedu**, значит, что более образованные матери более требовательны к **studytime**, хоть это и приводит в результате к большим **absences**.\r\n",
        "- \r\n",
        "- Отрицательная корреляция **traveltime** и **studytime** выглядит логично. И только.\r\n",
        "-\r\n",
        "- Отрицательная корреляция **studytime** с **freetime**, **failures**, **health**, выглядит логично - занят сидением за учебниками, а не приключениями и зарабатываением опыта. Зато это положительно влияет на **score**.\r\n",
        "- \r\n",
        "- Корелляция **failures** и **freetime** логична. За учебником сильно не порискуешь. А результат рисков очень негативен для **score**.\r\n",
        "-\r\n",
        "- Корреляция **famrel** с **freetime** и **health** свидетульствует о взаимопомощи и отсутствии стресса. Жаль, что этого не достаточно для влияния на оценки.\r\n",
        "- \r\n",
        "- Корреляция **freetime** и **goout** указывают источник интереснее учёбы, но привыкаешь, что даже **absences** растут. Благо оценки от этого не страдают.\r\n",
        "-\r\n",
        "- А вот тупо **goout** отупляет обоих и плохо сказывается на **score**.\r\n",
        "-\r\n",
        "- **health** не влияет на **score** никак. Тело и мозг независимы :-)\r\n",
        "-\r\n",
        "- А вот за **absences** неожиданно положительно влияет на **score**. Возможно из-за совести учащегося или родителей. Иначе бы свободное время так же положительно влияло, как и внеплановый отдых.\r\n",
        "\r\n"
      ]
    },
    {
      "cell_type": "markdown",
      "metadata": {
        "id": "0lDnWTsQ9K0W"
      },
      "source": [
        "К сожалению я не упею перевести все пораметры в числовые для подобного анализа, да и навык другого подхода к анализу номинативных признаков должен быть.\r\n",
        "\r\n",
        "Не мудрствуя лукаво применим подход из примера."
      ]
    },
    {
      "cell_type": "code",
      "metadata": {
        "id": "6Eq1fg5V-HJe"
      },
      "source": [
        "def get_boxplot(column):\r\n",
        "    global students\r\n",
        "    print(column)\r\n",
        "    fig, ax = plt.subplots(figsize = (14, 4))\r\n",
        "    sns.boxplot(x=column, y='score', \r\n",
        "                data=students.loc[students.loc[:, column].isin(students.loc[:, column].value_counts().index[:10])],\r\n",
        "               ax=ax)\r\n",
        "    plt.xticks(rotation=45)\r\n",
        "    ax.set_title('Boxplot for ' + column)\r\n",
        "    plt.show()"
      ],
      "execution_count": null,
      "outputs": []
    },
    {
      "cell_type": "code",
      "metadata": {
        "colab": {
          "base_uri": "https://localhost:8080/",
          "height": 1000
        },
        "id": "v6woWXRF-LIp",
        "outputId": "5e1cfb30-efc6-47cb-e331-aeccfaedb384"
      },
      "source": [
        "for col in [\r\n",
        "    'school', 'sex', 'age', 'address', 'famsize', 'Pstatus', 'Medu', 'Fedu', 'Mjob', \r\n",
        "    'Fjob', 'reason', 'guardian', 'traveltime', 'studytime', 'failures', 'schoolsup', \r\n",
        "    'famsup', 'paid', 'activities', 'nursery', 'higher', 'internet', \r\n",
        "    'romantic', 'famrel', 'freetime', 'goout', 'health', 'absences'\r\n",
        "]:\r\n",
        "    get_boxplot(col)\r\n",
        "\r\n"
      ],
      "execution_count": null,
      "outputs": [
        {
          "output_type": "stream",
          "text": [
            "school\n"
          ],
          "name": "stdout"
        },
        {
          "output_type": "display_data",
          "data": {
            "image/png": "[encoded data removed]",
            "text/plain": [
              "<Figure size 1008x288 with 1 Axes>"
            ]
          },
          "metadata": {
            "tags": [],
            "needs_background": "light"
          }
        },
        {
          "output_type": "stream",
          "text": [
            "sex\n"
          ],
          "name": "stdout"
        },
        {
          "output_type": "display_data",
          "data": {
            "image/png": "[encoded data removed]",
            "text/plain": [
              "<Figure size 1008x288 with 1 Axes>"
            ]
          },
          "metadata": {
            "tags": [],
            "needs_background": "light"
          }
        },
        {
          "output_type": "stream",
          "text": [
            "age\n"
          ],
          "name": "stdout"
        },
        {
          "output_type": "display_data",
          "data": {
            "image/png": "[encoded data removed]",
            "text/plain": [
              "<Figure size 1008x288 with 1 Axes>"
            ]
          },
          "metadata": {
            "tags": [],
            "needs_background": "light"
          }
        },
        {
          "output_type": "stream",
          "text": [
            "address\n"
          ],
          "name": "stdout"
        },
        {
          "output_type": "display_data",
          "data": {
            "image/png": "[encoded data removed]",
            "text/plain": [
              "<Figure size 1008x288 with 1 Axes>"
            ]
          },
          "metadata": {
            "tags": [],
            "needs_background": "light"
          }
        },
        {
          "output_type": "stream",
          "text": [
            "famsize\n"
          ],
          "name": "stdout"
        },
        {
          "output_type": "display_data",
          "data": {
            "image/png": "[encoded data removed]",
            "text/plain": [
              "<Figure size 1008x288 with 1 Axes>"
            ]
          },
          "metadata": {
            "tags": [],
            "needs_background": "light"
          }
        },
        {
          "output_type": "stream",
          "text": [
            "Pstatus\n"
          ],
          "name": "stdout"
        },
        {
          "output_type": "display_data",
          "data": {
            "image/png": "[encoded data removed]",
            "text/plain": [
              "<Figure size 1008x288 with 1 Axes>"
            ]
          },
          "metadata": {
            "tags": [],
            "needs_background": "light"
          }
        },
        {
          "output_type": "stream",
          "text": [
            "Medu\n"
          ],
          "name": "stdout"
        },
        {
          "output_type": "display_data",
          "data": {
            "image/png": "[encoded data removed]",
            "text/plain": [
              "<Figure size 1008x288 with 1 Axes>"
            ]
          },
          "metadata": {
            "tags": [],
            "needs_background": "light"
          }
        },
        {
          "output_type": "stream",
          "text": [
            "Fedu\n"
          ],
          "name": "stdout"
        },
        {
          "output_type": "display_data",
          "data": {
            "image/png": "[encoded data removed]",
            "text/plain": [
              "<Figure size 1008x288 with 1 Axes>"
            ]
          },
          "metadata": {
            "tags": [],
            "needs_background": "light"
          }
        },
        {
          "output_type": "stream",
          "text": [
            "Mjob\n"
          ],
          "name": "stdout"
        },
        {
          "output_type": "display_data",
          "data": {
            "image/png": "[encoded data removed]",
            "text/plain": [
              "<Figure size 1008x288 with 1 Axes>"
            ]
          },
          "metadata": {
            "tags": [],
            "needs_background": "light"
          }
        },
        {
          "output_type": "stream",
          "text": [
            "Fjob\n"
          ],
          "name": "stdout"
        },
        {
          "output_type": "display_data",
          "data": {
            "image/png": "[encoded data removed]",
            "text/plain": [
              "<Figure size 1008x288 with 1 Axes>"
            ]
          },
          "metadata": {
            "tags": [],
            "needs_background": "light"
          }
        },
        {
          "output_type": "stream",
          "text": [
            "reason\n"
          ],
          "name": "stdout"
        },
        {
          "output_type": "display_data",
          "data": {
            "image/png": "[encoded data removed]",
            "text/plain": [
              "<Figure size 1008x288 with 1 Axes>"
            ]
          },
          "metadata": {
            "tags": [],
            "needs_background": "light"
          }
        },
        {
          "output_type": "stream",
          "text": [
            "guardian\n"
          ],
          "name": "stdout"
        },
        {
          "output_type": "display_data",
          "data": {
            "image/png": "[encoded data removed]",
            "text/plain": [
              "<Figure size 1008x288 with 1 Axes>"
            ]
          },
          "metadata": {
            "tags": [],
            "needs_background": "light"
          }
        },
        {
          "output_type": "stream",
          "text": [
            "traveltime\n"
          ],
          "name": "stdout"
        },
        {
          "output_type": "display_data",
          "data": {
            "image/png": "[encoded data removed]",
            "text/plain": [
              "<Figure size 1008x288 with 1 Axes>"
            ]
          },
          "metadata": {
            "tags": [],
            "needs_background": "light"
          }
        },
        {
          "output_type": "stream",
          "text": [
            "studytime\n"
          ],
          "name": "stdout"
        },
        {
          "output_type": "display_data",
          "data": {
            "image/png": "[encoded data removed]",
            "text/plain": [
              "<Figure size 1008x288 with 1 Axes>"
            ]
          },
          "metadata": {
            "tags": [],
            "needs_background": "light"
          }
        },
        {
          "output_type": "stream",
          "text": [
            "failures\n"
          ],
          "name": "stdout"
        },
        {
          "output_type": "display_data",
          "data": {
            "image/png": "[encoded data removed]",
            "text/plain": [
              "<Figure size 1008x288 with 1 Axes>"
            ]
          },
          "metadata": {
            "tags": [],
            "needs_background": "light"
          }
        },
        {
          "output_type": "stream",
          "text": [
            "schoolsup\n"
          ],
          "name": "stdout"
        },
        {
          "output_type": "display_data",
          "data": {
            "image/png": "[encoded data removed]",
            "text/plain": [
              "<Figure size 1008x288 with 1 Axes>"
            ]
          },
          "metadata": {
            "tags": [],
            "needs_background": "light"
          }
        },
        {
          "output_type": "stream",
          "text": [
            "famsup\n"
          ],
          "name": "stdout"
        },
        {
          "output_type": "display_data",
          "data": {
            "image/png": "[encoded data removed]",
            "text/plain": [
              "<Figure size 1008x288 with 1 Axes>"
            ]
          },
          "metadata": {
            "tags": [],
            "needs_background": "light"
          }
        },
        {
          "output_type": "stream",
          "text": [
            "paid\n"
          ],
          "name": "stdout"
        },
        {
          "output_type": "display_data",
          "data": {
            "image/png": "[encoded data removed]",
            "text/plain": [
              "<Figure size 1008x288 with 1 Axes>"
            ]
          },
          "metadata": {
            "tags": [],
            "needs_background": "light"
          }
        },
        {
          "output_type": "stream",
          "text": [
            "activities\n"
          ],
          "name": "stdout"
        },
        {
          "output_type": "display_data",
          "data": {
            "image/png": "[encoded data removed]",
            "text/plain": [
              "<Figure size 1008x288 with 1 Axes>"
            ]
          },
          "metadata": {
            "tags": [],
            "needs_background": "light"
          }
        },
        {
          "output_type": "stream",
          "text": [
            "nursery\n"
          ],
          "name": "stdout"
        },
        {
          "output_type": "display_data",
          "data": {
            "image/png": "[encoded data removed]",
            "text/plain": [
              "<Figure size 1008x288 with 1 Axes>"
            ]
          },
          "metadata": {
            "tags": [],
            "needs_background": "light"
          }
        },
        {
          "output_type": "stream",
          "text": [
            "higher\n"
          ],
          "name": "stdout"
        },
        {
          "output_type": "display_data",
          "data": {
            "image/png": "[encoded data removed]",
            "text/plain": [
              "<Figure size 1008x288 with 1 Axes>"
            ]
          },
          "metadata": {
            "tags": [],
            "needs_background": "light"
          }
        },
        {
          "output_type": "stream",
          "text": [
            "internet\n"
          ],
          "name": "stdout"
        },
        {
          "output_type": "display_data",
          "data": {
            "image/png": "[encoded data removed]",
            "text/plain": [
              "<Figure size 1008x288 with 1 Axes>"
            ]
          },
          "metadata": {
            "tags": [],
            "needs_background": "light"
          }
        },
        {
          "output_type": "stream",
          "text": [
            "romantic\n"
          ],
          "name": "stdout"
        },
        {
          "output_type": "display_data",
          "data": {
            "image/png": "[encoded data removed]",
            "text/plain": [
              "<Figure size 1008x288 with 1 Axes>"
            ]
          },
          "metadata": {
            "tags": [],
            "needs_background": "light"
          }
        },
        {
          "output_type": "stream",
          "text": [
            "famrel\n"
          ],
          "name": "stdout"
        },
        {
          "output_type": "display_data",
          "data": {
            "image/png": "[encoded data removed]",
            "text/plain": [
              "<Figure size 1008x288 with 1 Axes>"
            ]
          },
          "metadata": {
            "tags": [],
            "needs_background": "light"
          }
        },
        {
          "output_type": "stream",
          "text": [
            "freetime\n"
          ],
          "name": "stdout"
        },
        {
          "output_type": "display_data",
          "data": {
            "image/png": "[encoded data removed]",
            "text/plain": [
              "<Figure size 1008x288 with 1 Axes>"
            ]
          },
          "metadata": {
            "tags": [],
            "needs_background": "light"
          }
        },
        {
          "output_type": "stream",
          "text": [
            "goout\n"
          ],
          "name": "stdout"
        },
        {
          "output_type": "display_data",
          "data": {
            "image/png": "[encoded data removed]",
            "text/plain": [
              "<Figure size 1008x288 with 1 Axes>"
            ]
          },
          "metadata": {
            "tags": [],
            "needs_background": "light"
          }
        },
        {
          "output_type": "stream",
          "text": [
            "health\n"
          ],
          "name": "stdout"
        },
        {
          "output_type": "display_data",
          "data": {
            "image/png": "[encoded data removed]",
            "text/plain": [
              "<Figure size 1008x288 with 1 Axes>"
            ]
          },
          "metadata": {
            "tags": [],
            "needs_background": "light"
          }
        },
        {
          "output_type": "stream",
          "text": [
            "absences\n"
          ],
          "name": "stdout"
        },
        {
          "output_type": "display_data",
          "data": {
            "image/png": "[encoded data removed]",
            "text/plain": [
              "<Figure size 1008x288 with 1 Axes>"
            ]
          },
          "metadata": {
            "tags": [],
            "needs_background": "light"
          }
        }
      ]
    },
    {
      "cell_type": "markdown",
      "metadata": {
        "id": "HBgcOs2YTSv2"
      },
      "source": [
        "На вскидку со **score** слабо коррелируют признаки:\r\n",
        "- **school** В школе GP более сильная подготовка, но и там есть троешники\r\n",
        "- **sex** Мальчики в целом добиваются лучших результатов\r\n",
        "- **famsize** 50% очень близок, хоть и для многодетных распределение более гладкое\r\n",
        "- **Pstatus** 50% очень близок для обоих групп\r\n",
        "- **Fjob** 50% очень близок у всех, хоть и отцы-врачи совсем раздолбаев не воспитывают, а отцы-учителя могут в лучше подготовить если вообще занимаются\r\n",
        "- **reason** Не зависимо от причины выбора школы результат образования без перекосов\r\n",
        "- **guardian** Если опекун не родитель, то результат ниже среднего падать может только вдребезги\r\n",
        "- **traveltime** выделяется лишь длительные поездки своей малочисленностью и дискретностью\r\n",
        "- **famsup** Упорство семьи не способно победить ученика-барана. Личная мотивация важнее.\r\n",
        "- **paid** Репититоры также слабее личной мотивации. Стоит ли тратить деньги?\r\n",
        "- **activities** Доп занятия положительно сказываются на резьтатататах учёбы, но очень незначительно\r\n",
        "- **nursery** Посещение детского сада также слабо связано с итоговым уровнем знаний\r\n",
        "- **internet** бибилиотеки никто не отменял, и скоро интернет будет просто у всех\r\n",
        "- **romantic** любовь дурманит голову, но статистически незначительно\r\n",
        "- **health** влияет безхарактерно, но просто будьте все здоровы\r\n",
        "\r\n",
        "Есть заметное влияние следующих признаков:\r\n",
        "- **age** Ввиду малочисленности группы великовозрастных их стоит анализировать отдельно. Я бы даже 19 лет отдельно посмотрел, а то они както штрейхбрехерски пошли по наклонной.\r\n",
        "- **address** городским видимо до бибилиотеки ближе или просто времени меньше зря тратят в поездках\r\n",
        "- **Medu** и **Fedu** здесь ведут седя также кучно и уровень матери более гладко влияет начиная с \"младшей школы\" Особняком стоит случай совсем необразованных родителей\r\n",
        "- **Mjob** для домохозяек вниз, для врачей вверх, что в свою очередь коррелирует с отцами медиками... чтото в этом есть\r\n",
        "- **studytime** тут без положительной корреляции никуда.\r\n",
        "- **failures** похоже личный стресс учит: в жизни есть вещи важнее образования\r\n",
        "- **schoolsup** доп занятия в школе положительно влияют - продлёнке быть!\r\n",
        "- **higher** личная мотивация на лицо\r\n",
        "- **famrel** особняком стоят категории ниже среднего. Очень хочеться изучить корреляцию с возрастом\r\n",
        "- **freetime** две волны, от нет до чуток и от средне до много но вторая более пологая\r\n",
        "- **goout** чуток потусить с друзьями - норм, а вот постоянные вечеринки тянут вниз\r\n",
        "- **absences** крепкий орешек, который легче выбросить, чем понять\r\n",
        "\r\n",
        "Но и это ещё не всё. Натравим на данные натренированный тест Стьюдента"
      ]
    },
    {
      "cell_type": "code",
      "metadata": {
        "id": "8KH1QqQxjuQn"
      },
      "source": [
        "def get_stat_dif(column):\r\n",
        "    global students\r\n",
        "    cols = students.loc[:, column].value_counts().index[:10]\r\n",
        "    combinations_all = list(combinations(cols, 2))\r\n",
        "    for comb in combinations_all:\r\n",
        "        if ttest_ind(students.loc[students.loc[:, column] == comb[0], 'score'], \r\n",
        "                        students.loc[students.loc[:, column] == comb[1], 'score']).pvalue \\\r\n",
        "            <= 0.05/len(combinations_all): # Учли поправку Бонферони\r\n",
        "            print('Найдены статистически значимые различия для колонки', column)\r\n",
        "            break"
      ],
      "execution_count": null,
      "outputs": []
    },
    {
      "cell_type": "code",
      "metadata": {
        "colab": {
          "base_uri": "https://localhost:8080/"
        },
        "id": "K25MGlrIjxRV",
        "outputId": "88485be3-742b-4b98-970f-af209939ef62"
      },
      "source": [
        "for col in [\r\n",
        "    'school', 'sex', 'age', 'address', 'famsize', 'Pstatus', 'Medu', 'Fedu', 'Mjob', \r\n",
        "    'Fjob', 'reason', 'guardian', 'traveltime', 'studytime', 'failures', 'schoolsup', \r\n",
        "    'famsup', 'paid', 'activities', 'nursery', 'higher', 'internet', \r\n",
        "    'romantic', 'famrel', 'freetime', 'goout', 'health', 'absences'\r\n",
        "]:\r\n",
        "    get_stat_dif(col)"
      ],
      "execution_count": null,
      "outputs": [
        {
          "output_type": "stream",
          "text": [
            "/usr/local/lib/python3.6/dist-packages/numpy/core/fromnumeric.py:3584: RuntimeWarning: Degrees of freedom <= 0 for slice\n",
            "  **kwargs)\n",
            "/usr/local/lib/python3.6/dist-packages/numpy/core/_methods.py:209: RuntimeWarning: invalid value encountered in double_scalars\n",
            "  ret = ret.dtype.type(ret / rcount)\n",
            "/usr/local/lib/python3.6/dist-packages/numpy/core/fromnumeric.py:3584: RuntimeWarning: Degrees of freedom <= 0 for slice\n",
            "  **kwargs)\n",
            "/usr/local/lib/python3.6/dist-packages/numpy/core/_methods.py:209: RuntimeWarning: invalid value encountered in double_scalars\n",
            "  ret = ret.dtype.type(ret / rcount)\n",
            "/usr/local/lib/python3.6/dist-packages/numpy/core/fromnumeric.py:3584: RuntimeWarning: Degrees of freedom <= 0 for slice\n",
            "  **kwargs)\n",
            "/usr/local/lib/python3.6/dist-packages/numpy/core/_methods.py:209: RuntimeWarning: invalid value encountered in double_scalars\n",
            "  ret = ret.dtype.type(ret / rcount)\n",
            "/usr/local/lib/python3.6/dist-packages/numpy/core/fromnumeric.py:3584: RuntimeWarning: Degrees of freedom <= 0 for slice\n",
            "  **kwargs)\n",
            "/usr/local/lib/python3.6/dist-packages/numpy/core/_methods.py:209: RuntimeWarning: invalid value encountered in double_scalars\n",
            "  ret = ret.dtype.type(ret / rcount)\n",
            "/usr/local/lib/python3.6/dist-packages/numpy/core/fromnumeric.py:3584: RuntimeWarning: Degrees of freedom <= 0 for slice\n",
            "  **kwargs)\n",
            "/usr/local/lib/python3.6/dist-packages/numpy/core/_methods.py:209: RuntimeWarning: invalid value encountered in double_scalars\n",
            "  ret = ret.dtype.type(ret / rcount)\n",
            "/usr/local/lib/python3.6/dist-packages/numpy/core/fromnumeric.py:3584: RuntimeWarning: Degrees of freedom <= 0 for slice\n",
            "  **kwargs)\n",
            "/usr/local/lib/python3.6/dist-packages/numpy/core/_methods.py:209: RuntimeWarning: invalid value encountered in double_scalars\n",
            "  ret = ret.dtype.type(ret / rcount)\n",
            "/usr/local/lib/python3.6/dist-packages/numpy/core/fromnumeric.py:3584: RuntimeWarning: Degrees of freedom <= 0 for slice\n",
            "  **kwargs)\n",
            "/usr/local/lib/python3.6/dist-packages/numpy/core/_methods.py:209: RuntimeWarning: invalid value encountered in double_scalars\n",
            "  ret = ret.dtype.type(ret / rcount)\n",
            "/usr/local/lib/python3.6/dist-packages/numpy/core/fromnumeric.py:3584: RuntimeWarning: Degrees of freedom <= 0 for slice\n",
            "  **kwargs)\n",
            "/usr/local/lib/python3.6/dist-packages/numpy/core/_methods.py:209: RuntimeWarning: invalid value encountered in double_scalars\n",
            "  ret = ret.dtype.type(ret / rcount)\n",
            "/usr/local/lib/python3.6/dist-packages/numpy/core/fromnumeric.py:3584: RuntimeWarning: Degrees of freedom <= 0 for slice\n",
            "  **kwargs)\n",
            "/usr/local/lib/python3.6/dist-packages/numpy/core/_methods.py:209: RuntimeWarning: invalid value encountered in double_scalars\n",
            "  ret = ret.dtype.type(ret / rcount)\n",
            "/usr/local/lib/python3.6/dist-packages/numpy/core/fromnumeric.py:3584: RuntimeWarning: Degrees of freedom <= 0 for slice\n",
            "  **kwargs)\n",
            "/usr/local/lib/python3.6/dist-packages/numpy/core/_methods.py:209: RuntimeWarning: invalid value encountered in double_scalars\n",
            "  ret = ret.dtype.type(ret / rcount)\n",
            "/usr/local/lib/python3.6/dist-packages/numpy/core/fromnumeric.py:3584: RuntimeWarning: Degrees of freedom <= 0 for slice\n",
            "  **kwargs)\n",
            "/usr/local/lib/python3.6/dist-packages/numpy/core/_methods.py:209: RuntimeWarning: invalid value encountered in double_scalars\n",
            "  ret = ret.dtype.type(ret / rcount)\n",
            "/usr/local/lib/python3.6/dist-packages/numpy/core/fromnumeric.py:3584: RuntimeWarning: Degrees of freedom <= 0 for slice\n",
            "  **kwargs)\n",
            "/usr/local/lib/python3.6/dist-packages/numpy/core/_methods.py:209: RuntimeWarning: invalid value encountered in double_scalars\n",
            "  ret = ret.dtype.type(ret / rcount)\n",
            "/usr/local/lib/python3.6/dist-packages/numpy/core/fromnumeric.py:3584: RuntimeWarning: Degrees of freedom <= 0 for slice\n",
            "  **kwargs)\n",
            "/usr/local/lib/python3.6/dist-packages/numpy/core/_methods.py:209: RuntimeWarning: invalid value encountered in double_scalars\n",
            "  ret = ret.dtype.type(ret / rcount)\n"
          ],
          "name": "stderr"
        }
      ]
    },
    {
      "cell_type": "markdown",
      "metadata": {
        "id": "NKEuH8vaORCQ"
      },
      "source": [
        "6) Отбор не коррелирующих\r\n",
        "==="
      ]
    },
    {
      "cell_type": "markdown",
      "metadata": {
        "id": "CvT8oRctOYby"
      },
      "source": [
        "7) Устранение не влияющих номинативных\r\n",
        "==="
      ]
    },
    {
      "cell_type": "code",
      "metadata": {
        "id": "jJMgv2cTQcM2"
      },
      "source": [
        ""
      ],
      "execution_count": null,
      "outputs": []
    },
    {
      "cell_type": "markdown",
      "metadata": {
        "id": "ygXViBKTOlkt"
      },
      "source": [
        "8) Выводы\r\n",
        "==="
      ]
    },
    {
      "cell_type": "markdown",
      "metadata": {
        "id": "mNIOC-l4PxYP"
      },
      "source": [
        " "
      ]
    },
    {
      "cell_type": "code",
      "metadata": {
        "id": "s0WFFR70Osd1"
      },
      "source": [
        ""
      ],
      "execution_count": null,
      "outputs": []
    }
  ]
}