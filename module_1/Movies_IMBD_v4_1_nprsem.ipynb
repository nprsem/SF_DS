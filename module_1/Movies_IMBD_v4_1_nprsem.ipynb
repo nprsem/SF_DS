{
  "nbformat": 4,
  "nbformat_minor": 0,
  "metadata": {
    "colab": {
      "name": "Movies_IMBD_v4.1_TEMPLATE.ipynb",
      "provenance": [],
      "collapsed_sections": []
    },
    "kernelspec": {
      "display_name": "Python 3",
      "language": "python",
      "name": "python3"
    },
    "language_info": {
      "codemirror_mode": {
        "name": "ipython",
        "version": 3
      },
      "file_extension": ".py",
      "mimetype": "text/x-python",
      "name": "python",
      "nbconvert_exporter": "python",
      "pygments_lexer": "ipython3",
      "version": "3.6.6"
    }
  },
  "cells": [
    {
      "cell_type": "code",
      "metadata": {
        "id": "U2D2gTdJVp90"
      },
      "source": [
        "#import numpy as np\n",
        "import pandas as pd\n",
        "from itertools import combinations\n",
        "#from collections import Counter\n",
        "#import regex as re\n",
        "#import seaborn as sns\n",
        "#import matplotlib.pyplot as plt"
      ],
      "execution_count": 381,
      "outputs": []
    },
    {
      "cell_type": "code",
      "metadata": {
        "id": "oyGfxL3eVp9-",
        "outputId": "cd0386f3-eae2-4234-e62b-ae46456f46a5",
        "colab": {
          "base_uri": "https://localhost:8080/",
          "height": 598
        }
      },
      "source": [
        "data_path = '/content/sample_data/movie_bd_v5.csv'\n",
        "data = pd.read_csv(data_path)\n",
        "data.sample(5)"
      ],
      "execution_count": 382,
      "outputs": [
        {
          "output_type": "execute_result",
          "data": {
            "text/html": [
              "<div>\n",
              "<style scoped>\n",
              "    .dataframe tbody tr th:only-of-type {\n",
              "        vertical-align: middle;\n",
              "    }\n",
              "\n",
              "    .dataframe tbody tr th {\n",
              "        vertical-align: top;\n",
              "    }\n",
              "\n",
              "    .dataframe thead th {\n",
              "        text-align: right;\n",
              "    }\n",
              "</style>\n",
              "<table border=\"1\" class=\"dataframe\">\n",
              "  <thead>\n",
              "    <tr style=\"text-align: right;\">\n",
              "      <th></th>\n",
              "      <th>imdb_id</th>\n",
              "      <th>budget</th>\n",
              "      <th>revenue</th>\n",
              "      <th>original_title</th>\n",
              "      <th>cast</th>\n",
              "      <th>director</th>\n",
              "      <th>tagline</th>\n",
              "      <th>overview</th>\n",
              "      <th>runtime</th>\n",
              "      <th>genres</th>\n",
              "      <th>production_companies</th>\n",
              "      <th>release_date</th>\n",
              "      <th>vote_average</th>\n",
              "      <th>release_year</th>\n",
              "    </tr>\n",
              "  </thead>\n",
              "  <tbody>\n",
              "    <tr>\n",
              "      <th>995</th>\n",
              "      <td>tt1397280</td>\n",
              "      <td>45000000</td>\n",
              "      <td>376141306</td>\n",
              "      <td>Taken 2</td>\n",
              "      <td>Liam Neeson|Maggie Grace|Famke Janssen|Rade Se...</td>\n",
              "      <td>Olivier Megaton</td>\n",
              "      <td>First they took his daughter. Now they're comi...</td>\n",
              "      <td>In Istanbul, retired CIA operative Bryan Mills...</td>\n",
              "      <td>91</td>\n",
              "      <td>Action|Thriller|Crime|Drama</td>\n",
              "      <td>Twentieth Century Fox Film Corporation|M6 Film...</td>\n",
              "      <td>9/27/2012</td>\n",
              "      <td>6.0</td>\n",
              "      <td>2012</td>\n",
              "    </tr>\n",
              "    <tr>\n",
              "      <th>135</th>\n",
              "      <td>tt1956620</td>\n",
              "      <td>40000000</td>\n",
              "      <td>126069509</td>\n",
              "      <td>Sex Tape</td>\n",
              "      <td>Cameron Diaz|Jason Segel|Rob Corddry|Ellie Kem...</td>\n",
              "      <td>Jake Kasdan</td>\n",
              "      <td>A movie about a movie they don't want you to see.</td>\n",
              "      <td>When Jay and Annie first got together, their r...</td>\n",
              "      <td>97</td>\n",
              "      <td>Comedy</td>\n",
              "      <td>Escape Artists|Media Rights Capital|Sony Pictu...</td>\n",
              "      <td>7/17/2014</td>\n",
              "      <td>5.3</td>\n",
              "      <td>2014</td>\n",
              "    </tr>\n",
              "    <tr>\n",
              "      <th>1076</th>\n",
              "      <td>tt1433822</td>\n",
              "      <td>17000000</td>\n",
              "      <td>9627492</td>\n",
              "      <td>The Apparition</td>\n",
              "      <td>Ashley Greene|Sebastian Stan|Tom Felton|Julian...</td>\n",
              "      <td>Todd Lincoln</td>\n",
              "      <td>Once You Believe You Die</td>\n",
              "      <td>Plagued by frightening occurrences in their ho...</td>\n",
              "      <td>82</td>\n",
              "      <td>Horror|Thriller</td>\n",
              "      <td>StudioCanal|Dark Castle Entertainment|Warner B...</td>\n",
              "      <td>8/23/2012</td>\n",
              "      <td>4.4</td>\n",
              "      <td>2012</td>\n",
              "    </tr>\n",
              "    <tr>\n",
              "      <th>1386</th>\n",
              "      <td>tt0417217</td>\n",
              "      <td>35000000</td>\n",
              "      <td>30526509</td>\n",
              "      <td>Two for the Money</td>\n",
              "      <td>Al Pacino|Matthew McConaughey|Rene Russo|Arman...</td>\n",
              "      <td>D.J. Caruso</td>\n",
              "      <td>How much will you risk?</td>\n",
              "      <td>A former college athlete joins forces with a s...</td>\n",
              "      <td>122</td>\n",
              "      <td>Comedy|Crime|Drama|Thriller</td>\n",
              "      <td>Universal Pictures|Morgan Creek Productions</td>\n",
              "      <td>10/7/2005</td>\n",
              "      <td>5.9</td>\n",
              "      <td>2005</td>\n",
              "    </tr>\n",
              "    <tr>\n",
              "      <th>886</th>\n",
              "      <td>tt0298203</td>\n",
              "      <td>41000000</td>\n",
              "      <td>215000000</td>\n",
              "      <td>8 Mile</td>\n",
              "      <td>Eminem|Mekhi Phifer|Brittany Murphy|Kim Basing...</td>\n",
              "      <td>Curtis Hanson</td>\n",
              "      <td>Every moment is another chance.</td>\n",
              "      <td>The setting is Detroit in 1995. The city is di...</td>\n",
              "      <td>110</td>\n",
              "      <td>Drama</td>\n",
              "      <td>Imagine Entertainment|Mikona Productions GmbH ...</td>\n",
              "      <td>11/8/2002</td>\n",
              "      <td>6.7</td>\n",
              "      <td>2002</td>\n",
              "    </tr>\n",
              "  </tbody>\n",
              "</table>\n",
              "</div>"
            ],
            "text/plain": [
              "        imdb_id    budget    revenue  ... release_date vote_average release_year\n",
              "995   tt1397280  45000000  376141306  ...    9/27/2012          6.0         2012\n",
              "135   tt1956620  40000000  126069509  ...    7/17/2014          5.3         2014\n",
              "1076  tt1433822  17000000    9627492  ...    8/23/2012          4.4         2012\n",
              "1386  tt0417217  35000000   30526509  ...    10/7/2005          5.9         2005\n",
              "886   tt0298203  41000000  215000000  ...    11/8/2002          6.7         2002\n",
              "\n",
              "[5 rows x 14 columns]"
            ]
          },
          "metadata": {
            "tags": []
          },
          "execution_count": 382
        }
      ]
    },
    {
      "cell_type": "code",
      "metadata": {
        "id": "CoYUnagMVp-C",
        "outputId": "903fdb49-8323-4765-fbf0-5178e8b7a3ba",
        "colab": {
          "base_uri": "https://localhost:8080/",
          "height": 297
        }
      },
      "source": [
        "data.describe()"
      ],
      "execution_count": 383,
      "outputs": [
        {
          "output_type": "execute_result",
          "data": {
            "text/html": [
              "<div>\n",
              "<style scoped>\n",
              "    .dataframe tbody tr th:only-of-type {\n",
              "        vertical-align: middle;\n",
              "    }\n",
              "\n",
              "    .dataframe tbody tr th {\n",
              "        vertical-align: top;\n",
              "    }\n",
              "\n",
              "    .dataframe thead th {\n",
              "        text-align: right;\n",
              "    }\n",
              "</style>\n",
              "<table border=\"1\" class=\"dataframe\">\n",
              "  <thead>\n",
              "    <tr style=\"text-align: right;\">\n",
              "      <th></th>\n",
              "      <th>budget</th>\n",
              "      <th>revenue</th>\n",
              "      <th>runtime</th>\n",
              "      <th>vote_average</th>\n",
              "      <th>release_year</th>\n",
              "    </tr>\n",
              "  </thead>\n",
              "  <tbody>\n",
              "    <tr>\n",
              "      <th>count</th>\n",
              "      <td>1.889000e+03</td>\n",
              "      <td>1.889000e+03</td>\n",
              "      <td>1889.000000</td>\n",
              "      <td>1889.000000</td>\n",
              "      <td>1889.000000</td>\n",
              "    </tr>\n",
              "    <tr>\n",
              "      <th>mean</th>\n",
              "      <td>5.431083e+07</td>\n",
              "      <td>1.553653e+08</td>\n",
              "      <td>109.658549</td>\n",
              "      <td>6.140762</td>\n",
              "      <td>2007.860773</td>\n",
              "    </tr>\n",
              "    <tr>\n",
              "      <th>std</th>\n",
              "      <td>4.858721e+07</td>\n",
              "      <td>2.146698e+08</td>\n",
              "      <td>18.017041</td>\n",
              "      <td>0.764763</td>\n",
              "      <td>4.468841</td>\n",
              "    </tr>\n",
              "    <tr>\n",
              "      <th>min</th>\n",
              "      <td>5.000000e+06</td>\n",
              "      <td>2.033165e+06</td>\n",
              "      <td>63.000000</td>\n",
              "      <td>3.300000</td>\n",
              "      <td>2000.000000</td>\n",
              "    </tr>\n",
              "    <tr>\n",
              "      <th>25%</th>\n",
              "      <td>2.000000e+07</td>\n",
              "      <td>3.456058e+07</td>\n",
              "      <td>97.000000</td>\n",
              "      <td>5.600000</td>\n",
              "      <td>2004.000000</td>\n",
              "    </tr>\n",
              "    <tr>\n",
              "      <th>50%</th>\n",
              "      <td>3.800000e+07</td>\n",
              "      <td>8.361541e+07</td>\n",
              "      <td>107.000000</td>\n",
              "      <td>6.100000</td>\n",
              "      <td>2008.000000</td>\n",
              "    </tr>\n",
              "    <tr>\n",
              "      <th>75%</th>\n",
              "      <td>7.200000e+07</td>\n",
              "      <td>1.782626e+08</td>\n",
              "      <td>120.000000</td>\n",
              "      <td>6.600000</td>\n",
              "      <td>2012.000000</td>\n",
              "    </tr>\n",
              "    <tr>\n",
              "      <th>max</th>\n",
              "      <td>3.800000e+08</td>\n",
              "      <td>2.781506e+09</td>\n",
              "      <td>214.000000</td>\n",
              "      <td>8.100000</td>\n",
              "      <td>2015.000000</td>\n",
              "    </tr>\n",
              "  </tbody>\n",
              "</table>\n",
              "</div>"
            ],
            "text/plain": [
              "             budget       revenue      runtime  vote_average  release_year\n",
              "count  1.889000e+03  1.889000e+03  1889.000000   1889.000000   1889.000000\n",
              "mean   5.431083e+07  1.553653e+08   109.658549      6.140762   2007.860773\n",
              "std    4.858721e+07  2.146698e+08    18.017041      0.764763      4.468841\n",
              "min    5.000000e+06  2.033165e+06    63.000000      3.300000   2000.000000\n",
              "25%    2.000000e+07  3.456058e+07    97.000000      5.600000   2004.000000\n",
              "50%    3.800000e+07  8.361541e+07   107.000000      6.100000   2008.000000\n",
              "75%    7.200000e+07  1.782626e+08   120.000000      6.600000   2012.000000\n",
              "max    3.800000e+08  2.781506e+09   214.000000      8.100000   2015.000000"
            ]
          },
          "metadata": {
            "tags": []
          },
          "execution_count": 383
        }
      ]
    },
    {
      "cell_type": "code",
      "metadata": {
        "id": "X4ehfbUcX9Fw",
        "outputId": "99d67504-6f41-451b-e682-e7792115fa7f",
        "colab": {
          "base_uri": "https://localhost:8080/"
        }
      },
      "source": [
        "data.info()"
      ],
      "execution_count": 384,
      "outputs": [
        {
          "output_type": "stream",
          "text": [
            "<class 'pandas.core.frame.DataFrame'>\n",
            "RangeIndex: 1889 entries, 0 to 1888\n",
            "Data columns (total 14 columns):\n",
            " #   Column                Non-Null Count  Dtype  \n",
            "---  ------                --------------  -----  \n",
            " 0   imdb_id               1889 non-null   object \n",
            " 1   budget                1889 non-null   int64  \n",
            " 2   revenue               1889 non-null   int64  \n",
            " 3   original_title        1889 non-null   object \n",
            " 4   cast                  1889 non-null   object \n",
            " 5   director              1889 non-null   object \n",
            " 6   tagline               1889 non-null   object \n",
            " 7   overview              1889 non-null   object \n",
            " 8   runtime               1889 non-null   int64  \n",
            " 9   genres                1889 non-null   object \n",
            " 10  production_companies  1889 non-null   object \n",
            " 11  release_date          1889 non-null   object \n",
            " 12  vote_average          1889 non-null   float64\n",
            " 13  release_year          1889 non-null   int64  \n",
            "dtypes: float64(1), int64(4), object(9)\n",
            "memory usage: 206.7+ KB\n"
          ],
          "name": "stdout"
        }
      ]
    },
    {
      "cell_type": "markdown",
      "metadata": {
        "id": "DTIt7ezGVp-G"
      },
      "source": [
        "# Предобработка"
      ]
    },
    {
      "cell_type": "code",
      "metadata": {
        "id": "jNb40DwKVp-H",
        "outputId": "75709645-ac9f-4b5f-96bb-dd294275931f",
        "colab": {
          "base_uri": "https://localhost:8080/",
          "height": 52
        }
      },
      "source": [
        "answers = {} # создадим словарь для ответов\n",
        "\n",
        "# тут другие ваши предобработки колонок например:\n",
        "#the time given in the dataset is in string format.\n",
        "#So we need to change this in datetime format\n",
        "# ...\n",
        "\n",
        "'''Для наглядности все добавленные столбцы буду наименовать с символа '_'.\n",
        "   Изначально менял столбцы на месте и потом пришлось всё переписать, \n",
        "   но для академических целей так будет лучше и удобней.'''"
      ],
      "execution_count": 385,
      "outputs": [
        {
          "output_type": "execute_result",
          "data": {
            "application/vnd.google.colaboratory.intrinsic+json": {
              "type": "string"
            },
            "text/plain": [
              "\"Для наглядности все добавленные столбцы буду наименовать с символа '_'.\\n   Изначально менял столбцы на месте и потом пришлось всё переписать, \\n   но для академических целей так будет лучше и удобней.\""
            ]
          },
          "metadata": {
            "tags": []
          },
          "execution_count": 385
        }
      ]
    },
    {
      "cell_type": "code",
      "metadata": {
        "id": "7S_dKXVrYetz"
      },
      "source": [
        "# Столбец profit (прибыль) поможет отвечать на вопросы [6:]\n",
        "data['_profit']=data.revenue-data.budget"
      ],
      "execution_count": 386,
      "outputs": []
    },
    {
      "cell_type": "code",
      "metadata": {
        "id": "MklhJwhBYjt1"
      },
      "source": [
        "# Дату выхода переведём формат времени'''\n",
        "data['_release_date'] = pd.to_datetime(data.release_date,infer_datetime_format=True)"
      ],
      "execution_count": 387,
      "outputs": []
    },
    {
      "cell_type": "code",
      "metadata": {
        "id": "Z8rj_BAqcI0N"
      },
      "source": [
        "# Для удобства работы со столбцами содержащими несколько значений\n",
        "# добавим столбцы со списками значений вместо строк\n",
        "# Опеределим список стобцов содержащих строки с символом '|'\n",
        "columns_to_split = data.applymap(lambda x:str(x).find('|')+1).sum()\n",
        "columns_to_split = columns_to_split[columns_to_split!=0].index.to_list()\n",
        "# Заменим строки в найденых столбцах на списки значений\n",
        "for column in columns_to_split:\n",
        "  data['_'+column] = data[column].str.split('|')#.apply(sorted)\n",
        "# При решении задания 27 наткнулся на необходимость обязательно сортировать\n",
        "# А именно в фильме 374 актёры перечислены в порядке, оличном от\n",
        "# фильмов [242, 497, 722, 864, 1312, 1560, 1670] и без предварительной\n",
        "# сортировки один фильм выпадает из подсчёта"
      ],
      "execution_count": 388,
      "outputs": []
    },
    {
      "cell_type": "code",
      "metadata": {
        "id": "PrAvGBk0GbGr"
      },
      "source": [
        "# Для демонстрации другого подхода определим все возможные жанры\n",
        "genres = sorted(list(set('|'.join(set(data.genres)).split('|'))))\n",
        "_genres = ['_'+x for x in genres]\n",
        "\n",
        "# %timeit data.genres.str.split('|').explode().unique().tolist() 7.8 ms per loop\n",
        "# %timeit pd.Series(data.genres.unique()).str.split('|').explode().unique().tolist() 3.53 ms per loop\n",
        "# %timeit pd.Series('|'.join(data.genres.unique().tolist()).split('|')).unique().tolist() 847 µs per loop\n",
        "# %timeit list(set('|'.join(set(data.genres)).split('|'))) 434 µs per loop\n",
        "\n",
        "# Дополним датафрейм столбцами-флагами об отнесении фильма к конкретному жанру\n",
        "for item in genres:\n",
        "  data['_'+item] =  data.genres.apply(lambda x: --(item in x))"
      ],
      "execution_count": 389,
      "outputs": []
    },
    {
      "cell_type": "code",
      "metadata": {
        "id": "Ce1YKlhJq2it"
      },
      "source": [
        "# Для ответа на вопрос 24\n",
        "data['_title_lenght'] = data.original_title.str.len()"
      ],
      "execution_count": 390,
      "outputs": []
    },
    {
      "cell_type": "code",
      "metadata": {
        "id": "8ozMvtwmsuf8"
      },
      "source": [
        "# Для ответа на вопрос 25\n",
        "data['_title_word_count'] = data.original_title.str.split().apply(len)"
      ],
      "execution_count": 391,
      "outputs": []
    },
    {
      "cell_type": "code",
      "metadata": {
        "id": "94Ql3yHfqpon",
        "outputId": "d9d4f8d8-eb9d-42b0-9104-f737a63ebf8e",
        "colab": {
          "base_uri": "https://localhost:8080/"
        }
      },
      "source": [
        "data.info()"
      ],
      "execution_count": 392,
      "outputs": [
        {
          "output_type": "stream",
          "text": [
            "<class 'pandas.core.frame.DataFrame'>\n",
            "RangeIndex: 1889 entries, 0 to 1888\n",
            "Data columns (total 41 columns):\n",
            " #   Column                 Non-Null Count  Dtype         \n",
            "---  ------                 --------------  -----         \n",
            " 0   imdb_id                1889 non-null   object        \n",
            " 1   budget                 1889 non-null   int64         \n",
            " 2   revenue                1889 non-null   int64         \n",
            " 3   original_title         1889 non-null   object        \n",
            " 4   cast                   1889 non-null   object        \n",
            " 5   director               1889 non-null   object        \n",
            " 6   tagline                1889 non-null   object        \n",
            " 7   overview               1889 non-null   object        \n",
            " 8   runtime                1889 non-null   int64         \n",
            " 9   genres                 1889 non-null   object        \n",
            " 10  production_companies   1889 non-null   object        \n",
            " 11  release_date           1889 non-null   object        \n",
            " 12  vote_average           1889 non-null   float64       \n",
            " 13  release_year           1889 non-null   int64         \n",
            " 14  _profit                1889 non-null   int64         \n",
            " 15  _release_date          1889 non-null   datetime64[ns]\n",
            " 16  _cast                  1889 non-null   object        \n",
            " 17  _director              1889 non-null   object        \n",
            " 18  _genres                1889 non-null   object        \n",
            " 19  _production_companies  1889 non-null   object        \n",
            " 20  _Action                1889 non-null   int64         \n",
            " 21  _Adventure             1889 non-null   int64         \n",
            " 22  _Animation             1889 non-null   int64         \n",
            " 23  _Comedy                1889 non-null   int64         \n",
            " 24  _Crime                 1889 non-null   int64         \n",
            " 25  _Documentary           1889 non-null   int64         \n",
            " 26  _Drama                 1889 non-null   int64         \n",
            " 27  _Family                1889 non-null   int64         \n",
            " 28  _Fantasy               1889 non-null   int64         \n",
            " 29  _Foreign               1889 non-null   int64         \n",
            " 30  _History               1889 non-null   int64         \n",
            " 31  _Horror                1889 non-null   int64         \n",
            " 32  _Music                 1889 non-null   int64         \n",
            " 33  _Mystery               1889 non-null   int64         \n",
            " 34  _Romance               1889 non-null   int64         \n",
            " 35  _Science Fiction       1889 non-null   int64         \n",
            " 36  _Thriller              1889 non-null   int64         \n",
            " 37  _War                   1889 non-null   int64         \n",
            " 38  _Western               1889 non-null   int64         \n",
            " 39  _title_lenght          1889 non-null   int64         \n",
            " 40  _title_word_count      1889 non-null   int64         \n",
            "dtypes: datetime64[ns](1), float64(1), int64(26), object(13)\n",
            "memory usage: 605.2+ KB\n"
          ],
          "name": "stdout"
        }
      ]
    },
    {
      "cell_type": "markdown",
      "metadata": {
        "id": "YxZaH-nPVp-L"
      },
      "source": [
        "# 1. У какого фильма из списка самый большой бюджет?"
      ]
    },
    {
      "cell_type": "markdown",
      "metadata": {
        "id": "Nd-G5gX6Vp-M"
      },
      "source": [
        "Использовать варианты ответов в коде решения запрещено.    \n",
        "Вы думаете и в жизни у вас будут варианты ответов?)"
      ]
    },
    {
      "cell_type": "code",
      "metadata": {
        "id": "uVnXAY5RVp-O"
      },
      "source": [
        "# в словарь вставляем номер вопроса и ваш ответ на него\n",
        "# Пример: \n",
        "answers['1'] = '2. Spider-Man 3 (tt0413300)'\n",
        "# запишите свой вариант ответа\n",
        "answers['1'] = '723. Pirates of the Caribbean: On Stranger Tides (tt1298650)'\n",
        "# если ответили верно, можете добавить комментарий со значком \"+\""
      ],
      "execution_count": 393,
      "outputs": []
    },
    {
      "cell_type": "code",
      "metadata": {
        "id": "dZwb3m28Vp-S"
      },
      "source": [
        "# тут пишем ваш код для решения данного вопроса:\n",
        "'''Функция для форматирования строки ответа как в примере'''\n",
        "def film_to_str(item):\n",
        "  return '{}. {} ({})' \\\n",
        "    .format(str(item.name), item.original_title, str(item.imdb_id))\n",
        "\n",
        "'''Определим наибольший бюджет среди всех фильмов.'''\n",
        "max_budget = data.budget.max()\n",
        "'''Выберем строку по совпадению значения бюджета с наибольшим бюджетом.\n",
        "   Если их несколько - возьмём первый по порядку в датафрейме.'''\n",
        "selected = data.query('budget==@max_budget').iloc[0]\n",
        "\n",
        "'''Сформируем ответ как в примере лаконично за счёт .iloc[] и f''.'''\n",
        "answers['1'] = film_to_str(selected)"
      ],
      "execution_count": 394,
      "outputs": []
    },
    {
      "cell_type": "markdown",
      "metadata": {
        "id": "K7L3nbRXVp-X"
      },
      "source": [
        "ВАРИАНТ 2"
      ]
    },
    {
      "cell_type": "code",
      "metadata": {
        "id": "OGaoQI7rVp-X"
      },
      "source": [
        "# можно добавлять разные варианты решения\n",
        "'''Перечислю прочие запомнившиеся методы поиска и обращения'''\n",
        "selected = data[data.budget==data.describe()['budget']['max']]\n",
        "selected = data[data['budget']==data.budget.max()]\n",
        "selected = data.sort_values(by='budget',ascending=False).iloc[0]\n",
        "selected = data.iloc[data['budget'].idxmax()]\n",
        "selected = data.nlargest(1,'budget')"
      ],
      "execution_count": 395,
      "outputs": []
    },
    {
      "cell_type": "markdown",
      "metadata": {
        "id": "FNRbbI3vVp-c"
      },
      "source": [
        "# 2. Какой из фильмов самый длительный (в минутах)?"
      ]
    },
    {
      "cell_type": "code",
      "metadata": {
        "id": "vHAoEXNTVp-d",
        "outputId": "59d5a405-febb-4c11-be4e-5f7353ad4739",
        "colab": {
          "base_uri": "https://localhost:8080/",
          "height": 35
        }
      },
      "source": [
        "# думаю логику работы с этим словарем вы уже поняли, \n",
        "# по этому не буду больше его дублировать\n",
        "answers['2'] = '1157. Gods and Generals (tt0279111)'\n",
        "'''Да простит меня проверяющий, далее не стал отдельно в комментариях\n",
        "   указывать найденные варианты ответов. Их поиск важнее и интересней.\n",
        "   А все ответы разом можно посмотреть в конце.'''"
      ],
      "execution_count": 396,
      "outputs": [
        {
          "output_type": "execute_result",
          "data": {
            "application/vnd.google.colaboratory.intrinsic+json": {
              "type": "string"
            },
            "text/plain": [
              "'Да простит меня проверяющий, далее не стал отдельно в комментариях\\n   указывать найденные варианты ответов. Их поиск важнее и интересней.\\n   А все ответы разом можно посмотреть в конце.'"
            ]
          },
          "metadata": {
            "tags": []
          },
          "execution_count": 396
        }
      ]
    },
    {
      "cell_type": "code",
      "metadata": {
        "id": "ot-VX2XrVp-g"
      },
      "source": [
        "# Поступим по аналогии с поиском решения на первый вопрос\n",
        "max_runtime = data.runtime.max()\n",
        "selected = data.query('runtime==@max_runtime').iloc[0]\n",
        "answers['2'] = film_to_str(selected)"
      ],
      "execution_count": 397,
      "outputs": []
    },
    {
      "cell_type": "markdown",
      "metadata": {
        "id": "bapLlpW8Vp-k"
      },
      "source": [
        "# 3. Какой из фильмов самый короткий (в минутах)?\n",
        "\n",
        "\n",
        "\n"
      ]
    },
    {
      "cell_type": "code",
      "metadata": {
        "id": "YBxaSHuAVp-l"
      },
      "source": [
        "# Поступим по аналогии с поиском решения на первый вопрос\n",
        "min_runtime = data.runtime.min()\n",
        "selected = data.query('runtime==@min_runtime').iloc[0]\n",
        "answers['3'] = film_to_str(selected)"
      ],
      "execution_count": 398,
      "outputs": []
    },
    {
      "cell_type": "markdown",
      "metadata": {
        "id": "TfQbxbfNVp-p"
      },
      "source": [
        "# 4. Какова средняя длительность фильмов?\n"
      ]
    },
    {
      "cell_type": "code",
      "metadata": {
        "id": "5K6dKZYVVp-q"
      },
      "source": [
        "# Возьмём отдельно столбец длительность и изучим\n",
        "answers['4'] = round(data.runtime.mean())"
      ],
      "execution_count": 399,
      "outputs": []
    },
    {
      "cell_type": "markdown",
      "metadata": {
        "id": "r5TvbnT_Vp-u"
      },
      "source": [
        "# 5. Каково медианное значение длительности фильмов? "
      ]
    },
    {
      "cell_type": "code",
      "metadata": {
        "id": "iBROplKnVp-v"
      },
      "source": [
        "# Здесь можно не округлять, так как значение из набора\n",
        "answers['5'] = round(data.runtime.median())"
      ],
      "execution_count": 400,
      "outputs": []
    },
    {
      "cell_type": "markdown",
      "metadata": {
        "id": "39P-deDSVp-y"
      },
      "source": [
        "# 6. Какой самый прибыльный фильм?\n",
        "#### Внимание! Здесь и далее под «прибылью» или «убытками» понимается разность между сборами и бюджетом фильма. (прибыль = сборы - бюджет) в нашем датасете это будет (profit = revenue - budget) "
      ]
    },
    {
      "cell_type": "code",
      "metadata": {
        "id": "UYZh4T9WVp-y"
      },
      "source": [
        "# лучше код получения столбца profit вынести в Предобработку что в начале\n",
        "'''Рекомендация выполнена. Остальное по аналогии с первым вопросом'''\n",
        "max_profit = data._profit.max()\n",
        "selected = data.query('_profit==@max_profit').iloc[0]\n",
        "answers['6'] = film_to_str(selected)"
      ],
      "execution_count": 401,
      "outputs": []
    },
    {
      "cell_type": "markdown",
      "metadata": {
        "id": "M99JmIX4Vp-2"
      },
      "source": [
        "# 7. Какой фильм самый убыточный? "
      ]
    },
    {
      "cell_type": "code",
      "metadata": {
        "id": "w-D2m4XPVp-3"
      },
      "source": [
        "# Поступим по аналогии с поиском решения на первый вопрос\n",
        "min_profit = data._profit.min()\n",
        "selected = data.query('_profit==@min_profit').iloc[0]\n",
        "answers['7'] = film_to_str(selected)"
      ],
      "execution_count": 402,
      "outputs": []
    },
    {
      "cell_type": "markdown",
      "metadata": {
        "id": "wEOM5ERVVp-6"
      },
      "source": [
        "# 8. У скольких фильмов из датасета объем сборов оказался выше бюджета?"
      ]
    },
    {
      "cell_type": "code",
      "metadata": {
        "id": "y00_7HD6Vp-7"
      },
      "source": [
        "# Фильтруем и считаем уникальные значения\n",
        "answers['8'] = data.query('_profit>0').imdb_id.nunique()"
      ],
      "execution_count": 403,
      "outputs": []
    },
    {
      "cell_type": "markdown",
      "metadata": {
        "id": "xhpspA9KVp_A"
      },
      "source": [
        "# 9. Какой фильм оказался самым кассовым в 2008 году?"
      ]
    },
    {
      "cell_type": "code",
      "metadata": {
        "id": "MoUyQr9RVp_B"
      },
      "source": [
        "# Поступим по аналогии с поиском решения на первый вопрос\n",
        "selected = data.query('release_year==2008') \\\n",
        ".sort_values(by='_profit',ascending=False).iloc[0]\n",
        "answers['9'] = film_to_str(selected)"
      ],
      "execution_count": 404,
      "outputs": []
    },
    {
      "cell_type": "markdown",
      "metadata": {
        "id": "Zi4hDKidVp_F"
      },
      "source": [
        "# 10. Самый убыточный фильм за период с 2012 по 2014 г. (включительно)?\n"
      ]
    },
    {
      "cell_type": "code",
      "metadata": {
        "id": "XqyRmufJVp_F"
      },
      "source": [
        "# Поступим по аналогии с поиском решения на первый вопрос\n",
        "selected = data.query('2012<=release_year<=2014') \\\n",
        "  .sort_values(by='_profit').iloc[0]\n",
        "answers['10'] = film_to_str(selected)"
      ],
      "execution_count": 405,
      "outputs": []
    },
    {
      "cell_type": "markdown",
      "metadata": {
        "id": "EA7Sa9dkVp_I"
      },
      "source": [
        "# 11. Какого жанра фильмов больше всего?"
      ]
    },
    {
      "cell_type": "code",
      "metadata": {
        "id": "zsJAwJ8QVp_J"
      },
      "source": [
        "# эту задачу тоже можно решать разными подходами, попробуй реализовать разные варианты\n",
        "# если будешь добавлять функцию - выноси ее в предобработку что в начале\n",
        "'''Благодаря столбцам-флагам определяем количества простой суммой'''\n",
        "answers['11'] = data[_genres].sum().nlargest(1).index[0][1:]"
      ],
      "execution_count": 406,
      "outputs": []
    },
    {
      "cell_type": "markdown",
      "metadata": {
        "id": "Ax6g2C8SVp_M"
      },
      "source": [
        "ВАРИАНТ 2"
      ]
    },
    {
      "cell_type": "code",
      "metadata": {
        "id": "otO3SbrSVp_N",
        "outputId": "826b2342-2d62-458d-efea-fd69a58c4813",
        "colab": {
          "base_uri": "https://localhost:8080/",
          "height": 89
        }
      },
      "source": [
        "'''Вариант без необходимости дополнения столбцами-флагами\n",
        "   для случая режиссёров и актёров добавление столбцов неэкономно'''\n",
        "display(data.explode('_genres').groupby('_genres')['imdb_id'].count() \\\n",
        "        .nlargest(1).index[0])\n",
        "\n",
        "'''Вариант через value_counts без группировки и агрегации'''\n",
        "display(data.explode('_genres')._genres.value_counts().nlargest(1).index[0])\n",
        "\n",
        "'''Вариант решения через обход датафрейма с составлением словаря'''\n",
        "genres_dict = {genre:0 for genre in genres}\n",
        "for row in data.index:\n",
        "  for genre in data.iloc[row]._genres:\n",
        "    genres_dict[genre]+=1\n",
        "'''Собранный словарь с количествами проанализируем удобным способом'''\n",
        "display(pd.Series(genres_dict).nlargest(1).index[0])\n",
        "\n",
        "'''Самый короткий по длинне вариант, притом без необходимости в предобработке'''\n",
        "Counter(data.genres.apply(str.split,sep='|').explode()).most_common()[0][0]"
      ],
      "execution_count": 407,
      "outputs": [
        {
          "output_type": "display_data",
          "data": {
            "application/vnd.google.colaboratory.intrinsic+json": {
              "type": "string"
            },
            "text/plain": [
              "'Drama'"
            ]
          },
          "metadata": {
            "tags": []
          }
        },
        {
          "output_type": "display_data",
          "data": {
            "application/vnd.google.colaboratory.intrinsic+json": {
              "type": "string"
            },
            "text/plain": [
              "'Drama'"
            ]
          },
          "metadata": {
            "tags": []
          }
        },
        {
          "output_type": "display_data",
          "data": {
            "application/vnd.google.colaboratory.intrinsic+json": {
              "type": "string"
            },
            "text/plain": [
              "'Drama'"
            ]
          },
          "metadata": {
            "tags": []
          }
        },
        {
          "output_type": "execute_result",
          "data": {
            "application/vnd.google.colaboratory.intrinsic+json": {
              "type": "string"
            },
            "text/plain": [
              "'Drama'"
            ]
          },
          "metadata": {
            "tags": []
          },
          "execution_count": 407
        }
      ]
    },
    {
      "cell_type": "markdown",
      "metadata": {
        "id": "T9_bPWpkVp_Q"
      },
      "source": [
        "# 12. Фильмы какого жанра чаще всего становятся прибыльными? "
      ]
    },
    {
      "cell_type": "code",
      "metadata": {
        "id": "Tmt8MaK1Vp_R"
      },
      "source": [
        "# Фильтруем, аггрегируем, находим больший\n",
        "answers['12'] = data.query('_profit>0')[_genres].sum().nlargest(1).index[0][1:]"
      ],
      "execution_count": 408,
      "outputs": []
    },
    {
      "cell_type": "markdown",
      "metadata": {
        "id": "0F23bgsDVp_U"
      },
      "source": [
        "# 13. У какого режиссера самые большие суммарные кассовые сборы?"
      ]
    },
    {
      "cell_type": "code",
      "metadata": {
        "id": "K6Z3J8ygVp_X"
      },
      "source": [
        "# Разворачиваем, группируем, агрегируем, находим больший\n",
        "answers['13'] = data.explode(column='_director').groupby('_director') \\\n",
        "  .revenue.sum().nlargest(1).index[0]"
      ],
      "execution_count": 409,
      "outputs": []
    },
    {
      "cell_type": "markdown",
      "metadata": {
        "id": "PsYC9FgRVp_a"
      },
      "source": [
        "# 14. Какой режисер снял больше всего фильмов в стиле Action?"
      ]
    },
    {
      "cell_type": "code",
      "metadata": {
        "id": "wd2M-wHeVp_b"
      },
      "source": [
        "# Разворачиваем, группируем, агрегируем, находим больший\n",
        "answers['14'] = data.explode(column='_director').groupby('_director') \\\n",
        "  ._Action.sum().nlargest(1).index[0]"
      ],
      "execution_count": 410,
      "outputs": []
    },
    {
      "cell_type": "markdown",
      "metadata": {
        "id": "PQ0KciD7Vp_f"
      },
      "source": [
        "# 15. Фильмы с каким актером принесли самые высокие кассовые сборы в 2012 году? "
      ]
    },
    {
      "cell_type": "code",
      "metadata": {
        "id": "aga62oeKVp_g"
      },
      "source": [
        "# Фильтруем, разворачиваем, группируем, агрегируем, находим больший\n",
        "answers['15'] = data.query('release_year==2012').explode(column='_cast') \\\n",
        "  .groupby('_cast').revenue.sum().nlargest(1).index[0]"
      ],
      "execution_count": 411,
      "outputs": []
    },
    {
      "cell_type": "markdown",
      "metadata": {
        "id": "mWHyyL7QVp_j"
      },
      "source": [
        "# 16. Какой актер снялся в большем количестве высокобюджетных фильмов?"
      ]
    },
    {
      "cell_type": "code",
      "metadata": {
        "id": "qQtmHKTFVp_k"
      },
      "source": [
        "# Фильтруем, разворачиваем, группируем, агрегируем, находим больший\n",
        "answers['16'] = data[data.budget>data.budget.mean()].explode(column='_cast') \\\n",
        "  .groupby('_cast').imdb_id.count().nlargest(1).index[0]"
      ],
      "execution_count": 412,
      "outputs": []
    },
    {
      "cell_type": "markdown",
      "metadata": {
        "id": "NIh6AaW5Vp_n"
      },
      "source": [
        "# 17. В фильмах какого жанра больше всего снимался Nicolas Cage? "
      ]
    },
    {
      "cell_type": "code",
      "metadata": {
        "id": "H74SJDIBVp_n",
        "outputId": "bd04f377-4491-40b7-dac8-009ba7f957ef",
        "colab": {
          "base_uri": "https://localhost:8080/",
          "height": 35
        }
      },
      "source": [
        "# Разворачиваем актёров и фильтруем по нужному\n",
        "# Разворачиваем жанры и группируем по ним\n",
        "# Агрегируем количество фильмов и находим большее\n",
        "answers['17'] = data.explode(column='_cast').query('_cast==\"Nicolas Cage\"') \\\n",
        "  .explode('_genres').groupby('_genres').imdb_id \\\n",
        "  .count().nlargest(1).index[0]\n",
        "\n",
        "# Вариант через дополнительные столбцы\n",
        "# Разворачиваем актёров и фильтруем по нужному\n",
        "# Отбираем столбцы жанров, суммируем и находим больший\n",
        "data.explode(column='_cast').query('_cast==\"Nicolas Cage\"')[_genres].sum() \\\n",
        "  .nlargest(1).index[0][1:]"
      ],
      "execution_count": 413,
      "outputs": [
        {
          "output_type": "execute_result",
          "data": {
            "application/vnd.google.colaboratory.intrinsic+json": {
              "type": "string"
            },
            "text/plain": [
              "'Action'"
            ]
          },
          "metadata": {
            "tags": []
          },
          "execution_count": 413
        }
      ]
    },
    {
      "cell_type": "markdown",
      "metadata": {
        "id": "RqOmPRfWVp_q"
      },
      "source": [
        "# 18. Самый убыточный фильм от Paramount Pictures"
      ]
    },
    {
      "cell_type": "code",
      "metadata": {
        "id": "9E_B0Y96Vp_r"
      },
      "source": [
        "# Фильтруем, находим ниаменьший по прибыли\n",
        "# Отличается от предыдущих так как не было шага группировки по искмому значению\n",
        "selected = data[data.production_companies.str.contains(\"Paramount Pictures\")] \\\n",
        "  .nsmallest(1,'_profit').iloc[0]\n",
        "answers['18'] = film_to_str(selected)"
      ],
      "execution_count": 414,
      "outputs": []
    },
    {
      "cell_type": "markdown",
      "metadata": {
        "id": "vS8Ur6ddVp_u"
      },
      "source": [
        "# 19. Какой год стал самым успешным по суммарным кассовым сборам?"
      ]
    },
    {
      "cell_type": "code",
      "metadata": {
        "id": "Dnbt4GdIVp_v"
      },
      "source": [
        "# Группируем, агрегируем, находим больший\n",
        "answers['19'] = data.groupby('release_year').revenue.sum().nlargest(1).index[0]"
      ],
      "execution_count": 415,
      "outputs": []
    },
    {
      "cell_type": "markdown",
      "metadata": {
        "id": "JAzJh4QAVp_z"
      },
      "source": [
        "# 20. Какой самый прибыльный год для студии Warner Bros?"
      ]
    },
    {
      "cell_type": "code",
      "metadata": {
        "id": "wgVu02DEVp_0"
      },
      "source": [
        "# Фильтруем, группируем, агрегируем, находим больший\n",
        "selected = data.production_companies.str.contains(\"Warner Bros\")\n",
        "answers['20'] = data[selected].groupby('release_year') \\\n",
        "  ._profit.sum().nlargest(1).index[0]"
      ],
      "execution_count": 416,
      "outputs": []
    },
    {
      "cell_type": "markdown",
      "metadata": {
        "id": "8Im1S2HRVp_4"
      },
      "source": [
        "# 21. В каком месяце за все годы суммарно вышло больше всего фильмов?"
      ]
    },
    {
      "cell_type": "code",
      "metadata": {
        "id": "lev6TH7gVp_4"
      },
      "source": [
        "# Фильтруем, группируем, агрегируем, находим больший\n",
        "answers['21'] = data.groupby(by=data._release_date.dt.month_name()) \\\n",
        "  .imdb_id.count().nlargest(1).index[0]"
      ],
      "execution_count": 417,
      "outputs": []
    },
    {
      "cell_type": "markdown",
      "metadata": {
        "id": "uAJsZ_NeVp_7"
      },
      "source": [
        "# 22. Сколько суммарно вышло фильмов летом? (за июнь, июль, август)"
      ]
    },
    {
      "cell_type": "code",
      "metadata": {
        "id": "Aa-hEREoVp_8"
      },
      "source": [
        "# Фильтруем и считаем уникальные значения\n",
        "selected = (data._release_date.dt.month == 6) \\\n",
        "          |(data._release_date.dt.month == 7) \\\n",
        "          |(data._release_date.dt.month == 8)\n",
        "answers['22'] = data[selected].imdb_id.nunique()"
      ],
      "execution_count": 418,
      "outputs": []
    },
    {
      "cell_type": "markdown",
      "metadata": {
        "id": "G94ppOY1VqAA"
      },
      "source": [
        "# 23. Для какого режиссера зима – самое продуктивное время года? "
      ]
    },
    {
      "cell_type": "code",
      "metadata": {
        "id": "RhNTsamuVqAB"
      },
      "source": [
        "# Фильтруем, группируем, агрегируем, находим больший\n",
        "selected = (data._release_date.dt.month == 12) \\\n",
        "          |(data._release_date.dt.month == 1 ) \\\n",
        "          |(data._release_date.dt.month == 2 )\n",
        "answers['23'] = data[selected].explode('_director').groupby('_director') \\\n",
        "  .imdb_id.count().nlargest(1).index[0]"
      ],
      "execution_count": 419,
      "outputs": []
    },
    {
      "cell_type": "code",
      "metadata": {
        "id": "NoXmlfTFvAYa",
        "outputId": "3f5da15c-09c5-43be-8b67-7ed1c7171e3c",
        "colab": {
          "base_uri": "https://localhost:8080/",
          "height": 35
        }
      },
      "source": [
        "# Подсмотрел на Слаке, но ещё не освоился\n",
        "data[selected].explode('_director')._director.value_counts().index[0]"
      ],
      "execution_count": 420,
      "outputs": [
        {
          "output_type": "execute_result",
          "data": {
            "application/vnd.google.colaboratory.intrinsic+json": {
              "type": "string"
            },
            "text/plain": [
              "'Peter Jackson'"
            ]
          },
          "metadata": {
            "tags": []
          },
          "execution_count": 420
        }
      ]
    },
    {
      "cell_type": "markdown",
      "metadata": {
        "id": "RBo0JVjVVqAF"
      },
      "source": [
        "# 24. Какая студия дает самые длинные названия своим фильмам по количеству символов?"
      ]
    },
    {
      "cell_type": "code",
      "metadata": {
        "id": "QRGS8L0iVqAG"
      },
      "source": [
        "# Фильтруем, группируем, агрегируем, находим больший\n",
        "answers['24'] = data.explode('_production_companies') \\\n",
        "  .groupby('_production_companies')._title_lenght.mean().nlargest(1).index[0]"
      ],
      "execution_count": 421,
      "outputs": []
    },
    {
      "cell_type": "markdown",
      "metadata": {
        "id": "9G0hbvR7VqAK"
      },
      "source": [
        "# 25. Описание фильмов какой студии в среднем самые длинные по количеству слов?"
      ]
    },
    {
      "cell_type": "code",
      "metadata": {
        "id": "Ge2GsLNxVqAK"
      },
      "source": [
        "# Список сравниваемых компаний\n",
        "to_check = [ \\\n",
        "  'Universal Pictures', \\\n",
        "  'Warner Bros', \\\n",
        "  'Midnight Picture Show', \\\n",
        "  'Paramount Pictures', \\\n",
        "  'Total Entertainment' \\\n",
        "]"
      ],
      "execution_count": 422,
      "outputs": []
    },
    {
      "cell_type": "code",
      "metadata": {
        "id": "ER1NG1txa9lP"
      },
      "source": [
        "# Функция для группировки по списку, что-бы считать компании\n",
        "# ['Warner Bros.', \n",
        "#  'Warner Bros. Animation', \n",
        "#  'Warner Bros. Interactive Entertainment', \n",
        "#  'Warner Bros. Pictures']\n",
        "# как один вариант 'Warner Bros'\n",
        "def check(item):\n",
        "  for company in to_check:\n",
        "    if str(item).find(company)>=0:\n",
        "      return company\n",
        "  return 'None'\n",
        "\n",
        "# Развернём компании, установим в качестве индекса, сгруппируем по функции,\n",
        "# агрегируем, сортируем и выводим найденную компанию\n",
        "answers['25'] = data.explode('_production_companies') \\\n",
        "  [['_production_companies','_title_word_count']] \\\n",
        "  .set_index('_production_companies').groupby(check) \\\n",
        "  .mean().sort_values(by='_title_word_count',ascending=False).index[0]"
      ],
      "execution_count": 423,
      "outputs": []
    },
    {
      "cell_type": "code",
      "metadata": {
        "id": "wXyJh73kaUzU",
        "outputId": "82dbca0e-23c3-487b-9d45-91176dc52e62",
        "colab": {
          "base_uri": "https://localhost:8080/"
        }
      },
      "source": [
        "# Вариант 2\n",
        "# Проход по списку с подсчётом среднего количества слов для каждой компании\n",
        "result = {}\n",
        "for item in to_check:\n",
        "  result.setdefault(item,0)\n",
        "  result[item]=data[data.production_companies.str.contains(item)]._title_word_count.mean()\n",
        "result"
      ],
      "execution_count": 424,
      "outputs": [
        {
          "output_type": "execute_result",
          "data": {
            "text/plain": [
              "{'Midnight Picture Show': 4.0,\n",
              " 'Paramount Pictures': 2.8688524590163933,\n",
              " 'Total Entertainment': 8.0,\n",
              " 'Universal Pictures': 2.617142857142857,\n",
              " 'Warner Bros': 2.73224043715847}"
            ]
          },
          "metadata": {
            "tags": []
          },
          "execution_count": 424
        }
      ]
    },
    {
      "cell_type": "code",
      "metadata": {
        "id": "o2C3-tQp5y7i",
        "outputId": "ce6e495e-0009-4732-d82f-dbb7d4148375",
        "colab": {
          "base_uri": "https://localhost:8080/"
        }
      },
      "source": [
        "'''Остатки мук поиска ошибки в решении и самого решения'''\n",
        "print(len(data[data.production_companies.str.contains('Total Entertainment')].original_title.str.split().tolist()[0]))\n",
        "len(data[data.production_companies.str.contains('Total Entertainment')].original_title.str.split('\\W+').tolist()[0])\n",
        "#selected = data.production_companies.str.contains('.*Universal Pictures.*|.*Warner Bros.*|.*Midnight Picture Show.*|.*Paramount Pictures.*|.*Total Entertainment.*',regex=True)\n",
        "\n",
        "#data.explode('_production_companies').groupby(check)._title_word_count.mean()\n",
        "#data[selected].explode('_production_companies').groupby(data[selected].explode('_production_companies')['_production_companies'].apply(check)).mean()\n",
        "\n",
        "#answers['25'] = data.explode('_production_companies')[['_production_companies','_title_word_count']].set_index('_production_companies').groupby(check).mean().sort_values(by='_title_word_count',ascending=False).index[0]\n",
        "#data.explode('_production_companies')[data.explode('_production_companies')['_production_companies'].str.contains('Warner Bros')]['_production_companies'].unique()\n",
        "#data[data['production_companies'].str.contains('Midnight Picture Show')]\n",
        "#data.explode('_production_companies')['_production_companies'].apply(check)\n",
        "\n",
        "#data.explode('_production_companies')[data.explode('_production_companies')['_production_companies'].apply(check)].groupby('_production_companies')._title_word_count \\\n",
        "#  .mean()\n",
        "  #.nlargest(1).index[0]\n",
        "\n",
        "# Разворачиваем, группируем, агрегируем, находим больший\n",
        "#answers['25'] = data.explode('_production_companies') \\\n",
        "#  .groupby('_production_companies')._title_word_count \\\n",
        "#  .mean().nlargest(1).index[0]\n",
        "#df = data[['production_companies','_production_companies','original_title','_title_word_count']].sort_values(by='_title_word_count', ascending=False)\n",
        "#df.explode('_production_companies').groupby('_production_companies').mean().sort_values(by='_title_word_count',ascending=False)\n",
        "#df['production_companies'].str.contains()"
      ],
      "execution_count": 425,
      "outputs": [
        {
          "output_type": "stream",
          "text": [
            "8\n"
          ],
          "name": "stdout"
        },
        {
          "output_type": "execute_result",
          "data": {
            "text/plain": [
              "7"
            ]
          },
          "metadata": {
            "tags": []
          },
          "execution_count": 425
        }
      ]
    },
    {
      "cell_type": "markdown",
      "metadata": {
        "id": "FJ1AFt90VqAP"
      },
      "source": [
        "# 26. Какие фильмы входят в 1 процент лучших по рейтингу? \n",
        "по vote_average"
      ]
    },
    {
      "cell_type": "code",
      "metadata": {
        "id": "8qmJVq4CVqAQ"
      },
      "source": [
        "# Список искомых комбинаций\n",
        "to_check = [ \\\n",
        "  ['Inside Out', 'The Dark Knight', '12 Years a Slave'], \\\n",
        "  ['BloodRayne', 'The Adventures of Rocky & Bullwinkle'], \\\n",
        "  ['Batman Begins', \\\n",
        "   'The Lord of the Rings: The Return of the King', \\\n",
        "   'Upside Down' \\\n",
        "  ], \\\n",
        "  ['300', 'Lucky Number Slevin', 'Kill Bill: Vol. 1'], \\\n",
        "  ['Upside Down', 'Inside Out', 'Iron Man'] \\\n",
        "]\n",
        "\n",
        "# Фильтруем по 1% квантилю\n",
        "selected = data['vote_average']>data['vote_average'].quantile(0.99)\n",
        "\n",
        "for list_of_titles in to_check:\n",
        "  if set(list_of_titles).issubset(data[selected].original_title.tolist()):\n",
        "      answers['26'] = list_of_titles"
      ],
      "execution_count": 426,
      "outputs": []
    },
    {
      "cell_type": "markdown",
      "metadata": {
        "id": "MdXsUXbCVqAV"
      },
      "source": [
        "# 27. Какие актеры чаще всего снимаются в одном фильме вместе?\n"
      ]
    },
    {
      "cell_type": "code",
      "metadata": {
        "id": "trK3uqQcHr6D"
      },
      "source": [
        "# Список искомых комбинаций\n",
        "to_check = [ \\\n",
        "  ('Johnny Depp','Helena Bonham Carter'), \\\n",
        "  ('Ben Stiller','Owen Wilson'), \\\n",
        "  ('Vin Diesel','Paul Walker'), \\\n",
        "  ('Adam Sandler','Kevin James'), \\\n",
        "  ('Daniel Radcliffe','Rupert Grint') \\\n",
        "]\n",
        "# Упорядочим\n",
        "to_check = list(map(tuple,map(sorted,to_check)))\n",
        "\n",
        "# Сортируем списки актёров для детерминированности составляемых комбинаций\n",
        "# Создаём парные комбинации актёров из списка актёров фильма\n",
        "# Материализуем их, разворачиваем, считаем, сравниваем с искомым списком\n",
        "# Сортируем по убыванию частоты съёмки пары в фильме и вуаля\n",
        "answers['27'] = data['_cast'].apply(sorted).apply(combinations,r=2) \\\n",
        "  .apply(list).explode().value_counts().loc[to_check] \\\n",
        "  .sort_values(ascending=False).index[0]"
      ],
      "execution_count": 427,
      "outputs": []
    },
    {
      "cell_type": "code",
      "metadata": {
        "id": "z5VjkwGNMdwD",
        "outputId": "8d0fa516-a460-428d-d80c-deaffe3d9f24",
        "colab": {
          "base_uri": "https://localhost:8080/",
          "height": 297
        }
      },
      "source": [
        "'''Остатки мук поиска причины расхождения двух способов подсчёта\n",
        "   секрет кроется в фильме 374 из за которого теряется одна комбинация\n",
        "   \"Emma Watson|Rupert Grint\", так как без предварительной сортировки \n",
        "   считает вариант \"Rupert Grint|Emma Watson\" в количестве 7 штук,\n",
        "   а с предварительной сортировкой \"Emma Watson|Rupert Grint\" - 8 штук'''\n",
        "#top1 = \n",
        "selected = data['_cast'].apply(combinations,r=2).apply(list).explode().value_counts() \\\n",
        ".reset_index()#.apply(sorted,columns='index')#.groupby(level=0).count().nlargest(5)\n",
        "selected['index'] = selected['index'].apply(sorted).apply('|'.join)\n",
        "selected[selected['index'].str.contains('Emma Watson')]\n",
        "data[data.cast.str.contains('Emma Watson') & data.cast.str.contains('Rupert Grint')][['original_title','_cast']]\n",
        "#selected.groupby('index').count().nlargest(5,'_cast')\n",
        "#selected = data['_cast'].apply(combinations,r=2).apply(list).explode().value_counts().head(5).index.tolist()\n",
        "#temp = {}\n",
        "#for item in selected:\n",
        "#  data['recount'] = data[data.cast.str.contains(item[0]) \\\n",
        "#     & data.cast.str.contains(item[1])].imdb_id.nunique()\n",
        "#selected\n",
        "#top2 = data['_cast'].apply(sorted).apply(combinations,r=2).apply(list).explode().value_counts().head(5)\n",
        "#Counter(data['_cast'].apply(combinations,r=2).apply(list).explode()).most_common(5)\n",
        "#data['_cast'].apply(combinations,r=2).apply(list).explode().reset_index().groupby('_cast')._cast.count().nlargest(5)\n",
        "\n",
        "#data[data.cast.str.contains('Daniel Radcliffe') \\\n",
        "#& data.cast.str.contains('Emma Watson')]\n",
        "#selected = []\n",
        "#for pair in top1.append(top2).index:\n",
        "#  selected.append(data[data.cast.str.contains(pair[0]) & data.cast.str.contains(pair[1])].index.tolist())\n",
        "#selected = pd.Series(selected).explode().unique().tolist()\n",
        "#data[['original_title','_cast']].loc[selected]['_cast'].apply(sorted).apply(combinations,r=2).apply(list).explode().value_counts().head(5)\n",
        "#data._cast = data.cast.str.split('|').apply(sorted)\n",
        "#data._cast\n",
        "#data['_cast'].apply(combinations,r=2).apply(list).apply(lambda x:sorted(x))\n",
        "#data[data.cast.str.contains('Rupert Grint') \\\n",
        "#& data.cast.str.contains('Emma Watson')].info()"
      ],
      "execution_count": 428,
      "outputs": [
        {
          "output_type": "execute_result",
          "data": {
            "text/html": [
              "<div>\n",
              "<style scoped>\n",
              "    .dataframe tbody tr th:only-of-type {\n",
              "        vertical-align: middle;\n",
              "    }\n",
              "\n",
              "    .dataframe tbody tr th {\n",
              "        vertical-align: top;\n",
              "    }\n",
              "\n",
              "    .dataframe thead th {\n",
              "        text-align: right;\n",
              "    }\n",
              "</style>\n",
              "<table border=\"1\" class=\"dataframe\">\n",
              "  <thead>\n",
              "    <tr style=\"text-align: right;\">\n",
              "      <th></th>\n",
              "      <th>original_title</th>\n",
              "      <th>_cast</th>\n",
              "    </tr>\n",
              "  </thead>\n",
              "  <tbody>\n",
              "    <tr>\n",
              "      <th>242</th>\n",
              "      <td>Harry Potter and the Half-Blood Prince</td>\n",
              "      <td>[Daniel Radcliffe, Rupert Grint, Emma Watson, ...</td>\n",
              "    </tr>\n",
              "    <tr>\n",
              "      <th>374</th>\n",
              "      <td>Harry Potter and the Deathly Hallows: Part 1</td>\n",
              "      <td>[Daniel Radcliffe, Emma Watson, Rupert Grint, ...</td>\n",
              "    </tr>\n",
              "    <tr>\n",
              "      <th>497</th>\n",
              "      <td>Harry Potter and the Philosopher's Stone</td>\n",
              "      <td>[Daniel Radcliffe, Rupert Grint, Emma Watson, ...</td>\n",
              "    </tr>\n",
              "    <tr>\n",
              "      <th>722</th>\n",
              "      <td>Harry Potter and the Deathly Hallows: Part 2</td>\n",
              "      <td>[Daniel Radcliffe, Rupert Grint, Emma Watson, ...</td>\n",
              "    </tr>\n",
              "    <tr>\n",
              "      <th>864</th>\n",
              "      <td>Harry Potter and the Chamber of Secrets</td>\n",
              "      <td>[Daniel Radcliffe, Rupert Grint, Emma Watson, ...</td>\n",
              "    </tr>\n",
              "    <tr>\n",
              "      <th>1312</th>\n",
              "      <td>Harry Potter and the Goblet of Fire</td>\n",
              "      <td>[Daniel Radcliffe, Rupert Grint, Emma Watson, ...</td>\n",
              "    </tr>\n",
              "    <tr>\n",
              "      <th>1560</th>\n",
              "      <td>Harry Potter and the Prisoner of Azkaban</td>\n",
              "      <td>[Daniel Radcliffe, Rupert Grint, Emma Watson, ...</td>\n",
              "    </tr>\n",
              "    <tr>\n",
              "      <th>1670</th>\n",
              "      <td>Harry Potter and the Order of the Phoenix</td>\n",
              "      <td>[Daniel Radcliffe, Rupert Grint, Emma Watson, ...</td>\n",
              "    </tr>\n",
              "  </tbody>\n",
              "</table>\n",
              "</div>"
            ],
            "text/plain": [
              "                                    original_title                                              _cast\n",
              "242         Harry Potter and the Half-Blood Prince  [Daniel Radcliffe, Rupert Grint, Emma Watson, ...\n",
              "374   Harry Potter and the Deathly Hallows: Part 1  [Daniel Radcliffe, Emma Watson, Rupert Grint, ...\n",
              "497       Harry Potter and the Philosopher's Stone  [Daniel Radcliffe, Rupert Grint, Emma Watson, ...\n",
              "722   Harry Potter and the Deathly Hallows: Part 2  [Daniel Radcliffe, Rupert Grint, Emma Watson, ...\n",
              "864        Harry Potter and the Chamber of Secrets  [Daniel Radcliffe, Rupert Grint, Emma Watson, ...\n",
              "1312           Harry Potter and the Goblet of Fire  [Daniel Radcliffe, Rupert Grint, Emma Watson, ...\n",
              "1560      Harry Potter and the Prisoner of Azkaban  [Daniel Radcliffe, Rupert Grint, Emma Watson, ...\n",
              "1670     Harry Potter and the Order of the Phoenix  [Daniel Radcliffe, Rupert Grint, Emma Watson, ..."
            ]
          },
          "metadata": {
            "tags": []
          },
          "execution_count": 428
        }
      ]
    },
    {
      "cell_type": "markdown",
      "metadata": {
        "id": "4ymnxEVoVqAW"
      },
      "source": [
        "ВАРИАНТ 2"
      ]
    },
    {
      "cell_type": "code",
      "metadata": {
        "id": "VyTgwYqlHsw1",
        "outputId": "719130f0-9f0f-4614-e259-6173f037ae66",
        "colab": {
          "base_uri": "https://localhost:8080/",
          "height": 663
        }
      },
      "source": [
        "# Применение объекта Counter позволяет написать короче, но меньше гибкости\n",
        "display(Counter(data['_cast'].apply(sorted).apply(combinations,r=2) \\\n",
        "                .apply(list).explode()).most_common()[:5])\n",
        "print()\n",
        "\n",
        "# Тут типа мускулатурой играю - хвастаюсь насколько тему понял\n",
        "[data['_cast'].apply(sorted).apply(combinations,r=x).apply(list).explode() \\\n",
        "  .value_counts().nlargest(1,keep='all').to_dict() for x in range(2,6)]"
      ],
      "execution_count": 429,
      "outputs": [
        {
          "output_type": "display_data",
          "data": {
            "text/plain": [
              "[(('Daniel Radcliffe', 'Emma Watson'), 8),\n",
              " (('Daniel Radcliffe', 'Rupert Grint'), 8),\n",
              " (('Emma Watson', 'Rupert Grint'), 8),\n",
              " (('Ben Stiller', 'Owen Wilson'), 6),\n",
              " (('Helena Bonham Carter', 'Johnny Depp'), 6)]"
            ]
          },
          "metadata": {
            "tags": []
          }
        },
        {
          "output_type": "stream",
          "text": [
            "\n"
          ],
          "name": "stdout"
        },
        {
          "output_type": "execute_result",
          "data": {
            "text/plain": [
              "[{('Daniel Radcliffe', 'Emma Watson'): 8,\n",
              "  ('Daniel Radcliffe', 'Rupert Grint'): 8,\n",
              "  ('Emma Watson', 'Rupert Grint'): 8},\n",
              " {('Daniel Radcliffe', 'Emma Watson', 'Rupert Grint'): 8},\n",
              " {('Jennifer Lawrence',\n",
              "   'Josh Hutcherson',\n",
              "   'Liam Hemsworth',\n",
              "   'Woody Harrelson'): 4,\n",
              "  ('Kristen Stewart',\n",
              "   'Peter Facinelli',\n",
              "   'Robert Pattinson',\n",
              "   'Taylor Lautner'): 4},\n",
              " {('Antonio Banderas',\n",
              "   'Cameron Diaz',\n",
              "   'Eddie Murphy',\n",
              "   'Julie Andrews',\n",
              "   'Mike Myers'): 3,\n",
              "  ('Elijah Wood',\n",
              "   'Ian McKellen',\n",
              "   'Liv Tyler',\n",
              "   'Orlando Bloom',\n",
              "   'Viggo Mortensen'): 3,\n",
              "  ('Elizabeth Banks',\n",
              "   'Jennifer Lawrence',\n",
              "   'Josh Hutcherson',\n",
              "   'Liam Hemsworth',\n",
              "   'Woody Harrelson'): 3,\n",
              "  ('Famke Janssen',\n",
              "   'Halle Berry',\n",
              "   'Hugh Jackman',\n",
              "   'Ian McKellen',\n",
              "   'Patrick Stewart'): 3}]"
            ]
          },
          "metadata": {
            "tags": []
          },
          "execution_count": 429
        }
      ]
    },
    {
      "cell_type": "markdown",
      "metadata": {
        "id": "U0nONFnGVqAX"
      },
      "source": [
        "# Submission"
      ]
    },
    {
      "cell_type": "code",
      "metadata": {
        "id": "IfcaRO9-VqAX",
        "outputId": "668f7f2b-39c8-485e-8907-44574f89ea99",
        "colab": {
          "base_uri": "https://localhost:8080/"
        }
      },
      "source": [
        "# в конце можно посмотреть свои ответы к каждому вопросу\n",
        "#for index,value in sorted(answers.items():\n",
        "#  print(index,value)\n",
        "for i in range(1,28):\n",
        "  answers.setdefault(str(i),'')\n",
        "  print(str(i).rjust(2),'->',answers[str(i)])"
      ],
      "execution_count": 430,
      "outputs": [
        {
          "output_type": "stream",
          "text": [
            " 1 -> 723. Pirates of the Caribbean: On Stranger Tides (tt1298650)\n",
            " 2 -> 1157. Gods and Generals (tt0279111)\n",
            " 3 -> 768. Winnie the Pooh (tt1449283)\n",
            " 4 -> 110\n",
            " 5 -> 107\n",
            " 6 -> 239. Avatar (tt0499549)\n",
            " 7 -> 1245. The Lone Ranger (tt1210819)\n",
            " 8 -> 1478\n",
            " 9 -> 599. The Dark Knight (tt0468569)\n",
            "10 -> 1245. The Lone Ranger (tt1210819)\n",
            "11 -> Drama\n",
            "12 -> Drama\n",
            "13 -> Peter Jackson\n",
            "14 -> Robert Rodriguez\n",
            "15 -> Chris Hemsworth\n",
            "16 -> Matt Damon\n",
            "17 -> Action\n",
            "18 -> 925. K-19: The Widowmaker (tt0267626)\n",
            "19 -> 2015\n",
            "20 -> 2014\n",
            "21 -> September\n",
            "22 -> 450\n",
            "23 -> Peter Jackson\n",
            "24 -> Four By Two Productions\n",
            "25 -> Total Entertainment\n",
            "26 -> ['Inside Out', 'The Dark Knight', '12 Years a Slave']\n",
            "27 -> ('Daniel Radcliffe', 'Rupert Grint')\n"
          ],
          "name": "stdout"
        }
      ]
    },
    {
      "cell_type": "code",
      "metadata": {
        "id": "SiRmHPl8VqAd",
        "outputId": "c735f126-e135-40a4-8692-48649f133d21",
        "colab": {
          "base_uri": "https://localhost:8080/"
        }
      },
      "source": [
        "# и убедиться что ни чего не пропустил)\n",
        "len(answers)"
      ],
      "execution_count": 431,
      "outputs": [
        {
          "output_type": "execute_result",
          "data": {
            "text/plain": [
              "27"
            ]
          },
          "metadata": {
            "tags": []
          },
          "execution_count": 431
        }
      ]
    },
    {
      "cell_type": "code",
      "metadata": {
        "id": "uCfuTkRbVqAg"
      },
      "source": [
        ""
      ],
      "execution_count": null,
      "outputs": []
    }
  ]
}